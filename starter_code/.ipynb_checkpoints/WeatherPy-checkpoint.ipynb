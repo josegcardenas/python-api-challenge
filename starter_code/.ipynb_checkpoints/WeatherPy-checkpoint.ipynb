{
 "cells": [
  {
   "cell_type": "markdown",
   "metadata": {},
   "source": [
    "# WeatherPy\n",
    "----\n",
    "\n",
    "#### Note\n",
    "* Instructions have been included for each segment. You do not have to follow them exactly, but they are included to help you think through the steps."
   ]
  },
  {
   "cell_type": "code",
   "execution_count": 1,
   "metadata": {},
   "outputs": [],
   "source": [
    "#!pip install citipy"
   ]
  },
  {
   "cell_type": "code",
   "execution_count": 2,
   "metadata": {
    "scrolled": true
   },
   "outputs": [],
   "source": [
    "# Dependencies and Setup\n",
    "import matplotlib.pyplot as plt\n",
    "import pandas as pd\n",
    "import numpy as np\n",
    "import requests\n",
    "import time\n",
    "from scipy.stats import linregress\n",
    "\n",
    "# Import API key\n",
    "from api_keys import weather_api_key\n",
    "\n",
    "# Incorporated citipy to determine city based on latitude and longitude\n",
    "#!pip install citipy\n",
    "from citipy import citipy\n",
    "\n",
    "# Output File (CSV)\n",
    "output_data_file = \"output_data/cities.csv\"\n",
    "\n",
    "# Range of latitudes and longitudes\n",
    "lat_range = (-90, 90)\n",
    "lng_range = (-180, 180)"
   ]
  },
  {
   "cell_type": "code",
   "execution_count": null,
   "metadata": {},
   "outputs": [],
   "source": []
  },
  {
   "cell_type": "markdown",
   "metadata": {},
   "source": [
    "## Generate Cities List"
   ]
  },
  {
   "cell_type": "code",
   "execution_count": 3,
   "metadata": {},
   "outputs": [
    {
     "data": {
      "text/plain": [
       "613"
      ]
     },
     "execution_count": 3,
     "metadata": {},
     "output_type": "execute_result"
    }
   ],
   "source": [
    "# List for holding lat_lngs and cities\n",
    "lat_lngs = []\n",
    "cities = []\n",
    "\n",
    "# Create a set of random lat and lng combinations\n",
    "lats = np.random.uniform(lat_range[0], lat_range[1], size=1500)\n",
    "lngs = np.random.uniform(lng_range[0], lng_range[1], size=1500)\n",
    "lat_lngs = zip(lats, lngs)\n",
    "\n",
    "# Identify nearest city for each lat, lng combination\n",
    "for lat_lng in lat_lngs:\n",
    "    city = citipy.nearest_city(lat_lng[0], lat_lng[1]).city_name\n",
    "    \n",
    "    # If the city is unique, then add it to a our cities list\n",
    "    if city not in cities:\n",
    "        cities.append(city)\n",
    "\n",
    "# Print the city count to confirm sufficient count\n",
    "len(cities)"
   ]
  },
  {
   "cell_type": "markdown",
   "metadata": {},
   "source": [
    "### Perform API Calls\n",
    "* Perform a weather check on each city using a series of successive API calls.\n",
    "* Include a print log of each city as it'sbeing processed (with the city number and city name).\n"
   ]
  },
  {
   "cell_type": "code",
   "execution_count": 4,
   "metadata": {
    "scrolled": true
   },
   "outputs": [
    {
     "name": "stdout",
     "output_type": "stream",
     "text": [
      "Processing Record 1 of Set 1 | ushuaia\n",
      "Processing Record 2 of Set 1 | bredasdorp\n",
      "Processing Record 3 of Set 1 | lamar\n",
      "Processing Record 4 of Set 1 | san cristobal\n",
      "Processing Record 5 of Set 1 | khatanga\n",
      "Processing Record 6 of Set 1 | macaboboni\n",
      "City not found. Skipped...\n",
      "Processing Record 7 of Set 1 | arraial do cabo\n",
      "Processing Record 8 of Set 1 | atuona\n",
      "Processing Record 9 of Set 1 | camacha\n",
      "Processing Record 10 of Set 1 | petropavlovsk-kamchatskiy\n",
      "Processing Record 11 of Set 1 | cape town\n",
      "Processing Record 12 of Set 1 | sao joao da barra\n",
      "Processing Record 13 of Set 1 | belushya guba\n",
      "City not found. Skipped...\n",
      "Processing Record 14 of Set 1 | nizhneyansk\n",
      "City not found. Skipped...\n",
      "Processing Record 15 of Set 1 | moranbah\n",
      "Processing Record 16 of Set 1 | itarema\n",
      "Processing Record 17 of Set 1 | mys shmidta\n",
      "City not found. Skipped...\n",
      "Processing Record 18 of Set 1 | port alfred\n",
      "Processing Record 19 of Set 1 | tuktoyaktuk\n",
      "Processing Record 20 of Set 1 | geraldton\n",
      "Processing Record 21 of Set 1 | redding\n",
      "Processing Record 22 of Set 1 | vaini\n",
      "Processing Record 23 of Set 1 | remiremont\n",
      "Processing Record 24 of Set 1 | tura\n",
      "Processing Record 25 of Set 1 | anshun\n",
      "Processing Record 26 of Set 1 | saint-pascal\n",
      "City not found. Skipped...\n",
      "Processing Record 27 of Set 1 | punta arenas\n",
      "Processing Record 28 of Set 1 | hilo\n",
      "Processing Record 29 of Set 1 | port hardy\n",
      "Processing Record 30 of Set 1 | hong gai\n",
      "Processing Record 31 of Set 1 | uwayl\n",
      "City not found. Skipped...\n",
      "Processing Record 32 of Set 1 | port elizabeth\n",
      "Processing Record 33 of Set 1 | bathsheba\n",
      "Processing Record 34 of Set 1 | udachnyy\n",
      "Processing Record 35 of Set 1 | pali\n",
      "Processing Record 36 of Set 1 | hithadhoo\n",
      "Processing Record 37 of Set 1 | taseyevo\n",
      "Processing Record 38 of Set 1 | bismarck\n",
      "Processing Record 39 of Set 1 | san andres\n",
      "Processing Record 40 of Set 1 | jalu\n",
      "Processing Record 41 of Set 1 | attawapiskat\n",
      "City not found. Skipped...\n",
      "Processing Record 42 of Set 1 | thompson\n",
      "Processing Record 43 of Set 1 | esperance\n",
      "Processing Record 44 of Set 1 | beauchamps\n",
      "Processing Record 45 of Set 1 | bambous virieux\n",
      "Processing Record 46 of Set 1 | coahuayana\n",
      "Processing Record 47 of Set 1 | butaritari\n",
      "Processing Record 48 of Set 1 | vaitupu\n",
      "City not found. Skipped...\n",
      "Processing Record 49 of Set 1 | vila velha\n",
      "Processing Record 50 of Set 1 | xihe\n",
      "Processing Record 52 of Set 2 | bengkulu\n",
      "Processing Record 53 of Set 2 | nanortalik\n",
      "Processing Record 54 of Set 2 | nikolskoye\n",
      "Processing Record 55 of Set 2 | vao\n",
      "Processing Record 56 of Set 2 | mataura\n",
      "Processing Record 57 of Set 2 | chuy\n",
      "Processing Record 58 of Set 2 | luderitz\n",
      "Processing Record 59 of Set 2 | ponta do sol\n",
      "Processing Record 60 of Set 2 | rikitea\n",
      "Processing Record 61 of Set 2 | kaitangata\n",
      "Processing Record 62 of Set 2 | saleaula\n",
      "City not found. Skipped...\n",
      "Processing Record 63 of Set 2 | provideniya\n",
      "Processing Record 64 of Set 2 | henties bay\n",
      "Processing Record 65 of Set 2 | vanimo\n",
      "Processing Record 66 of Set 2 | saint-raphael\n",
      "Processing Record 67 of Set 2 | thunder bay\n",
      "Processing Record 68 of Set 2 | isangel\n",
      "Processing Record 69 of Set 2 | amderma\n",
      "City not found. Skipped...\n",
      "Processing Record 70 of Set 2 | lorengau\n",
      "Processing Record 71 of Set 2 | hermanus\n",
      "Processing Record 72 of Set 2 | aklavik\n",
      "Processing Record 73 of Set 2 | saskylakh\n",
      "Processing Record 74 of Set 2 | novikovo\n",
      "Processing Record 75 of Set 2 | necochea\n",
      "Processing Record 76 of Set 2 | afgoye\n",
      "City not found. Skipped...\n",
      "Processing Record 77 of Set 2 | karratha\n",
      "Processing Record 78 of Set 2 | wadi musa\n",
      "Processing Record 79 of Set 2 | san patricio\n",
      "Processing Record 80 of Set 2 | bluff\n",
      "Processing Record 81 of Set 2 | westport\n",
      "Processing Record 82 of Set 2 | busselton\n",
      "Processing Record 83 of Set 2 | dikson\n",
      "Processing Record 84 of Set 2 | jabiru\n",
      "City not found. Skipped...\n",
      "Processing Record 85 of Set 2 | saint-philippe\n",
      "Processing Record 86 of Set 2 | san francisco\n",
      "Processing Record 87 of Set 2 | mahebourg\n",
      "Processing Record 88 of Set 2 | najran\n",
      "Processing Record 89 of Set 2 | inuvik\n",
      "Processing Record 90 of Set 2 | taolanaro\n",
      "City not found. Skipped...\n",
      "Processing Record 91 of Set 2 | ahipara\n",
      "Processing Record 92 of Set 2 | tsihombe\n",
      "City not found. Skipped...\n",
      "Processing Record 93 of Set 2 | nacala\n",
      "Processing Record 94 of Set 2 | bucerias\n",
      "Processing Record 95 of Set 2 | torbay\n",
      "Processing Record 96 of Set 2 | grand gaube\n",
      "Processing Record 97 of Set 2 | ancud\n",
      "Processing Record 98 of Set 2 | turkistan\n",
      "Processing Record 99 of Set 2 | hobart\n",
      "Processing Record 100 of Set 2 | bur gabo\n",
      "City not found. Skipped...\n",
      "Processing Record 102 of Set 3 | saldanha\n",
      "Processing Record 103 of Set 3 | kabinda\n",
      "Processing Record 104 of Set 3 | bethel\n",
      "Processing Record 105 of Set 3 | carrboro\n",
      "Processing Record 106 of Set 3 | castro\n",
      "Processing Record 107 of Set 3 | samalaeulu\n",
      "City not found. Skipped...\n",
      "Processing Record 108 of Set 3 | mayor pablo lagerenza\n",
      "Processing Record 109 of Set 3 | bilibino\n",
      "Processing Record 110 of Set 3 | vila franca do campo\n",
      "Processing Record 111 of Set 3 | zemio\n",
      "Processing Record 112 of Set 3 | bolungarvik\n",
      "City not found. Skipped...\n",
      "Processing Record 113 of Set 3 | ubauro\n",
      "Processing Record 114 of Set 3 | egvekinot\n",
      "Processing Record 115 of Set 3 | urfa\n",
      "City not found. Skipped...\n",
      "Processing Record 116 of Set 3 | chokurdakh\n",
      "Processing Record 117 of Set 3 | avarua\n",
      "Processing Record 118 of Set 3 | yilan\n",
      "Processing Record 119 of Set 3 | salinas\n",
      "Processing Record 120 of Set 3 | carnarvon\n",
      "Processing Record 121 of Set 3 | east london\n",
      "Processing Record 122 of Set 3 | kantunilkin\n",
      "Processing Record 123 of Set 3 | rzhev\n",
      "Processing Record 124 of Set 3 | paamiut\n",
      "Processing Record 125 of Set 3 | kapit\n",
      "Processing Record 126 of Set 3 | zalantun\n",
      "Processing Record 127 of Set 3 | cherskiy\n",
      "Processing Record 128 of Set 3 | kapaa\n",
      "Processing Record 129 of Set 3 | landeck\n",
      "Processing Record 130 of Set 3 | gwanda\n",
      "Processing Record 131 of Set 3 | margate\n",
      "Processing Record 132 of Set 3 | chipinge\n",
      "Processing Record 133 of Set 3 | aflu\n",
      "City not found. Skipped...\n",
      "Processing Record 134 of Set 3 | berlevag\n",
      "Processing Record 135 of Set 3 | brae\n",
      "Processing Record 136 of Set 3 | kirensk\n",
      "Processing Record 137 of Set 3 | norman wells\n",
      "Processing Record 138 of Set 3 | buala\n",
      "Processing Record 139 of Set 3 | palmer\n",
      "Processing Record 140 of Set 3 | meyungs\n",
      "City not found. Skipped...\n",
      "Processing Record 141 of Set 3 | sheltozero\n",
      "Processing Record 142 of Set 3 | yankton\n",
      "Processing Record 143 of Set 3 | pangody\n",
      "Processing Record 144 of Set 3 | biu\n",
      "Processing Record 145 of Set 3 | inhuma\n",
      "Processing Record 146 of Set 3 | hambantota\n",
      "Processing Record 147 of Set 3 | yellowknife\n",
      "Processing Record 148 of Set 3 | illoqqortoormiut\n",
      "City not found. Skipped...\n",
      "Processing Record 149 of Set 3 | yarada\n",
      "Processing Record 150 of Set 3 | ribeira grande\n",
      "Processing Record 152 of Set 4 | mehamn\n",
      "Processing Record 153 of Set 4 | saint george\n",
      "Processing Record 154 of Set 4 | kolokani\n",
      "Processing Record 155 of Set 4 | sambava\n",
      "Processing Record 156 of Set 4 | pevek\n",
      "Processing Record 157 of Set 4 | lixourion\n",
      "Processing Record 158 of Set 4 | flinders\n",
      "Processing Record 159 of Set 4 | naze\n",
      "Processing Record 160 of Set 4 | zhigansk\n",
      "Processing Record 161 of Set 4 | faanui\n",
      "Processing Record 162 of Set 4 | nuuk\n",
      "Processing Record 163 of Set 4 | nome\n",
      "Processing Record 164 of Set 4 | harlingen\n",
      "Processing Record 165 of Set 4 | samarai\n",
      "Processing Record 166 of Set 4 | cavalcante\n",
      "Processing Record 167 of Set 4 | pisco\n",
      "Processing Record 168 of Set 4 | puerto ayora\n",
      "Processing Record 169 of Set 4 | saint-pierre\n",
      "Processing Record 170 of Set 4 | paradwip\n",
      "City not found. Skipped...\n",
      "Processing Record 171 of Set 4 | shache\n",
      "Processing Record 172 of Set 4 | padang\n",
      "Processing Record 173 of Set 4 | soligalich\n",
      "Processing Record 174 of Set 4 | comodoro rivadavia\n",
      "Processing Record 175 of Set 4 | sao joao dos patos\n",
      "Processing Record 176 of Set 4 | huanren\n",
      "Processing Record 177 of Set 4 | pandan\n",
      "Processing Record 178 of Set 4 | beroroha\n",
      "Processing Record 179 of Set 4 | havoysund\n",
      "Processing Record 180 of Set 4 | sukhoverkovo\n",
      "City not found. Skipped...\n",
      "Processing Record 181 of Set 4 | poum\n",
      "Processing Record 182 of Set 4 | sao jose da coroa grande\n",
      "Processing Record 183 of Set 4 | barrow\n",
      "Processing Record 184 of Set 4 | sovetskiy\n",
      "Processing Record 185 of Set 4 | cockburn town\n",
      "Processing Record 186 of Set 4 | gazanjyk\n",
      "Processing Record 187 of Set 4 | cubarral\n",
      "Processing Record 188 of Set 4 | seoul\n",
      "Processing Record 189 of Set 4 | tumannyy\n",
      "City not found. Skipped...\n",
      "Processing Record 190 of Set 4 | whitianga\n",
      "Processing Record 191 of Set 4 | louisbourg\n",
      "City not found. Skipped...\n",
      "Processing Record 192 of Set 4 | lompoc\n",
      "Processing Record 193 of Set 4 | perbaungan\n",
      "Processing Record 194 of Set 4 | souillac\n",
      "Processing Record 195 of Set 4 | marcona\n",
      "City not found. Skipped...\n",
      "Processing Record 196 of Set 4 | hilpoltstein\n",
      "Processing Record 197 of Set 4 | sorong\n",
      "Processing Record 198 of Set 4 | chumikan\n",
      "Processing Record 199 of Set 4 | namie\n",
      "Processing Record 200 of Set 4 | oranjestad\n",
      "Processing Record 202 of Set 5 | cabo san lucas\n",
      "Processing Record 203 of Set 5 | georgetown\n",
      "Processing Record 204 of Set 5 | bozeman\n",
      "Processing Record 205 of Set 5 | mareeba\n",
      "Processing Record 206 of Set 5 | fayetteville\n",
      "Processing Record 207 of Set 5 | mar del plata\n",
      "Processing Record 208 of Set 5 | huanan\n",
      "Processing Record 209 of Set 5 | bokoro\n",
      "Processing Record 210 of Set 5 | zyryanka\n",
      "Processing Record 211 of Set 5 | puerto leguizamo\n",
      "Processing Record 212 of Set 5 | qaanaaq\n",
      "Processing Record 213 of Set 5 | makhachkala\n",
      "Processing Record 214 of Set 5 | lagoa\n",
      "Processing Record 215 of Set 5 | miri\n",
      "Processing Record 216 of Set 5 | bandarbeyla\n",
      "Processing Record 217 of Set 5 | lolua\n",
      "City not found. Skipped...\n",
      "Processing Record 218 of Set 5 | deputatskiy\n",
      "Processing Record 219 of Set 5 | jamestown\n",
      "Processing Record 220 of Set 5 | kaeo\n",
      "Processing Record 221 of Set 5 | new norfolk\n",
      "Processing Record 222 of Set 5 | evensk\n",
      "Processing Record 223 of Set 5 | carballo\n",
      "Processing Record 224 of Set 5 | longyearbyen\n",
      "Processing Record 225 of Set 5 | victoria\n",
      "Processing Record 226 of Set 5 | goroka\n",
      "Processing Record 227 of Set 5 | airai\n",
      "Processing Record 228 of Set 5 | yongchang\n",
      "Processing Record 229 of Set 5 | oum hadjer\n",
      "Processing Record 230 of Set 5 | katsuura\n",
      "Processing Record 231 of Set 5 | coquimbo\n",
      "Processing Record 232 of Set 5 | lakatoro\n",
      "Processing Record 233 of Set 5 | beringovskiy\n",
      "Processing Record 234 of Set 5 | aksarka\n",
      "Processing Record 235 of Set 5 | aguada de pasajeros\n",
      "Processing Record 236 of Set 5 | aljezur\n",
      "Processing Record 237 of Set 5 | collierville\n",
      "Processing Record 238 of Set 5 | ketchikan\n",
      "Processing Record 239 of Set 5 | tazovskiy\n",
      "Processing Record 240 of Set 5 | hamilton\n",
      "Processing Record 241 of Set 5 | valdivia\n",
      "Processing Record 242 of Set 5 | qasigiannguit\n",
      "Processing Record 243 of Set 5 | kalabo\n",
      "Processing Record 244 of Set 5 | kungurtug\n",
      "Processing Record 245 of Set 5 | fortuna\n",
      "Processing Record 246 of Set 5 | kysyl-syr\n",
      "Processing Record 247 of Set 5 | lere\n",
      "Processing Record 248 of Set 5 | mut\n",
      "Processing Record 249 of Set 5 | dien bien\n",
      "City not found. Skipped...\n",
      "Processing Record 250 of Set 5 | fort nelson\n",
      "Processing Record 252 of Set 6 | kruisfontein\n",
      "Processing Record 253 of Set 6 | opuwo\n",
      "Processing Record 254 of Set 6 | muroto\n",
      "Processing Record 255 of Set 6 | sinnamary\n",
      "Processing Record 256 of Set 6 | andenes\n",
      "Processing Record 257 of Set 6 | bereda\n",
      "Processing Record 258 of Set 6 | upernavik\n",
      "Processing Record 259 of Set 6 | bekhtery\n",
      "Processing Record 260 of Set 6 | santarem\n",
      "Processing Record 261 of Set 6 | puerto carreno\n",
      "Processing Record 262 of Set 6 | lavrentiya\n",
      "Processing Record 263 of Set 6 | severo-kurilsk\n",
      "Processing Record 264 of Set 6 | robertsport\n",
      "Processing Record 265 of Set 6 | gurskoye\n",
      "City not found. Skipped...\n",
      "Processing Record 266 of Set 6 | pokrovsk-uralskiy\n",
      "City not found. Skipped...\n",
      "Processing Record 267 of Set 6 | berdigestyakh\n",
      "Processing Record 268 of Set 6 | clyde river\n",
      "Processing Record 269 of Set 6 | syriam\n",
      "Processing Record 270 of Set 6 | santona\n",
      "Processing Record 271 of Set 6 | yamoussoukro\n",
      "Processing Record 272 of Set 6 | zig\n",
      "Processing Record 273 of Set 6 | saint-joseph\n",
      "Processing Record 274 of Set 6 | vostok\n",
      "Processing Record 275 of Set 6 | faya\n",
      "Processing Record 276 of Set 6 | mount isa\n",
      "Processing Record 277 of Set 6 | gobabis\n",
      "Processing Record 278 of Set 6 | qui nhon\n",
      "Processing Record 279 of Set 6 | oregon\n",
      "Processing Record 280 of Set 6 | roebourne\n",
      "Processing Record 281 of Set 6 | grand river south east\n",
      "City not found. Skipped...\n",
      "Processing Record 282 of Set 6 | leshukonskoye\n",
      "Processing Record 283 of Set 6 | mortka\n",
      "Processing Record 284 of Set 6 | canico\n",
      "Processing Record 285 of Set 6 | burnie\n",
      "Processing Record 286 of Set 6 | yulara\n",
      "Processing Record 287 of Set 6 | asau\n",
      "Processing Record 288 of Set 6 | dabakala\n",
      "Processing Record 289 of Set 6 | yumen\n",
      "Processing Record 290 of Set 6 | mecca\n",
      "Processing Record 291 of Set 6 | tasiilaq\n",
      "Processing Record 292 of Set 6 | san rafael del sur\n",
      "Processing Record 293 of Set 6 | estelle\n",
      "Processing Record 294 of Set 6 | nsanje\n",
      "Processing Record 295 of Set 6 | odweyne\n",
      "Processing Record 296 of Set 6 | mount gambier\n",
      "Processing Record 297 of Set 6 | boda\n",
      "Processing Record 298 of Set 6 | sualkuchi\n",
      "Processing Record 299 of Set 6 | acapulco\n",
      "Processing Record 300 of Set 6 | sao filipe\n",
      "Processing Record 302 of Set 7 | amahai\n",
      "Processing Record 303 of Set 7 | paris\n",
      "Processing Record 304 of Set 7 | sur\n",
      "Processing Record 305 of Set 7 | san quintin\n",
      "Processing Record 306 of Set 7 | aleksandrov gay\n",
      "Processing Record 307 of Set 7 | kavieng\n",
      "Processing Record 308 of Set 7 | ewa beach\n",
      "Processing Record 309 of Set 7 | dongsheng\n",
      "Processing Record 310 of Set 7 | san vicente\n",
      "Processing Record 311 of Set 7 | ondorhaan\n",
      "City not found. Skipped...\n",
      "Processing Record 312 of Set 7 | sioux lookout\n",
      "Processing Record 313 of Set 7 | chirongui\n",
      "Processing Record 314 of Set 7 | muros\n",
      "Processing Record 315 of Set 7 | ovsyanka\n",
      "Processing Record 316 of Set 7 | narsaq\n",
      "Processing Record 317 of Set 7 | hobyo\n",
      "Processing Record 318 of Set 7 | hasaki\n",
      "Processing Record 319 of Set 7 | ostrovnoy\n",
      "Processing Record 320 of Set 7 | kupino\n",
      "Processing Record 321 of Set 7 | bubaque\n",
      "Processing Record 322 of Set 7 | monticello\n",
      "Processing Record 323 of Set 7 | tshikapa\n",
      "Processing Record 324 of Set 7 | avera\n",
      "Processing Record 325 of Set 7 | derzhavinsk\n",
      "Processing Record 326 of Set 7 | vila\n",
      "Processing Record 327 of Set 7 | lensk\n",
      "Processing Record 328 of Set 7 | batemans bay\n",
      "Processing Record 329 of Set 7 | rockhampton\n",
      "Processing Record 330 of Set 7 | bargal\n",
      "City not found. Skipped...\n",
      "Processing Record 331 of Set 7 | noumea\n",
      "Processing Record 332 of Set 7 | usak\n",
      "Processing Record 333 of Set 7 | aberdeen\n",
      "Processing Record 334 of Set 7 | quatre cocos\n",
      "Processing Record 335 of Set 7 | tateyama\n",
      "Processing Record 336 of Set 7 | baruun-urt\n",
      "Processing Record 337 of Set 7 | boissevain\n",
      "Processing Record 338 of Set 7 | dali\n",
      "Processing Record 339 of Set 7 | balkanabat\n",
      "Processing Record 340 of Set 7 | chernenko\n",
      "Processing Record 341 of Set 7 | zaraza\n",
      "Processing Record 342 of Set 7 | namatanai\n",
      "Processing Record 343 of Set 7 | atbasar\n",
      "Processing Record 344 of Set 7 | los llanos de aridane\n",
      "Processing Record 345 of Set 7 | tessalit\n",
      "Processing Record 346 of Set 7 | bongaree\n",
      "Processing Record 347 of Set 7 | maniitsoq\n",
      "Processing Record 348 of Set 7 | barentsburg\n",
      "City not found. Skipped...\n",
      "Processing Record 349 of Set 7 | tutoia\n",
      "Processing Record 350 of Set 7 | sidi ali\n",
      "Processing Record 352 of Set 8 | kangaatsiaq\n",
      "Processing Record 353 of Set 8 | kota kinabalu\n",
      "Processing Record 354 of Set 8 | baykit\n",
      "Processing Record 355 of Set 8 | nicoya\n",
      "Processing Record 356 of Set 8 | ramsar\n",
      "Processing Record 357 of Set 8 | sharkan\n",
      "Processing Record 358 of Set 8 | manzil tamim\n",
      "City not found. Skipped...\n",
      "Processing Record 359 of Set 8 | penukonda\n",
      "Processing Record 360 of Set 8 | sanghar\n",
      "Processing Record 361 of Set 8 | ulaangom\n",
      "Processing Record 362 of Set 8 | cullen\n",
      "Processing Record 363 of Set 8 | kavaratti\n",
      "Processing Record 364 of Set 8 | caravelas\n",
      "Processing Record 365 of Set 8 | guerrero negro\n",
      "Processing Record 366 of Set 8 | karkaralinsk\n",
      "City not found. Skipped...\n",
      "Processing Record 367 of Set 8 | soeng sang\n",
      "Processing Record 368 of Set 8 | ranong\n",
      "Processing Record 369 of Set 8 | kitob\n",
      "Processing Record 370 of Set 8 | ayr\n",
      "Processing Record 371 of Set 8 | olafsvik\n",
      "Processing Record 372 of Set 8 | bushehr\n",
      "Processing Record 373 of Set 8 | bosaso\n",
      "Processing Record 374 of Set 8 | port lincoln\n",
      "Processing Record 375 of Set 8 | kayes\n",
      "Processing Record 376 of Set 8 | eregli\n",
      "Processing Record 377 of Set 8 | safwah\n",
      "City not found. Skipped...\n",
      "Processing Record 378 of Set 8 | moron\n",
      "Processing Record 379 of Set 8 | srandakan\n",
      "Processing Record 380 of Set 8 | cascais\n",
      "Processing Record 381 of Set 8 | neiafu\n",
      "Processing Record 382 of Set 8 | portland\n",
      "Processing Record 383 of Set 8 | auki\n",
      "Processing Record 384 of Set 8 | barcelona\n",
      "Processing Record 385 of Set 8 | tuatapere\n",
      "Processing Record 386 of Set 8 | abu samrah\n",
      "Processing Record 387 of Set 8 | emilio carranza\n",
      "Processing Record 388 of Set 8 | bagdarin\n",
      "Processing Record 389 of Set 8 | mongomo\n",
      "Processing Record 390 of Set 8 | sitka\n",
      "Processing Record 391 of Set 8 | haines junction\n",
      "Processing Record 392 of Set 8 | dunedin\n",
      "Processing Record 393 of Set 8 | gorin\n",
      "Processing Record 394 of Set 8 | aitape\n",
      "Processing Record 395 of Set 8 | galle\n",
      "Processing Record 396 of Set 8 | kang\n",
      "Processing Record 397 of Set 8 | birjand\n",
      "Processing Record 398 of Set 8 | halmstad\n",
      "Processing Record 399 of Set 8 | zimovniki\n",
      "Processing Record 400 of Set 8 | lae\n",
      "Processing Record 402 of Set 9 | yaan\n",
      "Processing Record 403 of Set 9 | chekalin\n",
      "Processing Record 404 of Set 9 | ojinaga\n",
      "Processing Record 405 of Set 9 | azul\n",
      "Processing Record 406 of Set 9 | xuddur\n",
      "Processing Record 407 of Set 9 | yuncheng\n",
      "Processing Record 408 of Set 9 | virginia beach\n",
      "Processing Record 409 of Set 9 | xining\n",
      "Processing Record 410 of Set 9 | muscle shoals\n",
      "Processing Record 411 of Set 9 | flin flon\n",
      "Processing Record 412 of Set 9 | teya\n",
      "Processing Record 413 of Set 9 | batticaloa\n",
      "Processing Record 414 of Set 9 | swan hill\n",
      "Processing Record 415 of Set 9 | pedra\n",
      "Processing Record 416 of Set 9 | kamyaran\n",
      "Processing Record 417 of Set 9 | yeppoon\n",
      "Processing Record 418 of Set 9 | svetlogorsk\n",
      "Processing Record 419 of Set 9 | nyurba\n",
      "Processing Record 420 of Set 9 | moanda\n",
      "Processing Record 421 of Set 9 | kaoma\n",
      "Processing Record 422 of Set 9 | chardara\n",
      "Processing Record 423 of Set 9 | cabedelo\n",
      "Processing Record 424 of Set 9 | olinda\n",
      "Processing Record 425 of Set 9 | port shepstone\n",
      "Processing Record 426 of Set 9 | bensonville\n",
      "Processing Record 427 of Set 9 | lebu\n",
      "Processing Record 428 of Set 9 | antalaha\n",
      "Processing Record 429 of Set 9 | carman\n",
      "Processing Record 430 of Set 9 | melo\n",
      "Processing Record 431 of Set 9 | malumfashi\n",
      "Processing Record 432 of Set 9 | meulaboh\n",
      "Processing Record 433 of Set 9 | mashivka\n",
      "Processing Record 434 of Set 9 | adre\n",
      "Processing Record 435 of Set 9 | pacific grove\n",
      "Processing Record 436 of Set 9 | pangnirtung\n",
      "Processing Record 437 of Set 9 | krugersdorp\n",
      "Processing Record 438 of Set 9 | mosquera\n",
      "Processing Record 439 of Set 9 | taburi\n",
      "City not found. Skipped...\n",
      "Processing Record 440 of Set 9 | sentyabrskiy\n",
      "City not found. Skipped...\n",
      "Processing Record 441 of Set 9 | lumby\n",
      "Processing Record 442 of Set 9 | saint-leu\n",
      "Processing Record 443 of Set 9 | santa maria\n",
      "Processing Record 444 of Set 9 | sorland\n",
      "Processing Record 445 of Set 9 | peterhead\n",
      "Processing Record 446 of Set 9 | yerbogachen\n",
      "Processing Record 447 of Set 9 | ust-kamchatsk\n",
      "City not found. Skipped...\n",
      "Processing Record 448 of Set 9 | lagos\n",
      "Processing Record 449 of Set 9 | mocambique\n",
      "City not found. Skipped...\n",
      "Processing Record 450 of Set 9 | iqaluit\n",
      "Processing Record 452 of Set 10 | mahibadhoo\n",
      "Processing Record 453 of Set 10 | abbeville\n",
      "Processing Record 454 of Set 10 | rolim de moura\n",
      "City not found. Skipped...\n",
      "Processing Record 455 of Set 10 | palabuhanratu\n",
      "City not found. Skipped...\n",
      "Processing Record 456 of Set 10 | maarianhamina\n",
      "Processing Record 457 of Set 10 | alta floresta\n",
      "Processing Record 458 of Set 10 | touros\n",
      "Processing Record 459 of Set 10 | piste\n",
      "Processing Record 460 of Set 10 | chunoyar\n",
      "Processing Record 461 of Set 10 | peleduy\n",
      "Processing Record 462 of Set 10 | kattivakkam\n",
      "Processing Record 463 of Set 10 | makakilo city\n",
      "Processing Record 464 of Set 10 | khandbari\n",
      "Processing Record 465 of Set 10 | hami\n",
      "Processing Record 466 of Set 10 | inta\n",
      "Processing Record 467 of Set 10 | harper\n",
      "Processing Record 468 of Set 10 | praia da vitoria\n",
      "Processing Record 469 of Set 10 | seia\n",
      "Processing Record 470 of Set 10 | palana\n",
      "Processing Record 471 of Set 10 | mendahara\n",
      "City not found. Skipped...\n",
      "Processing Record 472 of Set 10 | arzgir\n",
      "Processing Record 473 of Set 10 | bowen\n",
      "Processing Record 474 of Set 10 | linqing\n",
      "Processing Record 475 of Set 10 | terrace bay\n",
      "Processing Record 476 of Set 10 | abu dhabi\n",
      "Processing Record 477 of Set 10 | chara\n",
      "Processing Record 478 of Set 10 | taoudenni\n",
      "Processing Record 479 of Set 10 | rincon\n",
      "Processing Record 480 of Set 10 | atar\n",
      "Processing Record 481 of Set 10 | kieta\n",
      "Processing Record 482 of Set 10 | sisimiut\n",
      "Processing Record 483 of Set 10 | korla\n",
      "Processing Record 484 of Set 10 | cayenne\n",
      "Processing Record 485 of Set 10 | bundaberg\n",
      "Processing Record 486 of Set 10 | loralai\n",
      "Processing Record 487 of Set 10 | bairiki\n",
      "Processing Record 488 of Set 10 | landang\n",
      "City not found. Skipped...\n",
      "Processing Record 489 of Set 10 | fort collins\n",
      "Processing Record 490 of Set 10 | cairns\n",
      "Processing Record 491 of Set 10 | lovington\n",
      "Processing Record 492 of Set 10 | solikamsk\n",
      "Processing Record 493 of Set 10 | loa janan\n",
      "Processing Record 494 of Set 10 | roma\n",
      "Processing Record 495 of Set 10 | shetpe\n",
      "Processing Record 496 of Set 10 | itaituba\n",
      "Processing Record 497 of Set 10 | nishihara\n",
      "Processing Record 498 of Set 10 | panaba\n",
      "Processing Record 499 of Set 10 | hoi an\n",
      "Processing Record 500 of Set 10 | yunjinghong\n",
      "City not found. Skipped...\n",
      "Processing Record 502 of Set 11 | balangir\n",
      "Processing Record 503 of Set 11 | dhidhdhoo\n",
      "Processing Record 504 of Set 11 | maceio\n",
      "Processing Record 505 of Set 11 | brigantine\n",
      "Processing Record 506 of Set 11 | hualmay\n",
      "Processing Record 507 of Set 11 | cap malheureux\n",
      "Processing Record 508 of Set 11 | dabola\n",
      "Processing Record 509 of Set 11 | nortelandia\n",
      "Processing Record 510 of Set 11 | jesup\n",
      "Processing Record 511 of Set 11 | alberdi\n",
      "Processing Record 512 of Set 11 | tiksi\n",
      "Processing Record 513 of Set 11 | santa rosa de cabal\n",
      "Processing Record 514 of Set 11 | shagonar\n",
      "Processing Record 515 of Set 11 | majene\n",
      "Processing Record 516 of Set 11 | ilulissat\n",
      "Processing Record 517 of Set 11 | codrington\n",
      "Processing Record 518 of Set 11 | merauke\n",
      "Processing Record 519 of Set 11 | nalut\n",
      "Processing Record 520 of Set 11 | kurilsk\n",
      "Processing Record 521 of Set 11 | chepareria\n",
      "Processing Record 522 of Set 11 | karaul\n",
      "City not found. Skipped...\n",
      "Processing Record 523 of Set 11 | gigmoto\n",
      "Processing Record 524 of Set 11 | richards bay\n",
      "Processing Record 525 of Set 11 | east ridge\n",
      "Processing Record 526 of Set 11 | rocha\n",
      "Processing Record 527 of Set 11 | chiheru de jos\n",
      "Processing Record 528 of Set 11 | roald\n",
      "Processing Record 529 of Set 11 | ponta delgada\n",
      "Processing Record 530 of Set 11 | dubbo\n",
      "Processing Record 531 of Set 11 | wuchang\n",
      "Processing Record 532 of Set 11 | gat\n",
      "Processing Record 533 of Set 11 | alofi\n",
      "Processing Record 534 of Set 11 | kosa\n",
      "Processing Record 535 of Set 11 | laguna\n",
      "Processing Record 536 of Set 11 | uruzgan\n",
      "Processing Record 537 of Set 11 | acara\n",
      "Processing Record 538 of Set 11 | cidreira\n",
      "Processing Record 539 of Set 11 | larap\n",
      "Processing Record 540 of Set 11 | tuggurt\n",
      "City not found. Skipped...\n",
      "Processing Record 541 of Set 11 | dolores\n",
      "Processing Record 542 of Set 11 | enshi\n",
      "Processing Record 543 of Set 11 | pemba\n",
      "Processing Record 544 of Set 11 | natal\n",
      "Processing Record 545 of Set 11 | aksu\n",
      "Processing Record 546 of Set 11 | tawau\n",
      "Processing Record 547 of Set 11 | katherine\n",
      "Processing Record 548 of Set 11 | muisne\n",
      "Processing Record 549 of Set 11 | igarka\n",
      "Processing Record 550 of Set 11 | vestmannaeyjar\n",
      "Processing Record 552 of Set 12 | teguldet\n",
      "Processing Record 553 of Set 12 | joetsu\n",
      "Processing Record 554 of Set 12 | hakkari\n",
      "Processing Record 555 of Set 12 | nantucket\n",
      "Processing Record 556 of Set 12 | sibolga\n",
      "Processing Record 557 of Set 12 | batagay\n",
      "Processing Record 558 of Set 12 | constitucion\n",
      "Processing Record 559 of Set 12 | petropavlovka\n",
      "Processing Record 560 of Set 12 | luba\n",
      "Processing Record 561 of Set 12 | abilene\n",
      "Processing Record 562 of Set 12 | palmas\n",
      "Processing Record 563 of Set 12 | canan\n",
      "Processing Record 564 of Set 12 | duz\n",
      "City not found. Skipped...\n",
      "Processing Record 565 of Set 12 | sabang\n",
      "Processing Record 566 of Set 12 | uri\n",
      "Processing Record 567 of Set 12 | pingliang\n",
      "Processing Record 568 of Set 12 | edeia\n",
      "Processing Record 569 of Set 12 | kautokeino\n",
      "Processing Record 570 of Set 12 | rantoul\n",
      "Processing Record 571 of Set 12 | kamenka\n",
      "Processing Record 572 of Set 12 | samusu\n",
      "City not found. Skipped...\n",
      "Processing Record 573 of Set 12 | mariental\n",
      "Processing Record 574 of Set 12 | andros town\n",
      "Processing Record 575 of Set 12 | moerai\n",
      "Processing Record 576 of Set 12 | dano\n",
      "Processing Record 577 of Set 12 | quelimane\n",
      "Processing Record 578 of Set 12 | shizunai\n",
      "Processing Record 579 of Set 12 | obluche\n",
      "City not found. Skipped...\n",
      "Processing Record 580 of Set 12 | kahului\n",
      "Processing Record 581 of Set 12 | zabid\n",
      "Processing Record 582 of Set 12 | long\n",
      "Processing Record 583 of Set 12 | mlonggo\n",
      "Processing Record 584 of Set 12 | nguiu\n",
      "City not found. Skipped...\n",
      "Processing Record 585 of Set 12 | tungor\n",
      "Processing Record 586 of Set 12 | matongo\n",
      "Processing Record 587 of Set 12 | nueva esperanza\n",
      "Processing Record 588 of Set 12 | rawannawi\n",
      "City not found. Skipped...\n",
      "Processing Record 589 of Set 12 | tharad\n",
      "Processing Record 590 of Set 12 | la rioja\n",
      "Processing Record 591 of Set 12 | klaksvik\n",
      "Processing Record 592 of Set 12 | vokhtoga\n",
      "Processing Record 593 of Set 12 | anloga\n",
      "Processing Record 594 of Set 12 | labuhan\n",
      "Processing Record 595 of Set 12 | tra vinh\n",
      "Processing Record 596 of Set 12 | benjamin hill\n",
      "Processing Record 597 of Set 12 | baoqing\n",
      "Processing Record 598 of Set 12 | half moon bay\n",
      "Processing Record 599 of Set 12 | dom pedrito\n",
      "Processing Record 600 of Set 12 | pihuamo\n",
      "City not found. Skipped...\n"
     ]
    }
   ],
   "source": [
    "#Base URL to pull from:\n",
    "\n",
    "url = \"http://api.openweathermap.org/data/2.5/weather?units=Imperial&APPID=\" + weather_api_key\n",
    "\n",
    "cities_list = []\n",
    "\n",
    "\n",
    "for index, city in enumerate(cities):\n",
    "    try: \n",
    "            if (index <50):\n",
    "                print(f'Processing Record {index + 1} of Set {1}'\\\n",
    "                 f' | {city}')\n",
    "            if (index<100) & (index>50):\n",
    "                print(f'Processing Record {index + 1} of Set {2}'\\\n",
    "                f' | {city}')\n",
    "            if (index<150) & (index>100):\n",
    "                print(f'Processing Record {index + 1} of Set {3}'\\\n",
    "                f' | {city}')\n",
    "            if (index<200) & (index>150):\n",
    "                print(f'Processing Record {index + 1} of Set {4}'\\\n",
    "                 f' | {city}')\n",
    "            if (index<250) & (index>200):\n",
    "                print(f'Processing Record {index + 1} of Set {5}'\\\n",
    "                 f' | {city}')\n",
    "            if (index<300) & (index>250):\n",
    "                print(f'Processing Record {index + 1} of Set {6}'\\\n",
    "                 f' | {city}')\n",
    "            if (index<350) & (index>300):\n",
    "                print(f'Processing Record {index + 1} of Set {7}'\\\n",
    "                 f' | {city}')\n",
    "            if (index<400) & (index>350):\n",
    "                print(f'Processing Record {index + 1} of Set {8}'\\\n",
    "                 f' | {city}')\n",
    "            if (index<450) & (index>400):\n",
    "                print(f'Processing Record {index + 1} of Set {9}'\\\n",
    "                 f' | {city}')\n",
    "            if (index<500) & (index>450):\n",
    "                print(f'Processing Record {index + 1} of Set {10}'\\\n",
    "                 f' | {city}')\n",
    "            if (index<550) & (index>500):\n",
    "                print(f'Processing Record {index + 1} of Set {11}'\\\n",
    "                 f' | {city}')\n",
    "            if (index<600) & (index>550):\n",
    "                print(f'Processing Record {index + 1} of Set {12}'\\\n",
    "                 f' | {city}')\n",
    "    \n",
    "    #URL per city            \n",
    "            city_url = url + \"&q=\" + city \n",
    "    \n",
    "    \n",
    "    #Retrieve data\n",
    "            city_weather = requests.get(city_url).json()\n",
    "\n",
    "        # Parse out the max temp, humidity, and cloudiness\n",
    "            city_lat = city_weather[\"coord\"][\"lat\"]\n",
    "            city_lng = city_weather[\"coord\"][\"lon\"]\n",
    "            city_max_temp = city_weather[\"main\"][\"temp_max\"]\n",
    "            city_humidity = city_weather[\"main\"][\"humidity\"]\n",
    "            city_clouds = city_weather[\"clouds\"][\"all\"]\n",
    "            city_wind = city_weather[\"wind\"][\"speed\"]\n",
    "            city_country = city_weather[\"sys\"][\"country\"]\n",
    "            city_date = city_weather[\"dt\"]\n",
    "\n",
    "        # Append the City information into city_data list\n",
    "            cities_list.append({\"City\": city, \n",
    "                              \"Lat\": city_lat, \n",
    "                              \"Lng\": city_lng, \n",
    "                              \"Max Temp\": city_max_temp,\n",
    "                              \"Humidity\": city_humidity,\n",
    "                              \"Cloudiness\": city_clouds,\n",
    "                              \"Wind Speed\": city_wind,\n",
    "                              \"Country\": city_country,\n",
    "                              \"Date\": city_date}) \n",
    "    except:\n",
    "        print(\"City not found. Skipped...\")\n",
    "    pass\n"
   ]
  },
  {
   "cell_type": "markdown",
   "metadata": {},
   "source": [
    "### Convert Raw Data to DataFrame\n",
    "* Export the city data into a .csv.\n",
    "* Display the DataFrame"
   ]
  },
  {
   "cell_type": "code",
   "execution_count": 5,
   "metadata": {},
   "outputs": [
    {
     "name": "stdout",
     "output_type": "stream",
     "text": [
      "{'coord': {'lon': -45.1931, 'lat': -11.0483}, 'weather': [{'id': 803, 'main': 'Clouds', 'description': 'broken clouds', 'icon': '04n'}], 'base': 'stations', 'main': {'temp': 74.37, 'feels_like': 74.14, 'temp_min': 74.37, 'temp_max': 74.37, 'pressure': 1015, 'humidity': 56, 'sea_level': 1015, 'grnd_level': 960}, 'visibility': 10000, 'wind': {'speed': 2.68, 'deg': 198, 'gust': 2.68}, 'clouds': {'all': 61}, 'dt': 1623894031, 'sys': {'country': 'BR', 'sunrise': 1623835032, 'sunset': 1623876354}, 'timezone': -10800, 'id': 3463124, 'name': 'Formosa do Rio Preto', 'cod': 200}\n"
     ]
    }
   ],
   "source": [
    "print(city_weather)"
   ]
  },
  {
   "cell_type": "code",
   "execution_count": 6,
   "metadata": {},
   "outputs": [
    {
     "data": {
      "text/html": [
       "<div>\n",
       "<style scoped>\n",
       "    .dataframe tbody tr th:only-of-type {\n",
       "        vertical-align: middle;\n",
       "    }\n",
       "\n",
       "    .dataframe tbody tr th {\n",
       "        vertical-align: top;\n",
       "    }\n",
       "\n",
       "    .dataframe thead th {\n",
       "        text-align: right;\n",
       "    }\n",
       "</style>\n",
       "<table border=\"1\" class=\"dataframe\">\n",
       "  <thead>\n",
       "    <tr style=\"text-align: right;\">\n",
       "      <th></th>\n",
       "      <th>City</th>\n",
       "      <th>Lat</th>\n",
       "      <th>Lng</th>\n",
       "      <th>Max Temp</th>\n",
       "      <th>Humidity</th>\n",
       "      <th>Cloudiness</th>\n",
       "      <th>Wind Speed</th>\n",
       "      <th>Country</th>\n",
       "      <th>Date</th>\n",
       "    </tr>\n",
       "  </thead>\n",
       "  <tbody>\n",
       "    <tr>\n",
       "      <th>0</th>\n",
       "      <td>ushuaia</td>\n",
       "      <td>-54.8000</td>\n",
       "      <td>-68.3000</td>\n",
       "      <td>35.26</td>\n",
       "      <td>69</td>\n",
       "      <td>0</td>\n",
       "      <td>6.91</td>\n",
       "      <td>AR</td>\n",
       "      <td>1623893808</td>\n",
       "    </tr>\n",
       "    <tr>\n",
       "      <th>1</th>\n",
       "      <td>bredasdorp</td>\n",
       "      <td>-34.5322</td>\n",
       "      <td>20.0403</td>\n",
       "      <td>52.92</td>\n",
       "      <td>82</td>\n",
       "      <td>4</td>\n",
       "      <td>4.61</td>\n",
       "      <td>ZA</td>\n",
       "      <td>1623893698</td>\n",
       "    </tr>\n",
       "    <tr>\n",
       "      <th>2</th>\n",
       "      <td>lamar</td>\n",
       "      <td>33.6668</td>\n",
       "      <td>-95.5836</td>\n",
       "      <td>89.51</td>\n",
       "      <td>58</td>\n",
       "      <td>1</td>\n",
       "      <td>5.75</td>\n",
       "      <td>US</td>\n",
       "      <td>1623893809</td>\n",
       "    </tr>\n",
       "    <tr>\n",
       "      <th>3</th>\n",
       "      <td>san cristobal</td>\n",
       "      <td>7.7669</td>\n",
       "      <td>-72.2250</td>\n",
       "      <td>69.98</td>\n",
       "      <td>93</td>\n",
       "      <td>96</td>\n",
       "      <td>2.33</td>\n",
       "      <td>VE</td>\n",
       "      <td>1623893809</td>\n",
       "    </tr>\n",
       "    <tr>\n",
       "      <th>4</th>\n",
       "      <td>khatanga</td>\n",
       "      <td>71.9667</td>\n",
       "      <td>102.5000</td>\n",
       "      <td>61.65</td>\n",
       "      <td>66</td>\n",
       "      <td>57</td>\n",
       "      <td>11.25</td>\n",
       "      <td>RU</td>\n",
       "      <td>1623893810</td>\n",
       "    </tr>\n",
       "  </tbody>\n",
       "</table>\n",
       "</div>"
      ],
      "text/plain": [
       "            City      Lat       Lng  Max Temp  Humidity  Cloudiness  \\\n",
       "0        ushuaia -54.8000  -68.3000     35.26        69           0   \n",
       "1     bredasdorp -34.5322   20.0403     52.92        82           4   \n",
       "2          lamar  33.6668  -95.5836     89.51        58           1   \n",
       "3  san cristobal   7.7669  -72.2250     69.98        93          96   \n",
       "4       khatanga  71.9667  102.5000     61.65        66          57   \n",
       "\n",
       "   Wind Speed Country        Date  \n",
       "0        6.91      AR  1623893808  \n",
       "1        4.61      ZA  1623893698  \n",
       "2        5.75      US  1623893809  \n",
       "3        2.33      VE  1623893809  \n",
       "4       11.25      RU  1623893810  "
      ]
     },
     "execution_count": 6,
     "metadata": {},
     "output_type": "execute_result"
    }
   ],
   "source": [
    "city_df = pd.DataFrame(cities_list)\n",
    "city_df.head()"
   ]
  },
  {
   "cell_type": "code",
   "execution_count": 7,
   "metadata": {},
   "outputs": [
    {
     "data": {
      "text/plain": [
       "City          559\n",
       "Lat           559\n",
       "Lng           559\n",
       "Max Temp      559\n",
       "Humidity      559\n",
       "Cloudiness    559\n",
       "Wind Speed    559\n",
       "Country       559\n",
       "Date          559\n",
       "dtype: int64"
      ]
     },
     "execution_count": 7,
     "metadata": {},
     "output_type": "execute_result"
    }
   ],
   "source": [
    "city_df.count()"
   ]
  },
  {
   "cell_type": "code",
   "execution_count": 8,
   "metadata": {},
   "outputs": [],
   "source": [
    "city_df.to_csv(\"WeatherHW.csv\", index = False)"
   ]
  },
  {
   "cell_type": "code",
   "execution_count": 9,
   "metadata": {},
   "outputs": [
    {
     "data": {
      "text/html": [
       "<div>\n",
       "<style scoped>\n",
       "    .dataframe tbody tr th:only-of-type {\n",
       "        vertical-align: middle;\n",
       "    }\n",
       "\n",
       "    .dataframe tbody tr th {\n",
       "        vertical-align: top;\n",
       "    }\n",
       "\n",
       "    .dataframe thead th {\n",
       "        text-align: right;\n",
       "    }\n",
       "</style>\n",
       "<table border=\"1\" class=\"dataframe\">\n",
       "  <thead>\n",
       "    <tr style=\"text-align: right;\">\n",
       "      <th></th>\n",
       "      <th>City</th>\n",
       "      <th>Lat</th>\n",
       "      <th>Lng</th>\n",
       "      <th>Max Temp</th>\n",
       "      <th>Humidity</th>\n",
       "      <th>Cloudiness</th>\n",
       "      <th>Wind Speed</th>\n",
       "      <th>Country</th>\n",
       "      <th>Date</th>\n",
       "    </tr>\n",
       "  </thead>\n",
       "  <tbody>\n",
       "    <tr>\n",
       "      <th>0</th>\n",
       "      <td>ushuaia</td>\n",
       "      <td>-54.8000</td>\n",
       "      <td>-68.3000</td>\n",
       "      <td>35.26</td>\n",
       "      <td>69</td>\n",
       "      <td>0</td>\n",
       "      <td>6.91</td>\n",
       "      <td>AR</td>\n",
       "      <td>1623893808</td>\n",
       "    </tr>\n",
       "    <tr>\n",
       "      <th>1</th>\n",
       "      <td>bredasdorp</td>\n",
       "      <td>-34.5322</td>\n",
       "      <td>20.0403</td>\n",
       "      <td>52.92</td>\n",
       "      <td>82</td>\n",
       "      <td>4</td>\n",
       "      <td>4.61</td>\n",
       "      <td>ZA</td>\n",
       "      <td>1623893698</td>\n",
       "    </tr>\n",
       "    <tr>\n",
       "      <th>2</th>\n",
       "      <td>lamar</td>\n",
       "      <td>33.6668</td>\n",
       "      <td>-95.5836</td>\n",
       "      <td>89.51</td>\n",
       "      <td>58</td>\n",
       "      <td>1</td>\n",
       "      <td>5.75</td>\n",
       "      <td>US</td>\n",
       "      <td>1623893809</td>\n",
       "    </tr>\n",
       "    <tr>\n",
       "      <th>3</th>\n",
       "      <td>san cristobal</td>\n",
       "      <td>7.7669</td>\n",
       "      <td>-72.2250</td>\n",
       "      <td>69.98</td>\n",
       "      <td>93</td>\n",
       "      <td>96</td>\n",
       "      <td>2.33</td>\n",
       "      <td>VE</td>\n",
       "      <td>1623893809</td>\n",
       "    </tr>\n",
       "    <tr>\n",
       "      <th>4</th>\n",
       "      <td>khatanga</td>\n",
       "      <td>71.9667</td>\n",
       "      <td>102.5000</td>\n",
       "      <td>61.65</td>\n",
       "      <td>66</td>\n",
       "      <td>57</td>\n",
       "      <td>11.25</td>\n",
       "      <td>RU</td>\n",
       "      <td>1623893810</td>\n",
       "    </tr>\n",
       "    <tr>\n",
       "      <th>...</th>\n",
       "      <td>...</td>\n",
       "      <td>...</td>\n",
       "      <td>...</td>\n",
       "      <td>...</td>\n",
       "      <td>...</td>\n",
       "      <td>...</td>\n",
       "      <td>...</td>\n",
       "      <td>...</td>\n",
       "      <td>...</td>\n",
       "    </tr>\n",
       "    <tr>\n",
       "      <th>554</th>\n",
       "      <td>menongue</td>\n",
       "      <td>-14.6585</td>\n",
       "      <td>17.6910</td>\n",
       "      <td>48.18</td>\n",
       "      <td>45</td>\n",
       "      <td>4</td>\n",
       "      <td>3.36</td>\n",
       "      <td>AO</td>\n",
       "      <td>1623894030</td>\n",
       "    </tr>\n",
       "    <tr>\n",
       "      <th>555</th>\n",
       "      <td>solnechnyy</td>\n",
       "      <td>50.7214</td>\n",
       "      <td>136.6319</td>\n",
       "      <td>82.63</td>\n",
       "      <td>40</td>\n",
       "      <td>99</td>\n",
       "      <td>10.87</td>\n",
       "      <td>RU</td>\n",
       "      <td>1623893756</td>\n",
       "    </tr>\n",
       "    <tr>\n",
       "      <th>556</th>\n",
       "      <td>vaitape</td>\n",
       "      <td>-16.5167</td>\n",
       "      <td>-151.7500</td>\n",
       "      <td>80.24</td>\n",
       "      <td>77</td>\n",
       "      <td>100</td>\n",
       "      <td>19.30</td>\n",
       "      <td>PF</td>\n",
       "      <td>1623894031</td>\n",
       "    </tr>\n",
       "    <tr>\n",
       "      <th>557</th>\n",
       "      <td>alamogordo</td>\n",
       "      <td>32.8995</td>\n",
       "      <td>-105.9603</td>\n",
       "      <td>94.35</td>\n",
       "      <td>24</td>\n",
       "      <td>1</td>\n",
       "      <td>18.41</td>\n",
       "      <td>US</td>\n",
       "      <td>1623893737</td>\n",
       "    </tr>\n",
       "    <tr>\n",
       "      <th>558</th>\n",
       "      <td>formosa do rio preto</td>\n",
       "      <td>-11.0483</td>\n",
       "      <td>-45.1931</td>\n",
       "      <td>74.37</td>\n",
       "      <td>56</td>\n",
       "      <td>61</td>\n",
       "      <td>2.68</td>\n",
       "      <td>BR</td>\n",
       "      <td>1623894031</td>\n",
       "    </tr>\n",
       "  </tbody>\n",
       "</table>\n",
       "<p>559 rows × 9 columns</p>\n",
       "</div>"
      ],
      "text/plain": [
       "                     City      Lat       Lng  Max Temp  Humidity  Cloudiness  \\\n",
       "0                 ushuaia -54.8000  -68.3000     35.26        69           0   \n",
       "1              bredasdorp -34.5322   20.0403     52.92        82           4   \n",
       "2                   lamar  33.6668  -95.5836     89.51        58           1   \n",
       "3           san cristobal   7.7669  -72.2250     69.98        93          96   \n",
       "4                khatanga  71.9667  102.5000     61.65        66          57   \n",
       "..                    ...      ...       ...       ...       ...         ...   \n",
       "554              menongue -14.6585   17.6910     48.18        45           4   \n",
       "555            solnechnyy  50.7214  136.6319     82.63        40          99   \n",
       "556               vaitape -16.5167 -151.7500     80.24        77         100   \n",
       "557            alamogordo  32.8995 -105.9603     94.35        24           1   \n",
       "558  formosa do rio preto -11.0483  -45.1931     74.37        56          61   \n",
       "\n",
       "     Wind Speed Country        Date  \n",
       "0          6.91      AR  1623893808  \n",
       "1          4.61      ZA  1623893698  \n",
       "2          5.75      US  1623893809  \n",
       "3          2.33      VE  1623893809  \n",
       "4         11.25      RU  1623893810  \n",
       "..          ...     ...         ...  \n",
       "554        3.36      AO  1623894030  \n",
       "555       10.87      RU  1623893756  \n",
       "556       19.30      PF  1623894031  \n",
       "557       18.41      US  1623893737  \n",
       "558        2.68      BR  1623894031  \n",
       "\n",
       "[559 rows x 9 columns]"
      ]
     },
     "execution_count": 9,
     "metadata": {},
     "output_type": "execute_result"
    }
   ],
   "source": [
    "city_df"
   ]
  },
  {
   "cell_type": "markdown",
   "metadata": {},
   "source": [
    "## Inspect the data and remove the cities where the humidity > 100%.\n",
    "----\n",
    "Skip this step if there are no cities that have humidity > 100%. "
   ]
  },
  {
   "cell_type": "code",
   "execution_count": 10,
   "metadata": {},
   "outputs": [
    {
     "data": {
      "text/html": [
       "<div>\n",
       "<style scoped>\n",
       "    .dataframe tbody tr th:only-of-type {\n",
       "        vertical-align: middle;\n",
       "    }\n",
       "\n",
       "    .dataframe tbody tr th {\n",
       "        vertical-align: top;\n",
       "    }\n",
       "\n",
       "    .dataframe thead th {\n",
       "        text-align: right;\n",
       "    }\n",
       "</style>\n",
       "<table border=\"1\" class=\"dataframe\">\n",
       "  <thead>\n",
       "    <tr style=\"text-align: right;\">\n",
       "      <th></th>\n",
       "      <th>Lat</th>\n",
       "      <th>Lng</th>\n",
       "      <th>Max Temp</th>\n",
       "      <th>Humidity</th>\n",
       "      <th>Cloudiness</th>\n",
       "      <th>Wind Speed</th>\n",
       "      <th>Date</th>\n",
       "    </tr>\n",
       "  </thead>\n",
       "  <tbody>\n",
       "    <tr>\n",
       "      <th>count</th>\n",
       "      <td>559.000000</td>\n",
       "      <td>559.000000</td>\n",
       "      <td>559.000000</td>\n",
       "      <td>559.000000</td>\n",
       "      <td>559.000000</td>\n",
       "      <td>559.000000</td>\n",
       "      <td>5.590000e+02</td>\n",
       "    </tr>\n",
       "    <tr>\n",
       "      <th>mean</th>\n",
       "      <td>20.407576</td>\n",
       "      <td>21.193494</td>\n",
       "      <td>68.119213</td>\n",
       "      <td>69.629696</td>\n",
       "      <td>55.228980</td>\n",
       "      <td>7.528444</td>\n",
       "      <td>1.623894e+09</td>\n",
       "    </tr>\n",
       "    <tr>\n",
       "      <th>std</th>\n",
       "      <td>32.818399</td>\n",
       "      <td>91.159227</td>\n",
       "      <td>14.769594</td>\n",
       "      <td>20.468016</td>\n",
       "      <td>40.164552</td>\n",
       "      <td>5.461829</td>\n",
       "      <td>9.450799e+01</td>\n",
       "    </tr>\n",
       "    <tr>\n",
       "      <th>min</th>\n",
       "      <td>-54.800000</td>\n",
       "      <td>-179.166700</td>\n",
       "      <td>30.360000</td>\n",
       "      <td>8.000000</td>\n",
       "      <td>0.000000</td>\n",
       "      <td>0.000000</td>\n",
       "      <td>1.623894e+09</td>\n",
       "    </tr>\n",
       "    <tr>\n",
       "      <th>25%</th>\n",
       "      <td>-6.514150</td>\n",
       "      <td>-56.034850</td>\n",
       "      <td>57.430000</td>\n",
       "      <td>59.000000</td>\n",
       "      <td>10.000000</td>\n",
       "      <td>3.545000</td>\n",
       "      <td>1.623894e+09</td>\n",
       "    </tr>\n",
       "    <tr>\n",
       "      <th>50%</th>\n",
       "      <td>24.757000</td>\n",
       "      <td>26.891000</td>\n",
       "      <td>69.570000</td>\n",
       "      <td>74.000000</td>\n",
       "      <td>69.000000</td>\n",
       "      <td>6.130000</td>\n",
       "      <td>1.623894e+09</td>\n",
       "    </tr>\n",
       "    <tr>\n",
       "      <th>75%</th>\n",
       "      <td>46.969200</td>\n",
       "      <td>101.198750</td>\n",
       "      <td>79.650000</td>\n",
       "      <td>84.000000</td>\n",
       "      <td>99.000000</td>\n",
       "      <td>9.885000</td>\n",
       "      <td>1.623894e+09</td>\n",
       "    </tr>\n",
       "    <tr>\n",
       "      <th>max</th>\n",
       "      <td>78.218600</td>\n",
       "      <td>179.316700</td>\n",
       "      <td>113.470000</td>\n",
       "      <td>100.000000</td>\n",
       "      <td>100.000000</td>\n",
       "      <td>26.930000</td>\n",
       "      <td>1.623894e+09</td>\n",
       "    </tr>\n",
       "  </tbody>\n",
       "</table>\n",
       "</div>"
      ],
      "text/plain": [
       "              Lat         Lng    Max Temp    Humidity  Cloudiness  Wind Speed  \\\n",
       "count  559.000000  559.000000  559.000000  559.000000  559.000000  559.000000   \n",
       "mean    20.407576   21.193494   68.119213   69.629696   55.228980    7.528444   \n",
       "std     32.818399   91.159227   14.769594   20.468016   40.164552    5.461829   \n",
       "min    -54.800000 -179.166700   30.360000    8.000000    0.000000    0.000000   \n",
       "25%     -6.514150  -56.034850   57.430000   59.000000   10.000000    3.545000   \n",
       "50%     24.757000   26.891000   69.570000   74.000000   69.000000    6.130000   \n",
       "75%     46.969200  101.198750   79.650000   84.000000   99.000000    9.885000   \n",
       "max     78.218600  179.316700  113.470000  100.000000  100.000000   26.930000   \n",
       "\n",
       "               Date  \n",
       "count  5.590000e+02  \n",
       "mean   1.623894e+09  \n",
       "std    9.450799e+01  \n",
       "min    1.623894e+09  \n",
       "25%    1.623894e+09  \n",
       "50%    1.623894e+09  \n",
       "75%    1.623894e+09  \n",
       "max    1.623894e+09  "
      ]
     },
     "execution_count": 10,
     "metadata": {},
     "output_type": "execute_result"
    }
   ],
   "source": [
    "city_df.describe()"
   ]
  },
  {
   "cell_type": "code",
   "execution_count": 11,
   "metadata": {},
   "outputs": [],
   "source": [
    "#NO City with humidity above 100%"
   ]
  },
  {
   "cell_type": "markdown",
   "metadata": {},
   "source": [
    "## Plotting the Data\n",
    "* Use proper labeling of the plots using plot titles (including date of analysis) and axes labels.\n",
    "* Save the plotted figures as .pngs."
   ]
  },
  {
   "cell_type": "markdown",
   "metadata": {},
   "source": [
    "## Latitude vs. Temperature Plot"
   ]
  },
  {
   "cell_type": "code",
   "execution_count": 14,
   "metadata": {
    "scrolled": true
   },
   "outputs": [
    {
     "data": {
      "text/plain": [
       "<function matplotlib.pyplot.show(close=None, block=None)>"
      ]
     },
     "execution_count": 14,
     "metadata": {},
     "output_type": "execute_result"
    },
    {
     "data": {
      "image/png": "[encoded data removed]",
      "text/plain": [
       "<Figure size 432x288 with 1 Axes>"
      ]
     },
     "metadata": {
      "needs_background": "light"
     },
     "output_type": "display_data"
    }
   ],
   "source": [
    "latitude = city_df[\"Lat\"]\n",
    "temperature = city_df[\"Max Temp\"]\n",
    "#Plot the lat vs max temp\n",
    "plt.xlabel(\"Latitude\")\n",
    "plt.ylabel(\"Max Temperature (F)\")\n",
    "plt.title(\"Latitude vs. Temperature\")\n",
    "plt.scatter(latitude, temperature, color = \"red\", edgecolors = \"black\")\n",
    "plt.savefig(\"../output_data/Fig1.png\")\n",
    "plt.show"
   ]
  },
  {
   "cell_type": "markdown",
   "metadata": {
    "tags": []
   },
   "source": [
    "In the plot above we see the correlation between the latitude of a city and their respective highest recorded temperature. We can clearly see that the highest temperatures are recorded nearest the latitude value of zero in an upside down parabola. We can understand this correlation in a higher level by understanding that the latitude value of zero represents the Equator while the outter extremities are the North and South Poles."
   ]
  },
  {
   "cell_type": "markdown",
   "metadata": {},
   "source": [
    "## Latitude vs. Humidity Plot"
   ]
  },
  {
   "cell_type": "code",
   "execution_count": 15,
   "metadata": {},
   "outputs": [
    {
     "data": {
      "text/plain": [
       "<function matplotlib.pyplot.show(close=None, block=None)>"
      ]
     },
     "execution_count": 15,
     "metadata": {},
     "output_type": "execute_result"
    },
    {
     "data": {
      "image/png": "[encoded data removed]",
      "text/plain": [
       "<Figure size 432x288 with 1 Axes>"
      ]
     },
     "metadata": {
      "needs_background": "light"
     },
     "output_type": "display_data"
    }
   ],
   "source": [
    "humidity = city_df[\"Humidity\"]\n",
    "\n",
    "plt.xlabel(\"Latitude\"),\n",
    "plt.ylabel(\"Humidity %\"),\n",
    "plt.title(\"Latitude vs. Humidity\"),\n",
    "plt.scatter(latitude, humidity, edgecolors= \"black\"),\n",
    "plt.savefig(\"../output_data/Fig2.png\")\n",
    "plt.show\n"
   ]
  },
  {
   "cell_type": "markdown",
   "metadata": {},
   "source": [
    "There seems to be more humidity in cities with a negative Latitude value with all values plotted having more than 25 percent humidity. The cities with a positive latitude tend to have a much more spread out range of humidity percentages but many of them do fall under the 25% value. In essence, there is usually more rain in the Southern Hemisphere or at least more humidity."
   ]
  },
  {
   "cell_type": "markdown",
   "metadata": {},
   "source": [
    "## Latitude vs. Cloudiness Plot"
   ]
  },
  {
   "cell_type": "code",
   "execution_count": 16,
   "metadata": {},
   "outputs": [
    {
     "data": {
      "text/plain": [
       "<function matplotlib.pyplot.show(close=None, block=None)>"
      ]
     },
     "execution_count": 16,
     "metadata": {},
     "output_type": "execute_result"
    },
    {
     "data": {
      "image/png": "[encoded data removed]",
      "text/plain": [
       "<Figure size 432x288 with 1 Axes>"
      ]
     },
     "metadata": {
      "needs_background": "light"
     },
     "output_type": "display_data"
    }
   ],
   "source": [
    "cloudiness = city_df[\"Cloudiness\"]\n",
    "\n",
    "plt.xlabel(\"Latitude\"),\n",
    "plt.ylabel(\"Cloudiness %\"),\n",
    "plt.title(\"Latitude vs. Cloudiness\"),\n",
    "plt.scatter(latitude, cloudiness, color = \"gray\", edgecolors = \"black\"),\n",
    "plt.savefig(\"../output_data/Fig3.png\")\n",
    "plt.show"
   ]
  },
  {
   "cell_type": "markdown",
   "metadata": {},
   "source": [
    "No apparent correlation can be determined between latitude and cloudiness!"
   ]
  },
  {
   "cell_type": "markdown",
   "metadata": {},
   "source": [
    "## Latitude vs. Wind Speed Plot"
   ]
  },
  {
   "cell_type": "code",
   "execution_count": 17,
   "metadata": {},
   "outputs": [
    {
     "data": {
      "text/plain": [
       "<function matplotlib.pyplot.show(close=None, block=None)>"
      ]
     },
     "execution_count": 17,
     "metadata": {},
     "output_type": "execute_result"
    },
    {
     "data": {
      "image/png": "[encoded data removed]",
      "text/plain": [
       "<Figure size 432x288 with 1 Axes>"
      ]
     },
     "metadata": {
      "needs_background": "light"
     },
     "output_type": "display_data"
    }
   ],
   "source": [
    "wind_speed = city_df[\"Wind Speed\"]\n",
    "\n",
    "plt.xlabel(\"Latitude\"),\n",
    "plt.ylabel(\"Wind Speed\"),\n",
    "plt.title(\"Latitude vs. Wind Speed\"),\n",
    "plt.scatter(latitude, wind_speed, color = \"white\", edgecolors = \"gray\"),\n",
    "plt.grid(),\n",
    "plt.savefig(\"../output_data/Fig4.png\")\n",
    "plt.show"
   ]
  },
  {
   "cell_type": "markdown",
   "metadata": {},
   "source": [
    "Most cities do not experience high wind speeds and typically fall under a value of 12. There is a good amount of cities with higher wind speed values but they are not as prevalent. Ultimately, there is no correlation between latitude and wind speed."
   ]
  },
  {
   "cell_type": "markdown",
   "metadata": {},
   "source": [
    "## Linear Regression"
   ]
  },
  {
   "cell_type": "code",
   "execution_count": 18,
   "metadata": {},
   "outputs": [],
   "source": [
    "#Separate Northern and Southern hemispheres\n",
    "\n",
    "north_df = city_df.loc[(city_df[\"Lat\"] > 0)].dropna()\n",
    "south_df = city_df.loc[(city_df[\"Lat\"] < 0)].dropna()"
   ]
  },
  {
   "cell_type": "markdown",
   "metadata": {},
   "source": [
    "####  Northern Hemisphere - Max Temp vs. Latitude Linear Regression"
   ]
  },
  {
   "cell_type": "code",
   "execution_count": 26,
   "metadata": {},
   "outputs": [
    {
     "name": "stdout",
     "output_type": "stream",
     "text": [
      "The r value is:  0.46363556093069147\n",
      "Temperature has a negative Linear Regression correlation with latitude. As you travel higher North the temperature decreases!\n"
     ]
    },
    {
     "data": {
      "image/png": "[encoded data removed]",
      "text/plain": [
       "<Figure size 432x288 with 1 Axes>"
      ]
     },
     "metadata": {
      "needs_background": "light"
     },
     "output_type": "display_data"
    }
   ],
   "source": [
    "northlat = north_df[\"Lat\"]\n",
    "northtemp = north_df[\"Max Temp\"]\n",
    "\n",
    "\n",
    "(slope, intercept, rvalue, pvalue, stderr) = linregress(northlat, northtemp)\n",
    "print(\"The r value is: \", rvalue)\n",
    "line_eq = northlat * slope + intercept\n",
    "plt.xlabel(\"Latitude\")\n",
    "plt.ylabel(\"Max Temperature (F)\")\n",
    "plt.title(\"Latitude vs. Temperature\")\n",
    "plt.scatter(northlat, northtemp, color = \"red\", edgecolors = \"black\")\n",
    "plt.plot(northlat, line_eq, color = \"green\")\n",
    "plt.show\n",
    "\n",
    "print(\"Temperature has a negative Linear Regression correlation with latitude. As you travel higher North the temperature decreases!\" )"
   ]
  },
  {
   "cell_type": "markdown",
   "metadata": {},
   "source": [
    "####  Southern Hemisphere - Max Temp vs. Latitude Linear Regression"
   ]
  },
  {
   "cell_type": "code",
   "execution_count": 29,
   "metadata": {},
   "outputs": [
    {
     "name": "stdout",
     "output_type": "stream",
     "text": [
      "The r value is:  0.7777405770492902\n",
      "Temperature has a positive Linear Regression correlation with latitude. As you travel towards the Equator the temperature increases!\n"
     ]
    },
    {
     "data": {
      "image/png": "[encoded data removed]",
      "text/plain": [
       "<Figure size 432x288 with 1 Axes>"
      ]
     },
     "metadata": {
      "needs_background": "light"
     },
     "output_type": "display_data"
    }
   ],
   "source": [
    "southlat = south_df[\"Lat\"]\n",
    "southtemp = south_df[\"Max Temp\"]\n",
    "\n",
    "\n",
    "(slope, intercept, rvalue, pvalue, stderr) = linregress(southlat, southtemp)\n",
    "print(\"The r value is: \", rvalue)\n",
    "line_eq2 = southlat * slope + intercept\n",
    "plt.xlabel(\"Latitude\")\n",
    "plt.ylabel(\"Max Temperature (F)\")\n",
    "plt.title(\"Latitude vs. Temperature\")\n",
    "plt.scatter(southlat, southtemp, color = \"red\", edgecolors = \"black\")\n",
    "plt.plot(southlat, line_eq2, color = \"green\")\n",
    "plt.show\n",
    "\n",
    "print(\"Temperature has a positive Linear Regression correlation with latitude. As you travel towards the Equator the temperature increases!\" )"
   ]
  },
  {
   "cell_type": "markdown",
   "metadata": {},
   "source": [
    "####  Northern Hemisphere - Humidity (%) vs. Latitude Linear Regression"
   ]
  },
  {
   "cell_type": "code",
   "execution_count": 35,
   "metadata": {},
   "outputs": [
    {
     "name": "stdout",
     "output_type": "stream",
     "text": [
      "The r value is:  -0.09171837119904681\n",
      "Humidity has a slightly negative Linear Regression correlation with latitude. As you travel higher North the humidity decreases!\n"
     ]
    },
    {
     "data": {
      "image/png": "[encoded data removed]",
      "text/plain": [
       "<Figure size 432x288 with 1 Axes>"
      ]
     },
     "metadata": {
      "needs_background": "light"
     },
     "output_type": "display_data"
    }
   ],
   "source": [
    "northhum = north_df[\"Humidity\"]\n",
    "\n",
    "\n",
    "(slope, intercept, rvalue, pvalue, stderr) = linregress(northlat, northhum)\n",
    "print(\"The r value is: \", rvalue)\n",
    "line_eq3 = northlat * slope + intercept\n",
    "plt.xlabel(\"Latitude\")\n",
    "plt.ylabel(\"Humidity %\")\n",
    "plt.title(\"Latitude vs. Humidity\")\n",
    "plt.scatter(northlat, northhum, color = \"blue\", edgecolors = \"black\")\n",
    "plt.plot(northlat, line_eq3, color = \"red\")\n",
    "plt.show\n",
    "\n",
    "print(\"Humidity has a slightly negative Linear Regression correlation with latitude. As you travel higher North the humidity decreases!\" )"
   ]
  },
  {
   "cell_type": "markdown",
   "metadata": {},
   "source": [
    "####  Southern Hemisphere - Humidity (%) vs. Latitude Linear Regression"
   ]
  },
  {
   "cell_type": "code",
   "execution_count": 38,
   "metadata": {},
   "outputs": [
    {
     "name": "stdout",
     "output_type": "stream",
     "text": [
      "The r value is:  -0.015196971082118585\n",
      "Humidity has no correlation with latitude!\n"
     ]
    },
    {
     "data": {
      "image/png": "[encoded data removed]",
      "text/plain": [
       "<Figure size 432x288 with 1 Axes>"
      ]
     },
     "metadata": {
      "needs_background": "light"
     },
     "output_type": "display_data"
    }
   ],
   "source": [
    "southhum = south_df[\"Humidity\"]\n",
    "\n",
    "\n",
    "(slope, intercept, rvalue, pvalue, stderr) = linregress(southlat, southhum)\n",
    "print(\"The r value is: \", rvalue)\n",
    "line_eq = southlat * slope + intercept\n",
    "plt.xlabel(\"Latitude\")\n",
    "plt.ylabel(\"Humidity %\")\n",
    "plt.title(\"Latitude vs. Humidity\")\n",
    "plt.scatter(southlat, southhum, color = \"blue\", edgecolors = \"black\")\n",
    "plt.plot(southlat, line_eq, color = \"red\")\n",
    "plt.show\n",
    "\n",
    "print(\"Humidity has no correlation with latitude!\" )"
   ]
  },
  {
   "cell_type": "markdown",
   "metadata": {},
   "source": [
    "####  Northern Hemisphere - Cloudiness (%) vs. Latitude Linear Regression"
   ]
  },
  {
   "cell_type": "code",
   "execution_count": 40,
   "metadata": {},
   "outputs": [
    {
     "name": "stdout",
     "output_type": "stream",
     "text": [
      "The r value is:  -0.05479077488859894\n",
      "Humidity has a slightly negative Linear Regression correlation with latitude. As you travel higher North the cloudiness decreases!\n"
     ]
    },
    {
     "data": {
      "image/png": "[encoded data removed]",
      "text/plain": [
       "<Figure size 432x288 with 1 Axes>"
      ]
     },
     "metadata": {
      "needs_background": "light"
     },
     "output_type": "display_data"
    }
   ],
   "source": [
    "northclo = north_df[\"Cloudiness\"]\n",
    "\n",
    "\n",
    "(slope, intercept, rvalue, pvalue, stderr) = linregress(northlat, northclo)\n",
    "print(\"The r value is: \", rvalue)\n",
    "line_eq = northlat * slope + intercept\n",
    "plt.xlabel(\"Latitude\")\n",
    "plt.ylabel(\"Cloudiness\")\n",
    "plt.title(\"Latitude vs. Cloudiness\")\n",
    "plt.scatter(northlat, northclo, color = \"gray\", edgecolors = \"black\")\n",
    "plt.plot(northlat, line_eq, color = \"red\")\n",
    "plt.show\n",
    "\n",
    "print(\"Humidity has a slightly negative Linear Regression correlation with latitude. As you travel higher North the cloudiness decreases!\" )"
   ]
  },
  {
   "cell_type": "markdown",
   "metadata": {},
   "source": [
    "####  Southern Hemisphere - Cloudiness (%) vs. Latitude Linear Regression"
   ]
  },
  {
   "cell_type": "code",
   "execution_count": 43,
   "metadata": {},
   "outputs": [
    {
     "name": "stdout",
     "output_type": "stream",
     "text": [
      "The r value is:  0.03381092315909591\n",
      "Humidity has a slightly positive Linear Regression correlation with latitude. As you travel North to the Equator the cloudiness increases!\n"
     ]
    },
    {
     "data": {
      "image/png": "[encoded data removed]",
      "text/plain": [
       "<Figure size 432x288 with 1 Axes>"
      ]
     },
     "metadata": {
      "needs_background": "light"
     },
     "output_type": "display_data"
    }
   ],
   "source": [
    "southclo = south_df[\"Cloudiness\"]\n",
    "\n",
    "\n",
    "(slope, intercept, rvalue, pvalue, stderr) = linregress(southlat, southclo)\n",
    "print(\"The r value is: \", rvalue)\n",
    "line_eq = southlat * slope + intercept\n",
    "plt.xlabel(\"Latitude\")\n",
    "plt.ylabel(\"Cloudiness\")\n",
    "plt.title(\"Latitude vs. Cloudiness\")\n",
    "plt.scatter(southlat, southclo, color = \"gray\", edgecolors = \"black\")\n",
    "plt.plot(southlat, line_eq, color = \"red\")\n",
    "plt.show\n",
    "\n",
    "print(\"Humidity has a slightly positive Linear Regression correlation with latitude. As you travel North to the Equator the cloudiness increases!\" )"
   ]
  },
  {
   "cell_type": "markdown",
   "metadata": {},
   "source": [
    "####  Northern Hemisphere - Wind Speed (mph) vs. Latitude Linear Regression"
   ]
  },
  {
   "cell_type": "code",
   "execution_count": 45,
   "metadata": {},
   "outputs": [
    {
     "name": "stdout",
     "output_type": "stream",
     "text": [
      "The r value is:  0.09867934542061853\n",
      "Humidity has a slightly positive Linear Regression correlation with latitude. As you travel higher North the wind speed in cities increases!\n"
     ]
    },
    {
     "data": {
      "image/png": "[encoded data removed]",
      "text/plain": [
       "<Figure size 432x288 with 1 Axes>"
      ]
     },
     "metadata": {
      "needs_background": "light"
     },
     "output_type": "display_data"
    }
   ],
   "source": [
    "northWS = north_df[\"Wind Speed\"]\n",
    "\n",
    "\n",
    "(slope, intercept, rvalue, pvalue, stderr) = linregress(northlat, northWS)\n",
    "print(\"The r value is: \", rvalue)\n",
    "line_eq = northlat * slope + intercept\n",
    "plt.xlabel(\"Latitude\")\n",
    "plt.ylabel(\"Wind Speed\")\n",
    "plt.title(\"Latitude vs. Wind Speed\")\n",
    "plt.scatter(northlat, northWS, color = \"white\", edgecolors = \"gray\")\n",
    "plt.plot(northlat, line_eq, color = \"blue\")\n",
    "plt.show\n",
    "\n",
    "print(\"Humidity has a slightly positive Linear Regression correlation with latitude. As you travel higher North the wind speed in cities increases!\" )"
   ]
  },
  {
   "cell_type": "markdown",
   "metadata": {},
   "source": [
    "####  Southern Hemisphere - Wind Speed (mph) vs. Latitude Linear Regression"
   ]
  },
  {
   "cell_type": "code",
   "execution_count": 47,
   "metadata": {},
   "outputs": [
    {
     "name": "stdout",
     "output_type": "stream",
     "text": [
      "The r value is:  -0.18154804019603218\n",
      "Humidity has a negative Linear Regression correlation with latitude. As you travel North toward the Equator the wind speed in cities decreases!\n"
     ]
    },
    {
     "data": {
      "image/png": "[encoded data removed]",
      "text/plain": [
       "<Figure size 432x288 with 1 Axes>"
      ]
     },
     "metadata": {
      "needs_background": "light"
     },
     "output_type": "display_data"
    }
   ],
   "source": [
    "southWS = south_df[\"Wind Speed\"]\n",
    "\n",
    "\n",
    "(slope, intercept, rvalue, pvalue, stderr) = linregress(southlat, southWS)\n",
    "print(\"The r value is: \", rvalue)\n",
    "line_eq = southlat * slope + intercept\n",
    "plt.xlabel(\"Latitude\")\n",
    "plt.ylabel(\"Wind Speed\")\n",
    "plt.title(\"Latitude vs. Wind Speed\")\n",
    "plt.scatter(southlat, southWS, color = \"white\", edgecolors = \"gray\")\n",
    "plt.plot(southlat, line_eq, color = \"blue\")\n",
    "plt.show\n",
    "\n",
    "print(\"Humidity has a negative Linear Regression correlation with latitude. As you travel North toward the Equator the wind speed in cities decreases!\" )"
   ]
  },
  {
   "cell_type": "code",
   "execution_count": null,
   "metadata": {},
   "outputs": [],
   "source": []
  }
 ],
 "metadata": {
  "anaconda-cloud": {},
  "kernel_info": {
   "name": "python3"
  },
  "kernelspec": {
   "display_name": "Python 3",
   "language": "python",
   "name": "python3"
  },
  "language_info": {
   "codemirror_mode": {
    "name": "ipython",
    "version": 3
   },
   "file_extension": ".py",
   "mimetype": "text/x-python",
   "name": "python",
   "nbconvert_exporter": "python",
   "pygments_lexer": "ipython3",
   "version": "3.8.8"
  },
  "latex_envs": {
   "LaTeX_envs_menu_present": true,
   "autoclose": false,
   "autocomplete": true,
   "bibliofile": "biblio.bib",
   "cite_by": "apalike",
   "current_citInitial": 1,
   "eqLabelWithNumbers": true,
   "eqNumInitial": 1,
   "hotkeys": {
    "equation": "Ctrl-E",
    "itemize": "Ctrl-I"
   },
   "labels_anchors": false,
   "latex_user_defs": false,
   "report_style_numbering": false,
   "user_envs_cfg": false
  },
  "nteract": {
   "version": "0.12.3"
  }
 },
 "nbformat": 4,
 "nbformat_minor": 4
}
