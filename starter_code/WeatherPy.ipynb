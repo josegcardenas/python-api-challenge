{
 "cells": [
  {
   "cell_type": "markdown",
   "metadata": {},
   "source": [
    "# WeatherPy\n",
    "----\n",
    "\n",
    "#### Note\n",
    "* Instructions have been included for each segment. You do not have to follow them exactly, but they are included to help you think through the steps."
   ]
  },
  {
   "cell_type": "code",
   "execution_count": 1,
   "metadata": {},
   "outputs": [],
   "source": [
    "#!pip install citipy"
   ]
  },
  {
   "cell_type": "code",
   "execution_count": 2,
   "metadata": {
    "scrolled": true
   },
   "outputs": [],
   "source": [
    "# Dependencies and Setup\n",
    "import matplotlib.pyplot as plt\n",
    "import pandas as pd\n",
    "import numpy as np\n",
    "import requests\n",
    "import time\n",
    "from scipy.stats import linregress\n",
    "\n",
    "# Import API key\n",
    "from api_keys import weather_api_key\n",
    "\n",
    "# Incorporated citipy to determine city based on latitude and longitude\n",
    "#!pip install citipy\n",
    "from citipy import citipy\n",
    "\n",
    "# Output File (CSV)\n",
    "output_data_file = \"output_data/cities.csv\"\n",
    "\n",
    "# Range of latitudes and longitudes\n",
    "lat_range = (-90, 90)\n",
    "lng_range = (-180, 180)"
   ]
  },
  {
   "cell_type": "code",
   "execution_count": null,
   "metadata": {},
   "outputs": [],
   "source": []
  },
  {
   "cell_type": "markdown",
   "metadata": {},
   "source": [
    "## Generate Cities List"
   ]
  },
  {
   "cell_type": "code",
   "execution_count": 3,
   "metadata": {},
   "outputs": [
    {
     "data": {
      "text/plain": [
       "602"
      ]
     },
     "execution_count": 3,
     "metadata": {},
     "output_type": "execute_result"
    }
   ],
   "source": [
    "# List for holding lat_lngs and cities\n",
    "lat_lngs = []\n",
    "cities = []\n",
    "\n",
    "# Create a set of random lat and lng combinations\n",
    "lats = np.random.uniform(lat_range[0], lat_range[1], size=1500)\n",
    "lngs = np.random.uniform(lng_range[0], lng_range[1], size=1500)\n",
    "lat_lngs = zip(lats, lngs)\n",
    "\n",
    "# Identify nearest city for each lat, lng combination\n",
    "for lat_lng in lat_lngs:\n",
    "    city = citipy.nearest_city(lat_lng[0], lat_lng[1]).city_name\n",
    "    \n",
    "    # If the city is unique, then add it to a our cities list\n",
    "    if city not in cities:\n",
    "        cities.append(city)\n",
    "\n",
    "# Print the city count to confirm sufficient count\n",
    "len(cities)"
   ]
  },
  {
   "cell_type": "markdown",
   "metadata": {},
   "source": [
    "### Perform API Calls\n",
    "* Perform a weather check on each city using a series of successive API calls.\n",
    "* Include a print log of each city as it'sbeing processed (with the city number and city name).\n"
   ]
  },
  {
   "cell_type": "code",
   "execution_count": 4,
   "metadata": {
    "scrolled": true
   },
   "outputs": [
    {
     "name": "stdout",
     "output_type": "stream",
     "text": [
      "Processing Record 1 of Set 1 | east london\n",
      "Processing Record 2 of Set 1 | vaini\n",
      "Processing Record 3 of Set 1 | mataura\n",
      "Processing Record 4 of Set 1 | port hardy\n",
      "Processing Record 5 of Set 1 | vanderhoof\n",
      "Processing Record 6 of Set 1 | chokurdakh\n",
      "Processing Record 7 of Set 1 | cape town\n",
      "Processing Record 8 of Set 1 | mahebourg\n",
      "Processing Record 9 of Set 1 | amderma\n",
      "City not found. Skipped...\n",
      "Processing Record 10 of Set 1 | rikitea\n",
      "Processing Record 11 of Set 1 | busselton\n",
      "Processing Record 12 of Set 1 | nizhneyansk\n",
      "City not found. Skipped...\n",
      "Processing Record 13 of Set 1 | cockburn town\n",
      "Processing Record 14 of Set 1 | lebu\n",
      "Processing Record 15 of Set 1 | bethel\n",
      "Processing Record 16 of Set 1 | caetite\n",
      "Processing Record 17 of Set 1 | kruisfontein\n",
      "Processing Record 18 of Set 1 | kemijarvi\n",
      "Processing Record 19 of Set 1 | coquimbo\n",
      "Processing Record 20 of Set 1 | lyman\n",
      "Processing Record 21 of Set 1 | gidole\n",
      "Processing Record 22 of Set 1 | port alfred\n",
      "Processing Record 23 of Set 1 | ushuaia\n",
      "Processing Record 24 of Set 1 | machesney park\n",
      "Processing Record 25 of Set 1 | korla\n",
      "Processing Record 26 of Set 1 | barrow\n",
      "Processing Record 27 of Set 1 | pangnirtung\n",
      "Processing Record 28 of Set 1 | olafsvik\n",
      "Processing Record 29 of Set 1 | qui nhon\n",
      "Processing Record 30 of Set 1 | albany\n",
      "Processing Record 31 of Set 1 | nyurba\n",
      "Processing Record 32 of Set 1 | new norfolk\n",
      "Processing Record 33 of Set 1 | sorland\n",
      "Processing Record 34 of Set 1 | saint-philippe\n",
      "Processing Record 35 of Set 1 | jamestown\n",
      "Processing Record 36 of Set 1 | cabo san lucas\n",
      "Processing Record 37 of Set 1 | saskylakh\n",
      "Processing Record 38 of Set 1 | vostok\n",
      "Processing Record 39 of Set 1 | codrington\n",
      "Processing Record 40 of Set 1 | arraial do cabo\n",
      "Processing Record 41 of Set 1 | ilhabela\n",
      "Processing Record 42 of Set 1 | banyo\n",
      "Processing Record 43 of Set 1 | bambous virieux\n",
      "Processing Record 44 of Set 1 | sambava\n",
      "Processing Record 45 of Set 1 | puerto rico\n",
      "Processing Record 46 of Set 1 | yanan\n",
      "City not found. Skipped...\n",
      "Processing Record 47 of Set 1 | north bend\n",
      "Processing Record 48 of Set 1 | hobart\n",
      "Processing Record 49 of Set 1 | kaka\n",
      "Processing Record 50 of Set 1 | namatanai\n",
      "Processing Record 52 of Set 2 | viedma\n",
      "Processing Record 53 of Set 2 | hobyo\n",
      "Processing Record 54 of Set 2 | port elizabeth\n",
      "Processing Record 55 of Set 2 | broome\n",
      "Processing Record 56 of Set 2 | tiznit\n",
      "Processing Record 57 of Set 2 | okha\n",
      "Processing Record 58 of Set 2 | bluff\n",
      "Processing Record 59 of Set 2 | saleaula\n",
      "City not found. Skipped...\n",
      "Processing Record 60 of Set 2 | santiago\n",
      "Processing Record 61 of Set 2 | krasnoselkup\n",
      "Processing Record 62 of Set 2 | yulara\n",
      "Processing Record 63 of Set 2 | karratha\n",
      "Processing Record 64 of Set 2 | hermanus\n",
      "Processing Record 65 of Set 2 | mount gambier\n",
      "Processing Record 66 of Set 2 | weiser\n",
      "Processing Record 67 of Set 2 | kapaa\n",
      "Processing Record 68 of Set 2 | deputatskiy\n",
      "Processing Record 69 of Set 2 | shubarkuduk\n",
      "Processing Record 70 of Set 2 | fare\n",
      "Processing Record 71 of Set 2 | pangai\n",
      "Processing Record 72 of Set 2 | jonesboro\n",
      "Processing Record 73 of Set 2 | taolanaro\n",
      "City not found. Skipped...\n",
      "Processing Record 74 of Set 2 | hofn\n",
      "Processing Record 75 of Set 2 | rottingdean\n",
      "Processing Record 76 of Set 2 | bandarbeyla\n",
      "Processing Record 77 of Set 2 | nuuk\n",
      "Processing Record 78 of Set 2 | butaritari\n",
      "Processing Record 79 of Set 2 | mantua\n",
      "Processing Record 80 of Set 2 | kutum\n",
      "Processing Record 81 of Set 2 | qaanaaq\n",
      "Processing Record 82 of Set 2 | kastamonu\n",
      "Processing Record 83 of Set 2 | lasem\n",
      "Processing Record 84 of Set 2 | tuktoyaktuk\n",
      "Processing Record 85 of Set 2 | kununurra\n",
      "Processing Record 86 of Set 2 | puerto ayora\n",
      "Processing Record 87 of Set 2 | saint george\n",
      "Processing Record 88 of Set 2 | grand river south east\n",
      "City not found. Skipped...\n",
      "Processing Record 89 of Set 2 | georgetown\n",
      "Processing Record 90 of Set 2 | mar del plata\n",
      "Processing Record 91 of Set 2 | te anau\n",
      "Processing Record 92 of Set 2 | mount isa\n",
      "Processing Record 93 of Set 2 | henties bay\n",
      "Processing Record 94 of Set 2 | san policarpo\n",
      "Processing Record 95 of Set 2 | hasaki\n",
      "Processing Record 96 of Set 2 | portland\n",
      "Processing Record 97 of Set 2 | kegayli\n",
      "City not found. Skipped...\n",
      "Processing Record 98 of Set 2 | kaitangata\n",
      "Processing Record 99 of Set 2 | dunmore town\n",
      "Processing Record 100 of Set 2 | hilo\n",
      "Processing Record 102 of Set 3 | buala\n",
      "Processing Record 103 of Set 3 | tahoua\n",
      "Processing Record 104 of Set 3 | bredasdorp\n",
      "Processing Record 105 of Set 3 | zhezkazgan\n",
      "Processing Record 106 of Set 3 | zlatoustovsk\n",
      "City not found. Skipped...\n",
      "Processing Record 107 of Set 3 | dhupgari\n",
      "Processing Record 108 of Set 3 | conde\n",
      "Processing Record 109 of Set 3 | lithakia\n",
      "Processing Record 110 of Set 3 | samusu\n",
      "City not found. Skipped...\n",
      "Processing Record 111 of Set 3 | illoqqortoormiut\n",
      "City not found. Skipped...\n",
      "Processing Record 112 of Set 3 | aklavik\n",
      "Processing Record 113 of Set 3 | pevek\n",
      "Processing Record 114 of Set 3 | sosua\n",
      "Processing Record 115 of Set 3 | ribeira grande\n",
      "Processing Record 116 of Set 3 | barreirinhas\n",
      "Processing Record 117 of Set 3 | obihiro\n",
      "Processing Record 118 of Set 3 | atuona\n",
      "Processing Record 119 of Set 3 | cidreira\n",
      "Processing Record 120 of Set 3 | araguari\n",
      "Processing Record 121 of Set 3 | chuy\n",
      "Processing Record 122 of Set 3 | tsihombe\n",
      "City not found. Skipped...\n",
      "Processing Record 123 of Set 3 | mahibadhoo\n",
      "Processing Record 124 of Set 3 | rochegda\n",
      "Processing Record 125 of Set 3 | lasa\n",
      "Processing Record 126 of Set 3 | bowen\n",
      "Processing Record 127 of Set 3 | dosso\n",
      "Processing Record 128 of Set 3 | kamaishi\n",
      "Processing Record 129 of Set 3 | isangel\n",
      "Processing Record 130 of Set 3 | garowe\n",
      "Processing Record 131 of Set 3 | tumannyy\n",
      "City not found. Skipped...\n",
      "Processing Record 132 of Set 3 | kodiak\n",
      "Processing Record 133 of Set 3 | kavaratti\n",
      "Processing Record 134 of Set 3 | lucapa\n",
      "Processing Record 135 of Set 3 | sitio novo do tocantins\n",
      "Processing Record 136 of Set 3 | havoysund\n",
      "Processing Record 137 of Set 3 | bilibino\n",
      "Processing Record 138 of Set 3 | avarua\n",
      "Processing Record 139 of Set 3 | dudinka\n",
      "Processing Record 140 of Set 3 | belushya guba\n",
      "City not found. Skipped...\n",
      "Processing Record 141 of Set 3 | mareeba\n",
      "Processing Record 142 of Set 3 | geraldton\n",
      "Processing Record 143 of Set 3 | dingle\n",
      "Processing Record 144 of Set 3 | ancud\n",
      "Processing Record 145 of Set 3 | omsukchan\n",
      "Processing Record 146 of Set 3 | jinchang\n",
      "Processing Record 147 of Set 3 | punta arenas\n",
      "Processing Record 148 of Set 3 | utiroa\n",
      "City not found. Skipped...\n",
      "Processing Record 149 of Set 3 | wanning\n",
      "Processing Record 150 of Set 3 | vardo\n",
      "Processing Record 152 of Set 4 | souillac\n",
      "Processing Record 153 of Set 4 | cotonou\n",
      "Processing Record 154 of Set 4 | westport\n",
      "Processing Record 155 of Set 4 | fonte boa\n",
      "Processing Record 156 of Set 4 | isla vista\n",
      "Processing Record 157 of Set 4 | tasiilaq\n",
      "Processing Record 158 of Set 4 | tabarqah\n",
      "City not found. Skipped...\n",
      "Processing Record 159 of Set 4 | erenhot\n",
      "Processing Record 160 of Set 4 | provideniya\n",
      "Processing Record 161 of Set 4 | progreso\n",
      "Processing Record 162 of Set 4 | labytnangi\n",
      "Processing Record 163 of Set 4 | cam ranh\n",
      "Processing Record 164 of Set 4 | airai\n",
      "Processing Record 165 of Set 4 | mendahara\n",
      "City not found. Skipped...\n",
      "Processing Record 166 of Set 4 | khatanga\n",
      "Processing Record 167 of Set 4 | tripoli\n",
      "Processing Record 168 of Set 4 | puerto montt\n",
      "Processing Record 169 of Set 4 | alexandria\n",
      "Processing Record 170 of Set 4 | kropotkin\n",
      "Processing Record 171 of Set 4 | jiazi\n",
      "Processing Record 172 of Set 4 | laguna\n",
      "Processing Record 173 of Set 4 | sabha\n",
      "Processing Record 174 of Set 4 | pacific grove\n",
      "Processing Record 175 of Set 4 | hami\n",
      "Processing Record 176 of Set 4 | nikolskoye\n",
      "Processing Record 177 of Set 4 | chapais\n",
      "Processing Record 178 of Set 4 | cherskiy\n",
      "Processing Record 179 of Set 4 | ampanihy\n",
      "Processing Record 180 of Set 4 | carnarvon\n",
      "Processing Record 181 of Set 4 | kenai\n",
      "Processing Record 182 of Set 4 | ola\n",
      "Processing Record 183 of Set 4 | ixtapa\n",
      "Processing Record 184 of Set 4 | port macquarie\n",
      "Processing Record 185 of Set 4 | palabuhanratu\n",
      "City not found. Skipped...\n",
      "Processing Record 186 of Set 4 | inhambane\n",
      "Processing Record 187 of Set 4 | jumla\n",
      "Processing Record 188 of Set 4 | eau claire\n",
      "Processing Record 189 of Set 4 | san cristobal\n",
      "Processing Record 190 of Set 4 | lubango\n",
      "Processing Record 191 of Set 4 | majene\n",
      "Processing Record 192 of Set 4 | vallenar\n",
      "Processing Record 193 of Set 4 | esperance\n",
      "Processing Record 194 of Set 4 | pisco\n",
      "Processing Record 195 of Set 4 | nizhniy tsasuchey\n",
      "Processing Record 196 of Set 4 | birin\n",
      "Processing Record 197 of Set 4 | alofi\n",
      "Processing Record 198 of Set 4 | bengkulu\n",
      "Processing Record 199 of Set 4 | mubi\n",
      "Processing Record 200 of Set 4 | hithadhoo\n",
      "Processing Record 202 of Set 5 | tiksi\n",
      "Processing Record 203 of Set 5 | whitehorse\n",
      "Processing Record 204 of Set 5 | sao joao do paraiso\n",
      "Processing Record 205 of Set 5 | yellowknife\n",
      "Processing Record 206 of Set 5 | vitimskiy\n",
      "City not found. Skipped...\n",
      "Processing Record 207 of Set 5 | tashtyp\n",
      "Processing Record 208 of Set 5 | coracora\n",
      "Processing Record 209 of Set 5 | chernyshevskiy\n",
      "Processing Record 210 of Set 5 | severo-kurilsk\n",
      "Processing Record 211 of Set 5 | ilulissat\n",
      "Processing Record 212 of Set 5 | maceio\n",
      "Processing Record 213 of Set 5 | koboldo\n",
      "City not found. Skipped...\n",
      "Processing Record 214 of Set 5 | mys shmidta\n",
      "City not found. Skipped...\n",
      "Processing Record 215 of Set 5 | namibe\n",
      "Processing Record 216 of Set 5 | barrhead\n",
      "Processing Record 217 of Set 5 | sakakah\n",
      "Processing Record 218 of Set 5 | castro\n",
      "Processing Record 219 of Set 5 | constitucion\n",
      "Processing Record 220 of Set 5 | gushikawa\n",
      "Processing Record 221 of Set 5 | dwarka\n",
      "Processing Record 222 of Set 5 | kavieng\n",
      "Processing Record 223 of Set 5 | padang\n",
      "Processing Record 224 of Set 5 | huaihua\n",
      "Processing Record 225 of Set 5 | qaqortoq\n",
      "Processing Record 226 of Set 5 | fortuna\n",
      "Processing Record 227 of Set 5 | juneau\n",
      "Processing Record 228 of Set 5 | katobu\n",
      "Processing Record 229 of Set 5 | pascagoula\n",
      "Processing Record 230 of Set 5 | suntar\n",
      "Processing Record 231 of Set 5 | koshurnikovo\n",
      "Processing Record 232 of Set 5 | port lincoln\n",
      "Processing Record 233 of Set 5 | straumen\n",
      "Processing Record 234 of Set 5 | sanlucar de barrameda\n",
      "Processing Record 235 of Set 5 | jamame\n",
      "Processing Record 236 of Set 5 | ponta do sol\n",
      "Processing Record 237 of Set 5 | antofagasta\n",
      "Processing Record 238 of Set 5 | tecpan\n",
      "Processing Record 239 of Set 5 | lagoa\n",
      "Processing Record 240 of Set 5 | grand-santi\n",
      "Processing Record 241 of Set 5 | trincomalee\n",
      "Processing Record 242 of Set 5 | helong\n",
      "Processing Record 243 of Set 5 | port augusta\n",
      "Processing Record 244 of Set 5 | sarankhola\n",
      "Processing Record 245 of Set 5 | castres\n",
      "Processing Record 246 of Set 5 | santa cruz\n",
      "Processing Record 247 of Set 5 | sobolevo\n",
      "Processing Record 248 of Set 5 | hambantota\n",
      "Processing Record 249 of Set 5 | thompson\n",
      "Processing Record 250 of Set 5 | kulhudhuffushi\n",
      "Processing Record 252 of Set 6 | jalu\n",
      "Processing Record 253 of Set 6 | lavrentiya\n",
      "Processing Record 254 of Set 6 | tilichiki\n",
      "Processing Record 255 of Set 6 | betamcherla\n",
      "Processing Record 256 of Set 6 | mayo\n",
      "Processing Record 257 of Set 6 | bukachacha\n",
      "Processing Record 258 of Set 6 | krasnovishersk\n",
      "Processing Record 259 of Set 6 | half moon bay\n",
      "Processing Record 260 of Set 6 | port hawkesbury\n",
      "Processing Record 261 of Set 6 | sinnamary\n",
      "Processing Record 262 of Set 6 | pimentel\n",
      "Processing Record 263 of Set 6 | ostrovnoy\n",
      "Processing Record 264 of Set 6 | bathsheba\n",
      "Processing Record 265 of Set 6 | champerico\n",
      "Processing Record 266 of Set 6 | batemans bay\n",
      "Processing Record 267 of Set 6 | kushmurun\n",
      "Processing Record 268 of Set 6 | sentyabrskiy\n",
      "City not found. Skipped...\n",
      "Processing Record 269 of Set 6 | gat\n",
      "Processing Record 270 of Set 6 | buqayq\n",
      "City not found. Skipped...\n",
      "Processing Record 271 of Set 6 | husavik\n",
      "Processing Record 272 of Set 6 | dauphin\n",
      "Processing Record 273 of Set 6 | ardesen\n",
      "Processing Record 274 of Set 6 | azimur\n",
      "City not found. Skipped...\n",
      "Processing Record 275 of Set 6 | providencia\n",
      "Processing Record 276 of Set 6 | masunga\n",
      "Processing Record 277 of Set 6 | lalawigan\n",
      "Processing Record 278 of Set 6 | dolbeau\n",
      "City not found. Skipped...\n",
      "Processing Record 279 of Set 6 | long beach\n",
      "Processing Record 280 of Set 6 | kongolo\n",
      "Processing Record 281 of Set 6 | malwan\n",
      "City not found. Skipped...\n",
      "Processing Record 282 of Set 6 | valleyview\n",
      "Processing Record 283 of Set 6 | fort nelson\n",
      "Processing Record 284 of Set 6 | chicama\n",
      "Processing Record 285 of Set 6 | attawapiskat\n",
      "City not found. Skipped...\n",
      "Processing Record 286 of Set 6 | carbonia\n",
      "Processing Record 287 of Set 6 | san andres\n",
      "Processing Record 288 of Set 6 | oktyabrskiy\n",
      "Processing Record 289 of Set 6 | ambilobe\n",
      "Processing Record 290 of Set 6 | sebinkarahisar\n",
      "Processing Record 291 of Set 6 | victoria\n",
      "Processing Record 292 of Set 6 | lompoc\n",
      "Processing Record 293 of Set 6 | saurimo\n",
      "Processing Record 294 of Set 6 | petukhovo\n",
      "Processing Record 295 of Set 6 | hearst\n",
      "Processing Record 296 of Set 6 | chikoy\n",
      "City not found. Skipped...\n",
      "Processing Record 297 of Set 6 | terney\n",
      "Processing Record 298 of Set 6 | taft\n",
      "Processing Record 299 of Set 6 | maniitsoq\n",
      "Processing Record 300 of Set 6 | arlit\n",
      "Processing Record 302 of Set 7 | margate\n",
      "Processing Record 303 of Set 7 | alice springs\n",
      "Processing Record 304 of Set 7 | miraflores\n",
      "Processing Record 305 of Set 7 | buraydah\n",
      "Processing Record 306 of Set 7 | longyearbyen\n",
      "Processing Record 307 of Set 7 | san felipe\n",
      "Processing Record 308 of Set 7 | eureka\n",
      "Processing Record 309 of Set 7 | popondetta\n",
      "Processing Record 310 of Set 7 | ketchikan\n",
      "Processing Record 311 of Set 7 | conakry\n",
      "Processing Record 312 of Set 7 | atlantic city\n",
      "Processing Record 313 of Set 7 | morros\n",
      "Processing Record 314 of Set 7 | gamba\n",
      "Processing Record 315 of Set 7 | naze\n",
      "Processing Record 316 of Set 7 | malanje\n",
      "Processing Record 317 of Set 7 | toppenish\n",
      "Processing Record 318 of Set 7 | umm jarr\n",
      "City not found. Skipped...\n",
      "Processing Record 319 of Set 7 | vao\n",
      "Processing Record 320 of Set 7 | paamiut\n",
      "Processing Record 321 of Set 7 | eldorado\n",
      "Processing Record 322 of Set 7 | luoyang\n",
      "Processing Record 323 of Set 7 | mvuma\n",
      "Processing Record 324 of Set 7 | tukrah\n",
      "Processing Record 325 of Set 7 | san juan\n",
      "Processing Record 326 of Set 7 | caravelas\n",
      "Processing Record 327 of Set 7 | olinda\n",
      "Processing Record 328 of Set 7 | vamvakou\n",
      "Processing Record 329 of Set 7 | rawannawi\n",
      "City not found. Skipped...\n",
      "Processing Record 330 of Set 7 | marawi\n",
      "Processing Record 331 of Set 7 | taburi\n",
      "City not found. Skipped...\n",
      "Processing Record 332 of Set 7 | port moresby\n",
      "Processing Record 333 of Set 7 | port hedland\n",
      "Processing Record 334 of Set 7 | havre\n",
      "Processing Record 335 of Set 7 | mecca\n",
      "Processing Record 336 of Set 7 | coihaique\n",
      "Processing Record 337 of Set 7 | wawa\n",
      "Processing Record 338 of Set 7 | bhadrachalam\n",
      "Processing Record 339 of Set 7 | richards bay\n",
      "Processing Record 340 of Set 7 | sao filipe\n",
      "Processing Record 341 of Set 7 | inirida\n",
      "Processing Record 342 of Set 7 | osoyoos\n",
      "Processing Record 343 of Set 7 | hirara\n",
      "Processing Record 344 of Set 7 | baculin\n",
      "Processing Record 345 of Set 7 | zhangjiakou\n",
      "Processing Record 346 of Set 7 | general pico\n",
      "Processing Record 347 of Set 7 | praia\n",
      "Processing Record 348 of Set 7 | kahului\n",
      "Processing Record 349 of Set 7 | pehowa\n",
      "Processing Record 350 of Set 7 | la ligua\n",
      "Processing Record 352 of Set 8 | vanavara\n",
      "Processing Record 353 of Set 8 | pingzhuang\n",
      "Processing Record 354 of Set 8 | monchegorsk\n",
      "Processing Record 355 of Set 8 | keti bandar\n",
      "Processing Record 356 of Set 8 | galgani\n",
      "City not found. Skipped...\n",
      "Processing Record 357 of Set 8 | erzin\n",
      "Processing Record 358 of Set 8 | acajutla\n",
      "Processing Record 359 of Set 8 | seddon\n",
      "Processing Record 360 of Set 8 | faanui\n",
      "Processing Record 361 of Set 8 | beyneu\n",
      "Processing Record 362 of Set 8 | ust-nera\n",
      "Processing Record 363 of Set 8 | tankhoy\n",
      "Processing Record 364 of Set 8 | aflu\n",
      "City not found. Skipped...\n",
      "Processing Record 365 of Set 8 | luocheng\n",
      "Processing Record 366 of Set 8 | opelousas\n",
      "Processing Record 367 of Set 8 | hoi an\n",
      "Processing Record 368 of Set 8 | makakilo city\n",
      "Processing Record 369 of Set 8 | leningradskiy\n",
      "Processing Record 370 of Set 8 | derzhavinsk\n",
      "Processing Record 371 of Set 8 | honefoss\n",
      "Processing Record 372 of Set 8 | xifeng\n",
      "Processing Record 373 of Set 8 | clyde river\n",
      "Processing Record 374 of Set 8 | grindavik\n",
      "Processing Record 375 of Set 8 | broken hill\n",
      "Processing Record 376 of Set 8 | evensk\n",
      "Processing Record 377 of Set 8 | belaya gora\n",
      "Processing Record 378 of Set 8 | talnakh\n",
      "Processing Record 379 of Set 8 | tazmalt\n",
      "Processing Record 380 of Set 8 | kabakovo\n",
      "Processing Record 381 of Set 8 | college\n",
      "Processing Record 382 of Set 8 | feijo\n",
      "Processing Record 383 of Set 8 | komsomolskiy\n",
      "Processing Record 384 of Set 8 | ahipara\n",
      "Processing Record 385 of Set 8 | ciuperceni\n",
      "Processing Record 386 of Set 8 | dali\n",
      "Processing Record 387 of Set 8 | najran\n",
      "Processing Record 388 of Set 8 | pitimbu\n",
      "Processing Record 389 of Set 8 | yingshang\n",
      "City not found. Skipped...\n",
      "Processing Record 390 of Set 8 | francistown\n",
      "Processing Record 391 of Set 8 | norman wells\n",
      "Processing Record 392 of Set 8 | przhevalskoye\n",
      "Processing Record 393 of Set 8 | taos\n",
      "Processing Record 394 of Set 8 | san patricio\n",
      "Processing Record 395 of Set 8 | aquin\n",
      "Processing Record 396 of Set 8 | chimbote\n",
      "Processing Record 397 of Set 8 | hualmay\n",
      "Processing Record 398 of Set 8 | vizinga\n",
      "Processing Record 399 of Set 8 | camacha\n",
      "Processing Record 400 of Set 8 | ayan\n",
      "Processing Record 402 of Set 9 | katrineholm\n",
      "Processing Record 403 of Set 9 | santa isabel do rio negro\n",
      "Processing Record 404 of Set 9 | nioro\n",
      "Processing Record 405 of Set 9 | betafo\n",
      "Processing Record 406 of Set 9 | plouzane\n",
      "Processing Record 407 of Set 9 | shingu\n",
      "Processing Record 408 of Set 9 | ugoofaaru\n",
      "Processing Record 409 of Set 9 | ulan-ude\n",
      "Processing Record 410 of Set 9 | auki\n",
      "Processing Record 411 of Set 9 | xichang\n",
      "Processing Record 412 of Set 9 | okhotsk\n",
      "Processing Record 413 of Set 9 | kamenka\n",
      "Processing Record 414 of Set 9 | kato mazarakion\n",
      "Processing Record 415 of Set 9 | baykit\n",
      "Processing Record 416 of Set 9 | witu\n",
      "Processing Record 417 of Set 9 | cayenne\n",
      "Processing Record 418 of Set 9 | klaksvik\n",
      "Processing Record 419 of Set 9 | pulandian\n",
      "Processing Record 420 of Set 9 | belmonte\n",
      "Processing Record 421 of Set 9 | springbok\n",
      "Processing Record 422 of Set 9 | shetpe\n",
      "Processing Record 423 of Set 9 | quatre cocos\n",
      "Processing Record 424 of Set 9 | torbay\n",
      "Processing Record 425 of Set 9 | artsyz\n",
      "Processing Record 426 of Set 9 | baiyin\n",
      "Processing Record 427 of Set 9 | georgiyevskoye\n",
      "Processing Record 428 of Set 9 | novoyegoryevskoye\n",
      "City not found. Skipped...\n",
      "Processing Record 429 of Set 9 | teguldet\n",
      "Processing Record 430 of Set 9 | emerald\n",
      "Processing Record 431 of Set 9 | duncan\n",
      "Processing Record 432 of Set 9 | vila franca do campo\n",
      "Processing Record 433 of Set 9 | calama\n",
      "Processing Record 434 of Set 9 | ballina\n",
      "Processing Record 435 of Set 9 | potgietersrus\n",
      "City not found. Skipped...\n",
      "Processing Record 436 of Set 9 | mizan teferi\n",
      "Processing Record 437 of Set 9 | sitka\n",
      "Processing Record 438 of Set 9 | entre rios\n",
      "Processing Record 439 of Set 9 | athens\n",
      "Processing Record 440 of Set 9 | castro alves\n",
      "Processing Record 441 of Set 9 | fresnillo\n",
      "Processing Record 442 of Set 9 | almaty\n",
      "Processing Record 443 of Set 9 | urucara\n",
      "Processing Record 444 of Set 9 | changli\n",
      "Processing Record 445 of Set 9 | la ronge\n",
      "Processing Record 446 of Set 9 | bazarnyye mataki\n",
      "Processing Record 447 of Set 9 | wanaka\n",
      "Processing Record 448 of Set 9 | yar-sale\n",
      "Processing Record 449 of Set 9 | saint-georges\n",
      "Processing Record 450 of Set 9 | upernavik\n",
      "Processing Record 452 of Set 10 | kampot\n",
      "Processing Record 453 of Set 10 | moiyabana\n",
      "City not found. Skipped...\n",
      "Processing Record 454 of Set 10 | port blair\n",
      "Processing Record 455 of Set 10 | omboue\n",
      "Processing Record 456 of Set 10 | livermore\n",
      "Processing Record 457 of Set 10 | ciudad bolivar\n",
      "Processing Record 458 of Set 10 | kushima\n",
      "Processing Record 459 of Set 10 | along\n",
      "Processing Record 460 of Set 10 | karaul\n",
      "City not found. Skipped...\n",
      "Processing Record 461 of Set 10 | katsuura\n",
      "Processing Record 462 of Set 10 | vertientes\n",
      "Processing Record 463 of Set 10 | hervey bay\n",
      "Processing Record 464 of Set 10 | vigrestad\n",
      "Processing Record 465 of Set 10 | lorengau\n",
      "Processing Record 466 of Set 10 | sao felix do xingu\n",
      "Processing Record 467 of Set 10 | eydhafushi\n",
      "Processing Record 468 of Set 10 | pietermaritzburg\n",
      "Processing Record 469 of Set 10 | puerto suarez\n",
      "Processing Record 470 of Set 10 | burnie\n",
      "Processing Record 471 of Set 10 | caucasia\n",
      "Processing Record 472 of Set 10 | nome\n",
      "Processing Record 473 of Set 10 | felipe carrillo puerto\n",
      "Processing Record 474 of Set 10 | seoul\n",
      "Processing Record 475 of Set 10 | oruro\n",
      "Processing Record 476 of Set 10 | sofiysk\n",
      "City not found. Skipped...\n",
      "Processing Record 477 of Set 10 | ewa beach\n",
      "Processing Record 478 of Set 10 | hammerfest\n",
      "Processing Record 479 of Set 10 | rondonopolis\n",
      "Processing Record 480 of Set 10 | marcona\n",
      "City not found. Skipped...\n",
      "Processing Record 481 of Set 10 | yurimaguas\n",
      "Processing Record 482 of Set 10 | bolungarvik\n",
      "City not found. Skipped...\n",
      "Processing Record 483 of Set 10 | salalah\n",
      "Processing Record 484 of Set 10 | puerto baquerizo moreno\n",
      "Processing Record 485 of Set 10 | longlac\n",
      "City not found. Skipped...\n",
      "Processing Record 486 of Set 10 | conceicao da barra\n",
      "Processing Record 487 of Set 10 | elko\n",
      "Processing Record 488 of Set 10 | mikhaylovka\n",
      "Processing Record 489 of Set 10 | vaitape\n",
      "Processing Record 490 of Set 10 | nanortalik\n",
      "Processing Record 491 of Set 10 | pampa\n",
      "Processing Record 492 of Set 10 | hovd\n",
      "Processing Record 493 of Set 10 | bonthe\n",
      "Processing Record 494 of Set 10 | praxedis guerrero\n",
      "Processing Record 495 of Set 10 | nemuro\n",
      "Processing Record 496 of Set 10 | berlevag\n",
      "Processing Record 497 of Set 10 | mikuni\n",
      "Processing Record 498 of Set 10 | pak phanang\n",
      "Processing Record 499 of Set 10 | banjar\n",
      "Processing Record 500 of Set 10 | srivardhan\n",
      "Processing Record 502 of Set 11 | tinskoy\n",
      "Processing Record 503 of Set 11 | dinguiraye\n",
      "Processing Record 504 of Set 11 | tarakan\n",
      "Processing Record 505 of Set 11 | dong hoi\n",
      "Processing Record 506 of Set 11 | stornoway\n",
      "Processing Record 507 of Set 11 | kangaatsiaq\n",
      "Processing Record 508 of Set 11 | valvedditturai\n",
      "Processing Record 509 of Set 11 | abatskoye\n",
      "Processing Record 510 of Set 11 | marsa matruh\n",
      "Processing Record 511 of Set 11 | rawah\n",
      "Processing Record 512 of Set 11 | estelle\n",
      "Processing Record 513 of Set 11 | leirvik\n",
      "Processing Record 514 of Set 11 | amapa\n",
      "Processing Record 515 of Set 11 | aswan\n",
      "Processing Record 516 of Set 11 | rochelle\n",
      "Processing Record 517 of Set 11 | caldwell\n",
      "Processing Record 518 of Set 11 | guayaramerin\n",
      "Processing Record 519 of Set 11 | altamont\n",
      "Processing Record 520 of Set 11 | araxa\n",
      "Processing Record 521 of Set 11 | sotouboua\n",
      "Processing Record 522 of Set 11 | mahanoro\n",
      "Processing Record 523 of Set 11 | falealupo\n",
      "City not found. Skipped...\n",
      "Processing Record 524 of Set 11 | duz\n",
      "City not found. Skipped...\n",
      "Processing Record 525 of Set 11 | aron\n",
      "Processing Record 526 of Set 11 | voh\n",
      "Processing Record 527 of Set 11 | tuatapere\n",
      "Processing Record 528 of Set 11 | linares\n",
      "Processing Record 529 of Set 11 | mersing\n",
      "Processing Record 530 of Set 11 | centralia\n",
      "Processing Record 531 of Set 11 | teknaf\n",
      "Processing Record 532 of Set 11 | bonavista\n",
      "Processing Record 533 of Set 11 | tiarei\n",
      "Processing Record 534 of Set 11 | swan river\n",
      "Processing Record 535 of Set 11 | ivnya\n",
      "Processing Record 536 of Set 11 | saldanha\n",
      "Processing Record 537 of Set 11 | darhan\n",
      "Processing Record 538 of Set 11 | barentsburg\n",
      "City not found. Skipped...\n",
      "Processing Record 539 of Set 11 | loa janan\n",
      "Processing Record 540 of Set 11 | kabwe\n",
      "Processing Record 541 of Set 11 | marfino\n",
      "Processing Record 542 of Set 11 | ellsworth\n",
      "Processing Record 543 of Set 11 | rock springs\n",
      "Processing Record 544 of Set 11 | nizhniy mamon\n",
      "Processing Record 545 of Set 11 | ouro preto do oeste\n",
      "Processing Record 546 of Set 11 | christchurch\n",
      "Processing Record 547 of Set 11 | tecoanapa\n",
      "Processing Record 548 of Set 11 | cozumel\n",
      "Processing Record 549 of Set 11 | vaitupu\n",
      "City not found. Skipped...\n",
      "Processing Record 550 of Set 11 | artyk\n",
      "City not found. Skipped...\n",
      "Processing Record 552 of Set 12 | masvingo\n",
      "Processing Record 553 of Set 12 | isiro\n",
      "Processing Record 554 of Set 12 | goderich\n",
      "Processing Record 555 of Set 12 | camocim\n",
      "Processing Record 556 of Set 12 | riyadh\n",
      "Processing Record 557 of Set 12 | manutuke\n",
      "Processing Record 558 of Set 12 | ocos\n",
      "Processing Record 559 of Set 12 | eyl\n",
      "Processing Record 560 of Set 12 | villaviciosa\n",
      "Processing Record 561 of Set 12 | samana\n",
      "Processing Record 562 of Set 12 | kokopo\n",
      "Processing Record 563 of Set 12 | sabang\n",
      "Processing Record 564 of Set 12 | syracuse\n",
      "Processing Record 565 of Set 12 | powell river\n",
      "Processing Record 566 of Set 12 | seabrook\n",
      "Processing Record 567 of Set 12 | pedernales\n",
      "Processing Record 568 of Set 12 | samalaeulu\n",
      "City not found. Skipped...\n",
      "Processing Record 569 of Set 12 | mayor pablo lagerenza\n",
      "Processing Record 570 of Set 12 | palana\n",
      "Processing Record 571 of Set 12 | bella union\n",
      "Processing Record 572 of Set 12 | aligudarz\n",
      "Processing Record 573 of Set 12 | mnogovershinnyy\n",
      "Processing Record 574 of Set 12 | veseloyarsk\n",
      "Processing Record 575 of Set 12 | saint-joseph\n",
      "Processing Record 576 of Set 12 | lashio\n",
      "Processing Record 577 of Set 12 | novovarshavka\n",
      "Processing Record 578 of Set 12 | liepaja\n",
      "Processing Record 579 of Set 12 | svetlaya\n",
      "Processing Record 580 of Set 12 | noumea\n",
      "Processing Record 581 of Set 12 | taloqan\n",
      "Processing Record 582 of Set 12 | vestmannaeyjar\n",
      "Processing Record 583 of Set 12 | toguchin\n",
      "Processing Record 584 of Set 12 | tura\n",
      "Processing Record 585 of Set 12 | alghero\n",
      "Processing Record 586 of Set 12 | sabancuy\n",
      "Processing Record 587 of Set 12 | matay\n",
      "Processing Record 588 of Set 12 | petropavlovsk-kamchatskiy\n",
      "Processing Record 589 of Set 12 | lamar\n",
      "Processing Record 590 of Set 12 | puerto del rosario\n",
      "Processing Record 591 of Set 12 | acarau\n",
      "Processing Record 592 of Set 12 | egvekinot\n",
      "Processing Record 593 of Set 12 | nizwa\n",
      "Processing Record 594 of Set 12 | baffa\n",
      "Processing Record 595 of Set 12 | imbituba\n",
      "Processing Record 596 of Set 12 | kabo\n",
      "Processing Record 597 of Set 12 | myskhako\n",
      "Processing Record 598 of Set 12 | tanout\n",
      "Processing Record 599 of Set 12 | hamilton\n",
      "Processing Record 600 of Set 12 | yeppoon\n"
     ]
    }
   ],
   "source": [
    "#Base URL to pull from:\n",
    "\n",
    "url = \"http://api.openweathermap.org/data/2.5/weather?units=Imperial&APPID=\" + weather_api_key\n",
    "\n",
    "cities_list = []\n",
    "\n",
    "\n",
    "for index, city in enumerate(cities):\n",
    "    try: \n",
    "            if (index <50):\n",
    "                print(f'Processing Record {index + 1} of Set {1}'\\\n",
    "                 f' | {city}')\n",
    "            if (index<100) & (index>50):\n",
    "                print(f'Processing Record {index + 1} of Set {2}'\\\n",
    "                f' | {city}')\n",
    "            if (index<150) & (index>100):\n",
    "                print(f'Processing Record {index + 1} of Set {3}'\\\n",
    "                f' | {city}')\n",
    "            if (index<200) & (index>150):\n",
    "                print(f'Processing Record {index + 1} of Set {4}'\\\n",
    "                 f' | {city}')\n",
    "            if (index<250) & (index>200):\n",
    "                print(f'Processing Record {index + 1} of Set {5}'\\\n",
    "                 f' | {city}')\n",
    "            if (index<300) & (index>250):\n",
    "                print(f'Processing Record {index + 1} of Set {6}'\\\n",
    "                 f' | {city}')\n",
    "            if (index<350) & (index>300):\n",
    "                print(f'Processing Record {index + 1} of Set {7}'\\\n",
    "                 f' | {city}')\n",
    "            if (index<400) & (index>350):\n",
    "                print(f'Processing Record {index + 1} of Set {8}'\\\n",
    "                 f' | {city}')\n",
    "            if (index<450) & (index>400):\n",
    "                print(f'Processing Record {index + 1} of Set {9}'\\\n",
    "                 f' | {city}')\n",
    "            if (index<500) & (index>450):\n",
    "                print(f'Processing Record {index + 1} of Set {10}'\\\n",
    "                 f' | {city}')\n",
    "            if (index<550) & (index>500):\n",
    "                print(f'Processing Record {index + 1} of Set {11}'\\\n",
    "                 f' | {city}')\n",
    "            if (index<600) & (index>550):\n",
    "                print(f'Processing Record {index + 1} of Set {12}'\\\n",
    "                 f' | {city}')\n",
    "    \n",
    "    #URL per city            \n",
    "            city_url = url + \"&q=\" + city \n",
    "    \n",
    "    \n",
    "    #Retrieve data\n",
    "            city_weather = requests.get(city_url).json()\n",
    "\n",
    "        # Parse out the max temp, humidity, and cloudiness\n",
    "            city_lat = city_weather[\"coord\"][\"lat\"]\n",
    "            city_lng = city_weather[\"coord\"][\"lon\"]\n",
    "            city_max_temp = city_weather[\"main\"][\"temp_max\"]\n",
    "            city_humidity = city_weather[\"main\"][\"humidity\"]\n",
    "            city_clouds = city_weather[\"clouds\"][\"all\"]\n",
    "            city_wind = city_weather[\"wind\"][\"speed\"]\n",
    "            city_country = city_weather[\"sys\"][\"country\"]\n",
    "            city_date = city_weather[\"dt\"]\n",
    "\n",
    "        # Append the City information into city_data list\n",
    "            cities_list.append({\"City\": city, \n",
    "                              \"Lat\": city_lat, \n",
    "                              \"Lng\": city_lng, \n",
    "                              \"Max Temp\": city_max_temp,\n",
    "                              \"Humidity\": city_humidity,\n",
    "                              \"Cloudiness\": city_clouds,\n",
    "                              \"Wind Speed\": city_wind,\n",
    "                              \"Country\": city_country,\n",
    "                              \"Date\": city_date}) \n",
    "    except:\n",
    "        print(\"City not found. Skipped...\")\n",
    "    pass\n"
   ]
  },
  {
   "cell_type": "markdown",
   "metadata": {},
   "source": [
    "### Convert Raw Data to DataFrame\n",
    "* Export the city data into a .csv.\n",
    "* Display the DataFrame"
   ]
  },
  {
   "cell_type": "code",
   "execution_count": 5,
   "metadata": {},
   "outputs": [
    {
     "name": "stdout",
     "output_type": "stream",
     "text": [
      "{'coord': {'lon': 118.9636, 'lat': 42.2683}, 'weather': [{'id': 800, 'main': 'Clear', 'description': 'clear sky', 'icon': '01d'}], 'base': 'stations', 'main': {'temp': 74.97, 'feels_like': 73.15, 'temp_min': 74.97, 'temp_max': 74.97, 'pressure': 1003, 'humidity': 21, 'sea_level': 1003, 'grnd_level': 940}, 'visibility': 10000, 'wind': {'speed': 10.04, 'deg': 290, 'gust': 15.28}, 'clouds': {'all': 0}, 'dt': 1623899497, 'sys': {'country': 'CN', 'sunrise': 1623875229, 'sunset': 1623930175}, 'timezone': 28800, 'id': 2038067, 'name': 'Chifeng', 'cod': 200}\n"
     ]
    }
   ],
   "source": [
    "print(city_weather)"
   ]
  },
  {
   "cell_type": "code",
   "execution_count": 6,
   "metadata": {},
   "outputs": [
    {
     "data": {
      "text/html": [
       "<div>\n",
       "<style scoped>\n",
       "    .dataframe tbody tr th:only-of-type {\n",
       "        vertical-align: middle;\n",
       "    }\n",
       "\n",
       "    .dataframe tbody tr th {\n",
       "        vertical-align: top;\n",
       "    }\n",
       "\n",
       "    .dataframe thead th {\n",
       "        text-align: right;\n",
       "    }\n",
       "</style>\n",
       "<table border=\"1\" class=\"dataframe\">\n",
       "  <thead>\n",
       "    <tr style=\"text-align: right;\">\n",
       "      <th></th>\n",
       "      <th>City</th>\n",
       "      <th>Lat</th>\n",
       "      <th>Lng</th>\n",
       "      <th>Max Temp</th>\n",
       "      <th>Humidity</th>\n",
       "      <th>Cloudiness</th>\n",
       "      <th>Wind Speed</th>\n",
       "      <th>Country</th>\n",
       "      <th>Date</th>\n",
       "    </tr>\n",
       "  </thead>\n",
       "  <tbody>\n",
       "    <tr>\n",
       "      <th>0</th>\n",
       "      <td>east london</td>\n",
       "      <td>-33.0153</td>\n",
       "      <td>27.9116</td>\n",
       "      <td>61.00</td>\n",
       "      <td>75</td>\n",
       "      <td>40</td>\n",
       "      <td>6.46</td>\n",
       "      <td>ZA</td>\n",
       "      <td>1623899274</td>\n",
       "    </tr>\n",
       "    <tr>\n",
       "      <th>1</th>\n",
       "      <td>vaini</td>\n",
       "      <td>-21.2000</td>\n",
       "      <td>-175.2000</td>\n",
       "      <td>75.36</td>\n",
       "      <td>94</td>\n",
       "      <td>75</td>\n",
       "      <td>5.75</td>\n",
       "      <td>TO</td>\n",
       "      <td>1623899274</td>\n",
       "    </tr>\n",
       "    <tr>\n",
       "      <th>2</th>\n",
       "      <td>mataura</td>\n",
       "      <td>-46.1927</td>\n",
       "      <td>168.8643</td>\n",
       "      <td>46.47</td>\n",
       "      <td>89</td>\n",
       "      <td>87</td>\n",
       "      <td>2.91</td>\n",
       "      <td>NZ</td>\n",
       "      <td>1623899275</td>\n",
       "    </tr>\n",
       "    <tr>\n",
       "      <th>3</th>\n",
       "      <td>port hardy</td>\n",
       "      <td>50.6996</td>\n",
       "      <td>-127.4199</td>\n",
       "      <td>56.55</td>\n",
       "      <td>81</td>\n",
       "      <td>90</td>\n",
       "      <td>10.22</td>\n",
       "      <td>CA</td>\n",
       "      <td>1623899275</td>\n",
       "    </tr>\n",
       "    <tr>\n",
       "      <th>4</th>\n",
       "      <td>vanderhoof</td>\n",
       "      <td>54.0166</td>\n",
       "      <td>-124.0198</td>\n",
       "      <td>62.35</td>\n",
       "      <td>41</td>\n",
       "      <td>67</td>\n",
       "      <td>11.65</td>\n",
       "      <td>CA</td>\n",
       "      <td>1623899275</td>\n",
       "    </tr>\n",
       "  </tbody>\n",
       "</table>\n",
       "</div>"
      ],
      "text/plain": [
       "          City      Lat       Lng  Max Temp  Humidity  Cloudiness  Wind Speed  \\\n",
       "0  east london -33.0153   27.9116     61.00        75          40        6.46   \n",
       "1        vaini -21.2000 -175.2000     75.36        94          75        5.75   \n",
       "2      mataura -46.1927  168.8643     46.47        89          87        2.91   \n",
       "3   port hardy  50.6996 -127.4199     56.55        81          90       10.22   \n",
       "4   vanderhoof  54.0166 -124.0198     62.35        41          67       11.65   \n",
       "\n",
       "  Country        Date  \n",
       "0      ZA  1623899274  \n",
       "1      TO  1623899274  \n",
       "2      NZ  1623899275  \n",
       "3      CA  1623899275  \n",
       "4      CA  1623899275  "
      ]
     },
     "execution_count": 6,
     "metadata": {},
     "output_type": "execute_result"
    }
   ],
   "source": [
    "city_df = pd.DataFrame(cities_list)\n",
    "city_df.head()"
   ]
  },
  {
   "cell_type": "code",
   "execution_count": 7,
   "metadata": {},
   "outputs": [
    {
     "data": {
      "text/plain": [
       "City          555\n",
       "Lat           555\n",
       "Lng           555\n",
       "Max Temp      555\n",
       "Humidity      555\n",
       "Cloudiness    555\n",
       "Wind Speed    555\n",
       "Country       555\n",
       "Date          555\n",
       "dtype: int64"
      ]
     },
     "execution_count": 7,
     "metadata": {},
     "output_type": "execute_result"
    }
   ],
   "source": [
    "city_df.count()"
   ]
  },
  {
   "cell_type": "code",
   "execution_count": 8,
   "metadata": {},
   "outputs": [],
   "source": [
    "city_df.to_csv(\"WeatherHW.csv\", index = False)"
   ]
  },
  {
   "cell_type": "code",
   "execution_count": 9,
   "metadata": {},
   "outputs": [
    {
     "data": {
      "text/html": [
       "<div>\n",
       "<style scoped>\n",
       "    .dataframe tbody tr th:only-of-type {\n",
       "        vertical-align: middle;\n",
       "    }\n",
       "\n",
       "    .dataframe tbody tr th {\n",
       "        vertical-align: top;\n",
       "    }\n",
       "\n",
       "    .dataframe thead th {\n",
       "        text-align: right;\n",
       "    }\n",
       "</style>\n",
       "<table border=\"1\" class=\"dataframe\">\n",
       "  <thead>\n",
       "    <tr style=\"text-align: right;\">\n",
       "      <th></th>\n",
       "      <th>City</th>\n",
       "      <th>Lat</th>\n",
       "      <th>Lng</th>\n",
       "      <th>Max Temp</th>\n",
       "      <th>Humidity</th>\n",
       "      <th>Cloudiness</th>\n",
       "      <th>Wind Speed</th>\n",
       "      <th>Country</th>\n",
       "      <th>Date</th>\n",
       "    </tr>\n",
       "  </thead>\n",
       "  <tbody>\n",
       "    <tr>\n",
       "      <th>0</th>\n",
       "      <td>east london</td>\n",
       "      <td>-33.0153</td>\n",
       "      <td>27.9116</td>\n",
       "      <td>61.00</td>\n",
       "      <td>75</td>\n",
       "      <td>40</td>\n",
       "      <td>6.46</td>\n",
       "      <td>ZA</td>\n",
       "      <td>1623899274</td>\n",
       "    </tr>\n",
       "    <tr>\n",
       "      <th>1</th>\n",
       "      <td>vaini</td>\n",
       "      <td>-21.2000</td>\n",
       "      <td>-175.2000</td>\n",
       "      <td>75.36</td>\n",
       "      <td>94</td>\n",
       "      <td>75</td>\n",
       "      <td>5.75</td>\n",
       "      <td>TO</td>\n",
       "      <td>1623899274</td>\n",
       "    </tr>\n",
       "    <tr>\n",
       "      <th>2</th>\n",
       "      <td>mataura</td>\n",
       "      <td>-46.1927</td>\n",
       "      <td>168.8643</td>\n",
       "      <td>46.47</td>\n",
       "      <td>89</td>\n",
       "      <td>87</td>\n",
       "      <td>2.91</td>\n",
       "      <td>NZ</td>\n",
       "      <td>1623899275</td>\n",
       "    </tr>\n",
       "    <tr>\n",
       "      <th>3</th>\n",
       "      <td>port hardy</td>\n",
       "      <td>50.6996</td>\n",
       "      <td>-127.4199</td>\n",
       "      <td>56.55</td>\n",
       "      <td>81</td>\n",
       "      <td>90</td>\n",
       "      <td>10.22</td>\n",
       "      <td>CA</td>\n",
       "      <td>1623899275</td>\n",
       "    </tr>\n",
       "    <tr>\n",
       "      <th>4</th>\n",
       "      <td>vanderhoof</td>\n",
       "      <td>54.0166</td>\n",
       "      <td>-124.0198</td>\n",
       "      <td>62.35</td>\n",
       "      <td>41</td>\n",
       "      <td>67</td>\n",
       "      <td>11.65</td>\n",
       "      <td>CA</td>\n",
       "      <td>1623899275</td>\n",
       "    </tr>\n",
       "    <tr>\n",
       "      <th>...</th>\n",
       "      <td>...</td>\n",
       "      <td>...</td>\n",
       "      <td>...</td>\n",
       "      <td>...</td>\n",
       "      <td>...</td>\n",
       "      <td>...</td>\n",
       "      <td>...</td>\n",
       "      <td>...</td>\n",
       "      <td>...</td>\n",
       "    </tr>\n",
       "    <tr>\n",
       "      <th>550</th>\n",
       "      <td>tanout</td>\n",
       "      <td>14.9709</td>\n",
       "      <td>8.8879</td>\n",
       "      <td>79.88</td>\n",
       "      <td>49</td>\n",
       "      <td>79</td>\n",
       "      <td>7.43</td>\n",
       "      <td>NE</td>\n",
       "      <td>1623899495</td>\n",
       "    </tr>\n",
       "    <tr>\n",
       "      <th>551</th>\n",
       "      <td>hamilton</td>\n",
       "      <td>39.1834</td>\n",
       "      <td>-84.5333</td>\n",
       "      <td>67.21</td>\n",
       "      <td>68</td>\n",
       "      <td>1</td>\n",
       "      <td>0.00</td>\n",
       "      <td>US</td>\n",
       "      <td>1623899297</td>\n",
       "    </tr>\n",
       "    <tr>\n",
       "      <th>552</th>\n",
       "      <td>yeppoon</td>\n",
       "      <td>-23.1333</td>\n",
       "      <td>150.7333</td>\n",
       "      <td>76.78</td>\n",
       "      <td>67</td>\n",
       "      <td>19</td>\n",
       "      <td>4.72</td>\n",
       "      <td>AU</td>\n",
       "      <td>1623899496</td>\n",
       "    </tr>\n",
       "    <tr>\n",
       "      <th>553</th>\n",
       "      <td>bambey</td>\n",
       "      <td>14.6955</td>\n",
       "      <td>-16.4493</td>\n",
       "      <td>74.17</td>\n",
       "      <td>80</td>\n",
       "      <td>62</td>\n",
       "      <td>7.90</td>\n",
       "      <td>SN</td>\n",
       "      <td>1623899496</td>\n",
       "    </tr>\n",
       "    <tr>\n",
       "      <th>554</th>\n",
       "      <td>chifeng</td>\n",
       "      <td>42.2683</td>\n",
       "      <td>118.9636</td>\n",
       "      <td>74.97</td>\n",
       "      <td>21</td>\n",
       "      <td>0</td>\n",
       "      <td>10.04</td>\n",
       "      <td>CN</td>\n",
       "      <td>1623899497</td>\n",
       "    </tr>\n",
       "  </tbody>\n",
       "</table>\n",
       "<p>555 rows × 9 columns</p>\n",
       "</div>"
      ],
      "text/plain": [
       "            City      Lat       Lng  Max Temp  Humidity  Cloudiness  \\\n",
       "0    east london -33.0153   27.9116     61.00        75          40   \n",
       "1          vaini -21.2000 -175.2000     75.36        94          75   \n",
       "2        mataura -46.1927  168.8643     46.47        89          87   \n",
       "3     port hardy  50.6996 -127.4199     56.55        81          90   \n",
       "4     vanderhoof  54.0166 -124.0198     62.35        41          67   \n",
       "..           ...      ...       ...       ...       ...         ...   \n",
       "550       tanout  14.9709    8.8879     79.88        49          79   \n",
       "551     hamilton  39.1834  -84.5333     67.21        68           1   \n",
       "552      yeppoon -23.1333  150.7333     76.78        67          19   \n",
       "553       bambey  14.6955  -16.4493     74.17        80          62   \n",
       "554      chifeng  42.2683  118.9636     74.97        21           0   \n",
       "\n",
       "     Wind Speed Country        Date  \n",
       "0          6.46      ZA  1623899274  \n",
       "1          5.75      TO  1623899274  \n",
       "2          2.91      NZ  1623899275  \n",
       "3         10.22      CA  1623899275  \n",
       "4         11.65      CA  1623899275  \n",
       "..          ...     ...         ...  \n",
       "550        7.43      NE  1623899495  \n",
       "551        0.00      US  1623899297  \n",
       "552        4.72      AU  1623899496  \n",
       "553        7.90      SN  1623899496  \n",
       "554       10.04      CN  1623899497  \n",
       "\n",
       "[555 rows x 9 columns]"
      ]
     },
     "execution_count": 9,
     "metadata": {},
     "output_type": "execute_result"
    }
   ],
   "source": [
    "city_df"
   ]
  },
  {
   "cell_type": "markdown",
   "metadata": {},
   "source": [
    "## Inspect the data and remove the cities where the humidity > 100%.\n",
    "----\n",
    "Skip this step if there are no cities that have humidity > 100%. "
   ]
  },
  {
   "cell_type": "code",
   "execution_count": 10,
   "metadata": {},
   "outputs": [
    {
     "data": {
      "text/html": [
       "<div>\n",
       "<style scoped>\n",
       "    .dataframe tbody tr th:only-of-type {\n",
       "        vertical-align: middle;\n",
       "    }\n",
       "\n",
       "    .dataframe tbody tr th {\n",
       "        vertical-align: top;\n",
       "    }\n",
       "\n",
       "    .dataframe thead th {\n",
       "        text-align: right;\n",
       "    }\n",
       "</style>\n",
       "<table border=\"1\" class=\"dataframe\">\n",
       "  <thead>\n",
       "    <tr style=\"text-align: right;\">\n",
       "      <th></th>\n",
       "      <th>Lat</th>\n",
       "      <th>Lng</th>\n",
       "      <th>Max Temp</th>\n",
       "      <th>Humidity</th>\n",
       "      <th>Cloudiness</th>\n",
       "      <th>Wind Speed</th>\n",
       "      <th>Date</th>\n",
       "    </tr>\n",
       "  </thead>\n",
       "  <tbody>\n",
       "    <tr>\n",
       "      <th>count</th>\n",
       "      <td>555.000000</td>\n",
       "      <td>555.000000</td>\n",
       "      <td>555.000000</td>\n",
       "      <td>555.000000</td>\n",
       "      <td>555.000000</td>\n",
       "      <td>555.000000</td>\n",
       "      <td>5.550000e+02</td>\n",
       "    </tr>\n",
       "    <tr>\n",
       "      <th>mean</th>\n",
       "      <td>20.133017</td>\n",
       "      <td>14.654829</td>\n",
       "      <td>67.163153</td>\n",
       "      <td>69.632432</td>\n",
       "      <td>56.284685</td>\n",
       "      <td>7.794667</td>\n",
       "      <td>1.623899e+09</td>\n",
       "    </tr>\n",
       "    <tr>\n",
       "      <th>std</th>\n",
       "      <td>33.185515</td>\n",
       "      <td>92.761736</td>\n",
       "      <td>14.446376</td>\n",
       "      <td>20.734222</td>\n",
       "      <td>39.890804</td>\n",
       "      <td>5.586228</td>\n",
       "      <td>7.979107e+01</td>\n",
       "    </tr>\n",
       "    <tr>\n",
       "      <th>min</th>\n",
       "      <td>-54.800000</td>\n",
       "      <td>-179.166700</td>\n",
       "      <td>22.950000</td>\n",
       "      <td>10.000000</td>\n",
       "      <td>0.000000</td>\n",
       "      <td>0.000000</td>\n",
       "      <td>1.623899e+09</td>\n",
       "    </tr>\n",
       "    <tr>\n",
       "      <th>25%</th>\n",
       "      <td>-8.304600</td>\n",
       "      <td>-68.359750</td>\n",
       "      <td>57.670000</td>\n",
       "      <td>60.000000</td>\n",
       "      <td>11.000000</td>\n",
       "      <td>3.690000</td>\n",
       "      <td>1.623899e+09</td>\n",
       "    </tr>\n",
       "    <tr>\n",
       "      <th>50%</th>\n",
       "      <td>24.383300</td>\n",
       "      <td>21.036700</td>\n",
       "      <td>68.880000</td>\n",
       "      <td>75.000000</td>\n",
       "      <td>67.000000</td>\n",
       "      <td>6.510000</td>\n",
       "      <td>1.623899e+09</td>\n",
       "    </tr>\n",
       "    <tr>\n",
       "      <th>75%</th>\n",
       "      <td>47.735450</td>\n",
       "      <td>95.845700</td>\n",
       "      <td>78.540000</td>\n",
       "      <td>84.000000</td>\n",
       "      <td>98.000000</td>\n",
       "      <td>10.370000</td>\n",
       "      <td>1.623899e+09</td>\n",
       "    </tr>\n",
       "    <tr>\n",
       "      <th>max</th>\n",
       "      <td>78.218600</td>\n",
       "      <td>178.416700</td>\n",
       "      <td>106.270000</td>\n",
       "      <td>100.000000</td>\n",
       "      <td>100.000000</td>\n",
       "      <td>30.240000</td>\n",
       "      <td>1.623899e+09</td>\n",
       "    </tr>\n",
       "  </tbody>\n",
       "</table>\n",
       "</div>"
      ],
      "text/plain": [
       "              Lat         Lng    Max Temp    Humidity  Cloudiness  Wind Speed  \\\n",
       "count  555.000000  555.000000  555.000000  555.000000  555.000000  555.000000   \n",
       "mean    20.133017   14.654829   67.163153   69.632432   56.284685    7.794667   \n",
       "std     33.185515   92.761736   14.446376   20.734222   39.890804    5.586228   \n",
       "min    -54.800000 -179.166700   22.950000   10.000000    0.000000    0.000000   \n",
       "25%     -8.304600  -68.359750   57.670000   60.000000   11.000000    3.690000   \n",
       "50%     24.383300   21.036700   68.880000   75.000000   67.000000    6.510000   \n",
       "75%     47.735450   95.845700   78.540000   84.000000   98.000000   10.370000   \n",
       "max     78.218600  178.416700  106.270000  100.000000  100.000000   30.240000   \n",
       "\n",
       "               Date  \n",
       "count  5.550000e+02  \n",
       "mean   1.623899e+09  \n",
       "std    7.979107e+01  \n",
       "min    1.623899e+09  \n",
       "25%    1.623899e+09  \n",
       "50%    1.623899e+09  \n",
       "75%    1.623899e+09  \n",
       "max    1.623899e+09  "
      ]
     },
     "execution_count": 10,
     "metadata": {},
     "output_type": "execute_result"
    }
   ],
   "source": [
    "city_df.describe()"
   ]
  },
  {
   "cell_type": "code",
   "execution_count": 11,
   "metadata": {},
   "outputs": [],
   "source": [
    "#NO City with humidity above 100%"
   ]
  },
  {
   "cell_type": "markdown",
   "metadata": {},
   "source": [
    "## Plotting the Data\n",
    "* Use proper labeling of the plots using plot titles (including date of analysis) and axes labels.\n",
    "* Save the plotted figures as .pngs."
   ]
  },
  {
   "cell_type": "markdown",
   "metadata": {},
   "source": [
    "## Latitude vs. Temperature Plot"
   ]
  },
  {
   "cell_type": "code",
   "execution_count": 12,
   "metadata": {
    "scrolled": true
   },
   "outputs": [
    {
     "data": {
      "text/plain": [
       "<function matplotlib.pyplot.show(close=None, block=None)>"
      ]
     },
     "execution_count": 12,
     "metadata": {},
     "output_type": "execute_result"
    },
    {
     "data": {
      "image/png": "[encoded data removed]",
      "text/plain": [
       "<Figure size 432x288 with 1 Axes>"
      ]
     },
     "metadata": {
      "needs_background": "light"
     },
     "output_type": "display_data"
    }
   ],
   "source": [
    "latitude = city_df[\"Lat\"]\n",
    "temperature = city_df[\"Max Temp\"]\n",
    "#Plot the lat vs max temp\n",
    "plt.xlabel(\"Latitude\")\n",
    "plt.ylabel(\"Max Temperature (F)\")\n",
    "plt.title(\"Latitude vs. Temperature\")\n",
    "plt.scatter(latitude, temperature, color = \"red\", edgecolors = \"black\")\n",
    "plt.savefig(\"../output_data/Fig1.png\")\n",
    "plt.show"
   ]
  },
  {
   "cell_type": "markdown",
   "metadata": {
    "tags": []
   },
   "source": [
    "In the plot above we see the correlation between the latitude of a city and their respective highest recorded temperature. We can clearly see that the highest temperatures are recorded nearest the latitude value of zero in an upside down parabola. We can understand this correlation in a higher level by understanding that the latitude value of zero represents the Equator while the outter extremities are the North and South Poles."
   ]
  },
  {
   "cell_type": "markdown",
   "metadata": {},
   "source": [
    "## Latitude vs. Humidity Plot"
   ]
  },
  {
   "cell_type": "code",
   "execution_count": 13,
   "metadata": {},
   "outputs": [
    {
     "data": {
      "text/plain": [
       "<function matplotlib.pyplot.show(close=None, block=None)>"
      ]
     },
     "execution_count": 13,
     "metadata": {},
     "output_type": "execute_result"
    },
    {
     "data": {
      "image/png": "[encoded data removed]",
      "text/plain": [
       "<Figure size 432x288 with 1 Axes>"
      ]
     },
     "metadata": {
      "needs_background": "light"
     },
     "output_type": "display_data"
    }
   ],
   "source": [
    "humidity = city_df[\"Humidity\"]\n",
    "\n",
    "plt.xlabel(\"Latitude\"),\n",
    "plt.ylabel(\"Humidity %\"),\n",
    "plt.title(\"Latitude vs. Humidity\"),\n",
    "plt.scatter(latitude, humidity, edgecolors= \"black\"),\n",
    "plt.savefig(\"../output_data/Fig2.png\")\n",
    "plt.show\n"
   ]
  },
  {
   "cell_type": "markdown",
   "metadata": {},
   "source": [
    "There seems to be more humidity in cities with a negative Latitude value with all values plotted having more than 25 percent humidity. The cities with a positive latitude tend to have a much more spread out range of humidity percentages but many of them do fall under the 25% value. In essence, there is usually more rain in the Southern Hemisphere or at least more humidity."
   ]
  },
  {
   "cell_type": "markdown",
   "metadata": {},
   "source": [
    "## Latitude vs. Cloudiness Plot"
   ]
  },
  {
   "cell_type": "code",
   "execution_count": 14,
   "metadata": {},
   "outputs": [
    {
     "data": {
      "text/plain": [
       "<function matplotlib.pyplot.show(close=None, block=None)>"
      ]
     },
     "execution_count": 14,
     "metadata": {},
     "output_type": "execute_result"
    },
    {
     "data": {
      "image/png": "[encoded data removed]",
      "text/plain": [
       "<Figure size 432x288 with 1 Axes>"
      ]
     },
     "metadata": {
      "needs_background": "light"
     },
     "output_type": "display_data"
    }
   ],
   "source": [
    "cloudiness = city_df[\"Cloudiness\"]\n",
    "\n",
    "plt.xlabel(\"Latitude\"),\n",
    "plt.ylabel(\"Cloudiness %\"),\n",
    "plt.title(\"Latitude vs. Cloudiness\"),\n",
    "plt.scatter(latitude, cloudiness, color = \"gray\", edgecolors = \"black\"),\n",
    "plt.savefig(\"../output_data/Fig3.png\")\n",
    "plt.show"
   ]
  },
  {
   "cell_type": "markdown",
   "metadata": {},
   "source": [
    "No apparent correlation can be determined between latitude and cloudiness!"
   ]
  },
  {
   "cell_type": "markdown",
   "metadata": {},
   "source": [
    "## Latitude vs. Wind Speed Plot"
   ]
  },
  {
   "cell_type": "code",
   "execution_count": 15,
   "metadata": {},
   "outputs": [
    {
     "data": {
      "text/plain": [
       "<function matplotlib.pyplot.show(close=None, block=None)>"
      ]
     },
     "execution_count": 15,
     "metadata": {},
     "output_type": "execute_result"
    },
    {
     "data": {
      "image/png": "[encoded data removed]",
      "text/plain": [
       "<Figure size 432x288 with 1 Axes>"
      ]
     },
     "metadata": {
      "needs_background": "light"
     },
     "output_type": "display_data"
    }
   ],
   "source": [
    "wind_speed = city_df[\"Wind Speed\"]\n",
    "\n",
    "plt.xlabel(\"Latitude\"),\n",
    "plt.ylabel(\"Wind Speed\"),\n",
    "plt.title(\"Latitude vs. Wind Speed\"),\n",
    "plt.scatter(latitude, wind_speed, color = \"white\", edgecolors = \"gray\"),\n",
    "plt.grid(),\n",
    "plt.savefig(\"../output_data/Fig4.png\")\n",
    "plt.show"
   ]
  },
  {
   "cell_type": "markdown",
   "metadata": {},
   "source": [
    "Most cities do not experience high wind speeds and typically fall under a value of 12. There is a good amount of cities with higher wind speed values but they are not as prevalent. Ultimately, there is no correlation between latitude and wind speed."
   ]
  },
  {
   "cell_type": "markdown",
   "metadata": {},
   "source": [
    "## Linear Regression"
   ]
  },
  {
   "cell_type": "code",
   "execution_count": 16,
   "metadata": {},
   "outputs": [],
   "source": [
    "#Separate Northern and Southern hemispheres\n",
    "\n",
    "north_df = city_df.loc[(city_df[\"Lat\"] > 0)].dropna()\n",
    "south_df = city_df.loc[(city_df[\"Lat\"] < 0)].dropna()"
   ]
  },
  {
   "cell_type": "markdown",
   "metadata": {},
   "source": [
    "####  Northern Hemisphere - Max Temp vs. Latitude Linear Regression"
   ]
  },
  {
   "cell_type": "code",
   "execution_count": 17,
   "metadata": {},
   "outputs": [
    {
     "name": "stdout",
     "output_type": "stream",
     "text": [
      "The r value is:  -0.7186705592084149\n",
      "Temperature has a negative Linear Regression correlation with latitude. As you travel higher North the temperature decreases!\n"
     ]
    },
    {
     "data": {
      "image/png": "[encoded data removed]",
      "text/plain": [
       "<Figure size 432x288 with 1 Axes>"
      ]
     },
     "metadata": {
      "needs_background": "light"
     },
     "output_type": "display_data"
    }
   ],
   "source": [
    "northlat = north_df[\"Lat\"]\n",
    "northtemp = north_df[\"Max Temp\"]\n",
    "\n",
    "\n",
    "(slope, intercept, rvalue, pvalue, stderr) = linregress(northlat, northtemp)\n",
    "print(\"The r value is: \", rvalue)\n",
    "line_eq = northlat * slope + intercept\n",
    "plt.xlabel(\"Latitude\")\n",
    "plt.ylabel(\"Max Temperature (F)\")\n",
    "plt.title(\"Latitude vs. Temperature\")\n",
    "plt.scatter(northlat, northtemp, color = \"red\", edgecolors = \"black\")\n",
    "plt.plot(northlat, line_eq, color = \"green\")\n",
    "plt.show\n",
    "\n",
    "print(\"Temperature has a negative Linear Regression correlation with latitude. As you travel higher North the temperature decreases!\" )"
   ]
  },
  {
   "cell_type": "markdown",
   "metadata": {},
   "source": [
    "####  Southern Hemisphere - Max Temp vs. Latitude Linear Regression"
   ]
  },
  {
   "cell_type": "code",
   "execution_count": 18,
   "metadata": {},
   "outputs": [
    {
     "name": "stdout",
     "output_type": "stream",
     "text": [
      "The r value is:  0.7325285482293964\n",
      "Temperature has a positive Linear Regression correlation with latitude. As you travel towards the Equator the temperature increases!\n"
     ]
    },
    {
     "data": {
      "image/png": "[encoded data removed]",
      "text/plain": [
       "<Figure size 432x288 with 1 Axes>"
      ]
     },
     "metadata": {
      "needs_background": "light"
     },
     "output_type": "display_data"
    }
   ],
   "source": [
    "southlat = south_df[\"Lat\"]\n",
    "southtemp = south_df[\"Max Temp\"]\n",
    "\n",
    "\n",
    "(slope, intercept, rvalue, pvalue, stderr) = linregress(southlat, southtemp)\n",
    "print(\"The r value is: \", rvalue)\n",
    "line_eq2 = southlat * slope + intercept\n",
    "plt.xlabel(\"Latitude\")\n",
    "plt.ylabel(\"Max Temperature (F)\")\n",
    "plt.title(\"Latitude vs. Temperature\")\n",
    "plt.scatter(southlat, southtemp, color = \"red\", edgecolors = \"black\")\n",
    "plt.plot(southlat, line_eq2, color = \"green\")\n",
    "plt.show\n",
    "\n",
    "print(\"Temperature has a positive Linear Regression correlation with latitude. As you travel towards the Equator the temperature increases!\" )"
   ]
  },
  {
   "cell_type": "markdown",
   "metadata": {},
   "source": [
    "####  Northern Hemisphere - Humidity (%) vs. Latitude Linear Regression"
   ]
  },
  {
   "cell_type": "code",
   "execution_count": 19,
   "metadata": {},
   "outputs": [
    {
     "name": "stdout",
     "output_type": "stream",
     "text": [
      "The r value is:  -0.07607499766730255\n",
      "Humidity has a slightly negative Linear Regression correlation with latitude. As you travel higher North the humidity decreases!\n"
     ]
    },
    {
     "data": {
      "image/png": "[encoded data removed]",
      "text/plain": [
       "<Figure size 432x288 with 1 Axes>"
      ]
     },
     "metadata": {
      "needs_background": "light"
     },
     "output_type": "display_data"
    }
   ],
   "source": [
    "northhum = north_df[\"Humidity\"]\n",
    "\n",
    "\n",
    "(slope, intercept, rvalue, pvalue, stderr) = linregress(northlat, northhum)\n",
    "print(\"The r value is: \", rvalue)\n",
    "line_eq3 = northlat * slope + intercept\n",
    "plt.xlabel(\"Latitude\")\n",
    "plt.ylabel(\"Humidity %\")\n",
    "plt.title(\"Latitude vs. Humidity\")\n",
    "plt.scatter(northlat, northhum, color = \"blue\", edgecolors = \"black\")\n",
    "plt.plot(northlat, line_eq3, color = \"red\")\n",
    "plt.show\n",
    "\n",
    "print(\"Humidity has a slightly negative Linear Regression correlation with latitude. As you travel higher North the humidity decreases!\" )"
   ]
  },
  {
   "cell_type": "markdown",
   "metadata": {},
   "source": [
    "####  Southern Hemisphere - Humidity (%) vs. Latitude Linear Regression"
   ]
  },
  {
   "cell_type": "code",
   "execution_count": 20,
   "metadata": {},
   "outputs": [
    {
     "name": "stdout",
     "output_type": "stream",
     "text": [
      "The r value is:  -0.021116544560387706\n",
      "Humidity has no correlation with latitude!\n"
     ]
    },
    {
     "data": {
      "image/png": "[encoded data removed]",
      "text/plain": [
       "<Figure size 432x288 with 1 Axes>"
      ]
     },
     "metadata": {
      "needs_background": "light"
     },
     "output_type": "display_data"
    }
   ],
   "source": [
    "southhum = south_df[\"Humidity\"]\n",
    "\n",
    "\n",
    "(slope, intercept, rvalue, pvalue, stderr) = linregress(southlat, southhum)\n",
    "print(\"The r value is: \", rvalue)\n",
    "line_eq = southlat * slope + intercept\n",
    "plt.xlabel(\"Latitude\")\n",
    "plt.ylabel(\"Humidity %\")\n",
    "plt.title(\"Latitude vs. Humidity\")\n",
    "plt.scatter(southlat, southhum, color = \"blue\", edgecolors = \"black\")\n",
    "plt.plot(southlat, line_eq, color = \"red\")\n",
    "plt.show\n",
    "\n",
    "print(\"Humidity has no correlation with latitude!\" )"
   ]
  },
  {
   "cell_type": "markdown",
   "metadata": {},
   "source": [
    "####  Northern Hemisphere - Cloudiness (%) vs. Latitude Linear Regression"
   ]
  },
  {
   "cell_type": "code",
   "execution_count": 21,
   "metadata": {},
   "outputs": [
    {
     "name": "stdout",
     "output_type": "stream",
     "text": [
      "The r value is:  -0.005233093897629438\n",
      "Humidity has a slightly negative Linear Regression correlation with latitude. As you travel higher North the cloudiness decreases!\n"
     ]
    },
    {
     "data": {
      "image/png": "[encoded data removed]",
      "text/plain": [
       "<Figure size 432x288 with 1 Axes>"
      ]
     },
     "metadata": {
      "needs_background": "light"
     },
     "output_type": "display_data"
    }
   ],
   "source": [
    "northclo = north_df[\"Cloudiness\"]\n",
    "\n",
    "\n",
    "(slope, intercept, rvalue, pvalue, stderr) = linregress(northlat, northclo)\n",
    "print(\"The r value is: \", rvalue)\n",
    "line_eq = northlat * slope + intercept\n",
    "plt.xlabel(\"Latitude\")\n",
    "plt.ylabel(\"Cloudiness\")\n",
    "plt.title(\"Latitude vs. Cloudiness\")\n",
    "plt.scatter(northlat, northclo, color = \"gray\", edgecolors = \"black\")\n",
    "plt.plot(northlat, line_eq, color = \"red\")\n",
    "plt.show\n",
    "\n",
    "print(\"Humidity has a slightly negative Linear Regression correlation with latitude. As you travel higher North the cloudiness decreases!\" )"
   ]
  },
  {
   "cell_type": "markdown",
   "metadata": {},
   "source": [
    "####  Southern Hemisphere - Cloudiness (%) vs. Latitude Linear Regression"
   ]
  },
  {
   "cell_type": "code",
   "execution_count": 22,
   "metadata": {},
   "outputs": [
    {
     "name": "stdout",
     "output_type": "stream",
     "text": [
      "The r value is:  0.08375588847890966\n",
      "Humidity has a slightly positive Linear Regression correlation with latitude. As you travel North to the Equator the cloudiness increases!\n"
     ]
    },
    {
     "data": {
      "image/png": "[encoded data removed]",
      "text/plain": [
       "<Figure size 432x288 with 1 Axes>"
      ]
     },
     "metadata": {
      "needs_background": "light"
     },
     "output_type": "display_data"
    }
   ],
   "source": [
    "southclo = south_df[\"Cloudiness\"]\n",
    "\n",
    "\n",
    "(slope, intercept, rvalue, pvalue, stderr) = linregress(southlat, southclo)\n",
    "print(\"The r value is: \", rvalue)\n",
    "line_eq = southlat * slope + intercept\n",
    "plt.xlabel(\"Latitude\")\n",
    "plt.ylabel(\"Cloudiness\")\n",
    "plt.title(\"Latitude vs. Cloudiness\")\n",
    "plt.scatter(southlat, southclo, color = \"gray\", edgecolors = \"black\")\n",
    "plt.plot(southlat, line_eq, color = \"red\")\n",
    "plt.show\n",
    "\n",
    "print(\"Humidity has a slightly positive Linear Regression correlation with latitude. As you travel North to the Equator the cloudiness increases!\" )"
   ]
  },
  {
   "cell_type": "markdown",
   "metadata": {},
   "source": [
    "####  Northern Hemisphere - Wind Speed (mph) vs. Latitude Linear Regression"
   ]
  },
  {
   "cell_type": "code",
   "execution_count": 23,
   "metadata": {},
   "outputs": [
    {
     "name": "stdout",
     "output_type": "stream",
     "text": [
      "The r value is:  0.07033977263675882\n",
      "Humidity has a slightly positive Linear Regression correlation with latitude. As you travel higher North the wind speed in cities increases!\n"
     ]
    },
    {
     "data": {
      "image/png": "[encoded data removed]",
      "text/plain": [
       "<Figure size 432x288 with 1 Axes>"
      ]
     },
     "metadata": {
      "needs_background": "light"
     },
     "output_type": "display_data"
    }
   ],
   "source": [
    "northWS = north_df[\"Wind Speed\"]\n",
    "\n",
    "\n",
    "(slope, intercept, rvalue, pvalue, stderr) = linregress(northlat, northWS)\n",
    "print(\"The r value is: \", rvalue)\n",
    "line_eq = northlat * slope + intercept\n",
    "plt.xlabel(\"Latitude\")\n",
    "plt.ylabel(\"Wind Speed\")\n",
    "plt.title(\"Latitude vs. Wind Speed\")\n",
    "plt.scatter(northlat, northWS, color = \"white\", edgecolors = \"gray\")\n",
    "plt.plot(northlat, line_eq, color = \"blue\")\n",
    "plt.show\n",
    "\n",
    "print(\"Humidity has a slightly positive Linear Regression correlation with latitude. As you travel higher North the wind speed in cities increases!\" )"
   ]
  },
  {
   "cell_type": "markdown",
   "metadata": {},
   "source": [
    "####  Southern Hemisphere - Wind Speed (mph) vs. Latitude Linear Regression"
   ]
  },
  {
   "cell_type": "code",
   "execution_count": 24,
   "metadata": {},
   "outputs": [
    {
     "name": "stdout",
     "output_type": "stream",
     "text": [
      "The r value is:  -0.047300080568218085\n",
      "Humidity has a negative Linear Regression correlation with latitude. As you travel North toward the Equator the wind speed in cities decreases!\n"
     ]
    },
    {
     "data": {
      "image/png": "[encoded data removed]",
      "text/plain": [
       "<Figure size 432x288 with 1 Axes>"
      ]
     },
     "metadata": {
      "needs_background": "light"
     },
     "output_type": "display_data"
    }
   ],
   "source": [
    "southWS = south_df[\"Wind Speed\"]\n",
    "\n",
    "\n",
    "(slope, intercept, rvalue, pvalue, stderr) = linregress(southlat, southWS)\n",
    "print(\"The r value is: \", rvalue)\n",
    "line_eq = southlat * slope + intercept\n",
    "plt.xlabel(\"Latitude\")\n",
    "plt.ylabel(\"Wind Speed\")\n",
    "plt.title(\"Latitude vs. Wind Speed\")\n",
    "plt.scatter(southlat, southWS, color = \"white\", edgecolors = \"gray\")\n",
    "plt.plot(southlat, line_eq, color = \"blue\")\n",
    "plt.show\n",
    "\n",
    "print(\"Humidity has a negative Linear Regression correlation with latitude. As you travel North toward the Equator the wind speed in cities decreases!\" )"
   ]
  },
  {
   "cell_type": "code",
   "execution_count": null,
   "metadata": {},
   "outputs": [],
   "source": []
  }
 ],
 "metadata": {
  "anaconda-cloud": {},
  "kernel_info": {
   "name": "python3"
  },
  "kernelspec": {
   "display_name": "Python 3",
   "language": "python",
   "name": "python3"
  },
  "language_info": {
   "codemirror_mode": {
    "name": "ipython",
    "version": 3
   },
   "file_extension": ".py",
   "mimetype": "text/x-python",
   "name": "python",
   "nbconvert_exporter": "python",
   "pygments_lexer": "ipython3",
   "version": "3.8.8"
  },
  "latex_envs": {
   "LaTeX_envs_menu_present": true,
   "autoclose": false,
   "autocomplete": true,
   "bibliofile": "biblio.bib",
   "cite_by": "apalike",
   "current_citInitial": 1,
   "eqLabelWithNumbers": true,
   "eqNumInitial": 1,
   "hotkeys": {
    "equation": "Ctrl-E",
    "itemize": "Ctrl-I"
   },
   "labels_anchors": false,
   "latex_user_defs": false,
   "report_style_numbering": false,
   "user_envs_cfg": false
  },
  "nteract": {
   "version": "0.12.3"
  }
 },
 "nbformat": 4,
 "nbformat_minor": 4
}
