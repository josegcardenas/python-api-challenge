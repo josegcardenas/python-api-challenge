{
 "cells": [
  {
   "cell_type": "markdown",
   "metadata": {},
   "source": [
    "# WeatherPy\n",
    "----\n",
    "\n",
    "#### Note\n",
    "* Instructions have been included for each segment. You do not have to follow them exactly, but they are included to help you think through the steps."
   ]
  },
  {
   "cell_type": "code",
   "execution_count": 1,
   "metadata": {},
   "outputs": [],
   "source": [
    "#!pip install citipy"
   ]
  },
  {
   "cell_type": "code",
   "execution_count": 2,
   "metadata": {
    "scrolled": true
   },
   "outputs": [],
   "source": [
    "# Dependencies and Setup\n",
    "import matplotlib.pyplot as plt\n",
    "import pandas as pd\n",
    "import numpy as np\n",
    "import requests\n",
    "import time\n",
    "from scipy.stats import linregress\n",
    "\n",
    "# Import API key\n",
    "from api_keys import weather_api_key\n",
    "\n",
    "# Incorporated citipy to determine city based on latitude and longitude\n",
    "#!pip install citipy\n",
    "from citipy import citipy\n",
    "\n",
    "# Output File (CSV)\n",
    "output_data_file = \"output_data/cities.csv\"\n",
    "\n",
    "# Range of latitudes and longitudes\n",
    "lat_range = (-90, 90)\n",
    "lng_range = (-180, 180)"
   ]
  },
  {
   "cell_type": "code",
   "execution_count": null,
   "metadata": {},
   "outputs": [],
   "source": []
  },
  {
   "cell_type": "markdown",
   "metadata": {},
   "source": [
    "## Generate Cities List"
   ]
  },
  {
   "cell_type": "code",
   "execution_count": 3,
   "metadata": {},
   "outputs": [
    {
     "data": {
      "text/plain": [
       "636"
      ]
     },
     "execution_count": 3,
     "metadata": {},
     "output_type": "execute_result"
    }
   ],
   "source": [
    "# List for holding lat_lngs and cities\n",
    "lat_lngs = []\n",
    "cities = []\n",
    "\n",
    "# Create a set of random lat and lng combinations\n",
    "lats = np.random.uniform(lat_range[0], lat_range[1], size=1500)\n",
    "lngs = np.random.uniform(lng_range[0], lng_range[1], size=1500)\n",
    "lat_lngs = zip(lats, lngs)\n",
    "\n",
    "# Identify nearest city for each lat, lng combination\n",
    "for lat_lng in lat_lngs:\n",
    "    city = citipy.nearest_city(lat_lng[0], lat_lng[1]).city_name\n",
    "    \n",
    "    # If the city is unique, then add it to a our cities list\n",
    "    if city not in cities:\n",
    "        cities.append(city)\n",
    "\n",
    "# Print the city count to confirm sufficient count\n",
    "len(cities)"
   ]
  },
  {
   "cell_type": "markdown",
   "metadata": {},
   "source": [
    "### Perform API Calls\n",
    "* Perform a weather check on each city using a series of successive API calls.\n",
    "* Include a print log of each city as it'sbeing processed (with the city number and city name).\n"
   ]
  },
  {
   "cell_type": "code",
   "execution_count": 4,
   "metadata": {
    "scrolled": true
   },
   "outputs": [
    {
     "name": "stdout",
     "output_type": "stream",
     "text": [
      "Processing Record 1 of Set 1 | busselton\n",
      "Processing Record 2 of Set 1 | belushya guba\n",
      "City not found. Skipped...\n",
      "Processing Record 3 of Set 1 | punta arenas\n",
      "Processing Record 4 of Set 1 | carnarvon\n",
      "Processing Record 5 of Set 1 | ribeira grande\n",
      "Processing Record 6 of Set 1 | cape town\n",
      "Processing Record 7 of Set 1 | bosaso\n",
      "Processing Record 8 of Set 1 | rikitea\n",
      "Processing Record 9 of Set 1 | kangundo\n",
      "Processing Record 10 of Set 1 | necochea\n",
      "Processing Record 11 of Set 1 | barrow\n",
      "Processing Record 12 of Set 1 | yellowknife\n",
      "Processing Record 13 of Set 1 | acapulco\n",
      "Processing Record 14 of Set 1 | hermanus\n",
      "Processing Record 15 of Set 1 | ust-shonosha\n",
      "Processing Record 16 of Set 1 | hithadhoo\n",
      "Processing Record 17 of Set 1 | albany\n",
      "Processing Record 18 of Set 1 | sur\n",
      "Processing Record 19 of Set 1 | san cristobal\n",
      "Processing Record 20 of Set 1 | challans\n",
      "Processing Record 21 of Set 1 | bethel\n",
      "Processing Record 22 of Set 1 | new norfolk\n",
      "Processing Record 23 of Set 1 | sao filipe\n",
      "Processing Record 24 of Set 1 | hilo\n",
      "Processing Record 25 of Set 1 | vaini\n",
      "Processing Record 26 of Set 1 | pacific grove\n",
      "Processing Record 27 of Set 1 | kaitangata\n",
      "Processing Record 28 of Set 1 | matamba\n",
      "Processing Record 29 of Set 1 | wagga wagga\n",
      "Processing Record 30 of Set 1 | iqaluit\n",
      "Processing Record 31 of Set 1 | khatanga\n",
      "Processing Record 32 of Set 1 | taolanaro\n",
      "City not found. Skipped...\n",
      "Processing Record 33 of Set 1 | sohagpur\n",
      "Processing Record 34 of Set 1 | mar del plata\n",
      "Processing Record 35 of Set 1 | nikolskoye\n",
      "Processing Record 36 of Set 1 | denpasar\n",
      "Processing Record 37 of Set 1 | nouakchott\n",
      "Processing Record 38 of Set 1 | provideniya\n",
      "Processing Record 39 of Set 1 | bargal\n",
      "City not found. Skipped...\n",
      "Processing Record 40 of Set 1 | saldanha\n",
      "Processing Record 41 of Set 1 | castro\n",
      "Processing Record 42 of Set 1 | nanortalik\n",
      "Processing Record 43 of Set 1 | ahipara\n",
      "Processing Record 44 of Set 1 | jundubah\n",
      "City not found. Skipped...\n",
      "Processing Record 45 of Set 1 | komsomolskiy\n",
      "Processing Record 46 of Set 1 | avarua\n",
      "Processing Record 47 of Set 1 | butaritari\n",
      "Processing Record 48 of Set 1 | port macquarie\n",
      "Processing Record 49 of Set 1 | chuy\n",
      "Processing Record 50 of Set 1 | hamilton\n",
      "Processing Record 52 of Set 2 | arraial do cabo\n",
      "Processing Record 53 of Set 2 | thompson\n",
      "Processing Record 54 of Set 2 | faanui\n",
      "Processing Record 55 of Set 2 | hobart\n",
      "Processing Record 56 of Set 2 | dalvik\n",
      "Processing Record 57 of Set 2 | esperance\n",
      "Processing Record 58 of Set 2 | maimbung\n",
      "Processing Record 59 of Set 2 | shingu\n",
      "Processing Record 60 of Set 2 | skagen\n",
      "Processing Record 61 of Set 2 | zhicheng\n",
      "Processing Record 62 of Set 2 | aklavik\n",
      "Processing Record 63 of Set 2 | torbay\n",
      "Processing Record 64 of Set 2 | lazaro cardenas\n",
      "Processing Record 65 of Set 2 | puerto ayora\n",
      "Processing Record 66 of Set 2 | katangli\n",
      "Processing Record 67 of Set 2 | kihei\n",
      "Processing Record 68 of Set 2 | port-gentil\n",
      "Processing Record 69 of Set 2 | japura\n",
      "Processing Record 70 of Set 2 | lasa\n",
      "Processing Record 71 of Set 2 | tiksi\n",
      "Processing Record 72 of Set 2 | mataura\n",
      "Processing Record 73 of Set 2 | chifeng\n",
      "Processing Record 74 of Set 2 | sobolevo\n",
      "Processing Record 75 of Set 2 | romans-sur-isere\n",
      "Processing Record 76 of Set 2 | hofn\n",
      "Processing Record 77 of Set 2 | omsukchan\n",
      "Processing Record 78 of Set 2 | port alfred\n",
      "Processing Record 79 of Set 2 | san carlos de bariloche\n",
      "Processing Record 80 of Set 2 | umm lajj\n",
      "Processing Record 81 of Set 2 | geraldton\n",
      "Processing Record 82 of Set 2 | bluff\n",
      "Processing Record 83 of Set 2 | sentyabrskiy\n",
      "City not found. Skipped...\n",
      "Processing Record 84 of Set 2 | clyde river\n",
      "Processing Record 85 of Set 2 | kodiak\n",
      "Processing Record 86 of Set 2 | havelock\n",
      "Processing Record 87 of Set 2 | soyo\n",
      "Processing Record 88 of Set 2 | barentsburg\n",
      "City not found. Skipped...\n",
      "Processing Record 89 of Set 2 | college\n",
      "Processing Record 90 of Set 2 | souillac\n",
      "Processing Record 91 of Set 2 | coquimbo\n",
      "Processing Record 92 of Set 2 | sisimiut\n",
      "Processing Record 93 of Set 2 | victoria\n",
      "Processing Record 94 of Set 2 | tsihombe\n",
      "City not found. Skipped...\n",
      "Processing Record 95 of Set 2 | ilulissat\n",
      "Processing Record 96 of Set 2 | mahebourg\n",
      "Processing Record 97 of Set 2 | pesqueira\n",
      "Processing Record 98 of Set 2 | ushuaia\n",
      "Processing Record 99 of Set 2 | solovetskiy\n",
      "City not found. Skipped...\n",
      "Processing Record 100 of Set 2 | cururupu\n",
      "City not found. Skipped...\n",
      "Processing Record 102 of Set 3 | izumo\n",
      "Processing Record 103 of Set 3 | kirovskiy\n",
      "Processing Record 104 of Set 3 | potgietersrus\n",
      "City not found. Skipped...\n",
      "Processing Record 105 of Set 3 | atuona\n",
      "Processing Record 106 of Set 3 | santa lucia\n",
      "Processing Record 107 of Set 3 | avera\n",
      "Processing Record 108 of Set 3 | tual\n",
      "Processing Record 109 of Set 3 | yokadouma\n",
      "Processing Record 110 of Set 3 | gweta\n",
      "Processing Record 111 of Set 3 | andenes\n",
      "Processing Record 112 of Set 3 | guerrero negro\n",
      "Processing Record 113 of Set 3 | akdepe\n",
      "Processing Record 114 of Set 3 | prince rupert\n",
      "Processing Record 115 of Set 3 | tingrela\n",
      "City not found. Skipped...\n",
      "Processing Record 116 of Set 3 | estelle\n",
      "Processing Record 117 of Set 3 | longyearbyen\n",
      "Processing Record 118 of Set 3 | ozernovskiy\n",
      "Processing Record 119 of Set 3 | qaanaaq\n",
      "Processing Record 120 of Set 3 | stromness\n",
      "Processing Record 121 of Set 3 | ucluelet\n",
      "Processing Record 122 of Set 3 | maumere\n",
      "Processing Record 123 of Set 3 | samalaeulu\n",
      "City not found. Skipped...\n",
      "Processing Record 124 of Set 3 | ararat\n",
      "Processing Record 125 of Set 3 | huarmey\n",
      "Processing Record 126 of Set 3 | vestmannaeyjar\n",
      "Processing Record 127 of Set 3 | cayenne\n",
      "Processing Record 128 of Set 3 | saint-philippe\n",
      "Processing Record 129 of Set 3 | tuktoyaktuk\n",
      "Processing Record 130 of Set 3 | sinnamary\n",
      "Processing Record 131 of Set 3 | kapaa\n",
      "Processing Record 132 of Set 3 | tasiilaq\n",
      "Processing Record 133 of Set 3 | baijiantan\n",
      "Processing Record 134 of Set 3 | irbeyskoye\n",
      "Processing Record 135 of Set 3 | fortuna\n",
      "Processing Record 136 of Set 3 | dikson\n",
      "Processing Record 137 of Set 3 | gwanda\n",
      "Processing Record 138 of Set 3 | great yarmouth\n",
      "Processing Record 139 of Set 3 | cabo san lucas\n",
      "Processing Record 140 of Set 3 | inuvik\n",
      "Processing Record 141 of Set 3 | oum hadjer\n",
      "Processing Record 142 of Set 3 | coihaique\n",
      "Processing Record 143 of Set 3 | port elizabeth\n",
      "Processing Record 144 of Set 3 | saint-georges\n",
      "Processing Record 145 of Set 3 | plettenberg bay\n",
      "Processing Record 146 of Set 3 | sivaki\n",
      "Processing Record 147 of Set 3 | airai\n",
      "Processing Record 148 of Set 3 | mayo\n",
      "Processing Record 149 of Set 3 | port hawkesbury\n",
      "Processing Record 150 of Set 3 | severo-kurilsk\n",
      "Processing Record 152 of Set 4 | jamalpur\n",
      "Processing Record 153 of Set 4 | yar-sale\n",
      "Processing Record 154 of Set 4 | byron bay\n",
      "Processing Record 155 of Set 4 | dibaya\n",
      "City not found. Skipped...\n",
      "Processing Record 156 of Set 4 | upernavik\n",
      "Processing Record 157 of Set 4 | palmer\n",
      "Processing Record 158 of Set 4 | holme\n",
      "Processing Record 159 of Set 4 | touros\n",
      "Processing Record 160 of Set 4 | burns lake\n",
      "Processing Record 161 of Set 4 | okhotsk\n",
      "Processing Record 162 of Set 4 | nabire\n",
      "Processing Record 163 of Set 4 | atasu\n",
      "Processing Record 164 of Set 4 | constitucion\n",
      "Processing Record 165 of Set 4 | amderma\n",
      "City not found. Skipped...\n",
      "Processing Record 166 of Set 4 | nikki\n",
      "Processing Record 167 of Set 4 | mys shmidta\n",
      "City not found. Skipped...\n",
      "Processing Record 168 of Set 4 | jacqueville\n",
      "Processing Record 169 of Set 4 | bathsheba\n",
      "Processing Record 170 of Set 4 | bredasdorp\n",
      "Processing Record 171 of Set 4 | portsmouth\n",
      "Processing Record 172 of Set 4 | vao\n",
      "Processing Record 173 of Set 4 | alice springs\n",
      "Processing Record 174 of Set 4 | urengoy\n",
      "Processing Record 175 of Set 4 | pali\n",
      "Processing Record 176 of Set 4 | purwa\n",
      "Processing Record 177 of Set 4 | tambopata\n",
      "Processing Record 178 of Set 4 | cherdyn\n",
      "Processing Record 179 of Set 4 | brownsville\n",
      "Processing Record 180 of Set 4 | pisco\n",
      "Processing Record 181 of Set 4 | bondo\n",
      "Processing Record 182 of Set 4 | paamiut\n",
      "Processing Record 183 of Set 4 | thap khlo\n",
      "Processing Record 184 of Set 4 | yatou\n",
      "Processing Record 185 of Set 4 | jamestown\n",
      "Processing Record 186 of Set 4 | barranca\n",
      "Processing Record 187 of Set 4 | havre-saint-pierre\n",
      "Processing Record 188 of Set 4 | ewa beach\n",
      "Processing Record 189 of Set 4 | sorland\n",
      "Processing Record 190 of Set 4 | hami\n",
      "Processing Record 191 of Set 4 | killybegs\n",
      "Processing Record 192 of Set 4 | mongu\n",
      "Processing Record 193 of Set 4 | tiarei\n",
      "Processing Record 194 of Set 4 | karkaralinsk\n",
      "City not found. Skipped...\n",
      "Processing Record 195 of Set 4 | rio branco\n",
      "Processing Record 196 of Set 4 | maragogi\n",
      "Processing Record 197 of Set 4 | chumikan\n",
      "Processing Record 198 of Set 4 | rawson\n",
      "Processing Record 199 of Set 4 | christchurch\n",
      "Processing Record 200 of Set 4 | dunedin\n",
      "Processing Record 202 of Set 5 | asau\n",
      "Processing Record 203 of Set 5 | chokurdakh\n",
      "Processing Record 204 of Set 5 | sao joao da barra\n",
      "Processing Record 205 of Set 5 | worcester\n",
      "Processing Record 206 of Set 5 | portland\n",
      "Processing Record 207 of Set 5 | laguna\n",
      "Processing Record 208 of Set 5 | umba\n",
      "Processing Record 209 of Set 5 | pushchino\n",
      "Processing Record 210 of Set 5 | damietta\n",
      "Processing Record 211 of Set 5 | bandarbeyla\n",
      "Processing Record 212 of Set 5 | yerbogachen\n",
      "Processing Record 213 of Set 5 | koumac\n",
      "Processing Record 214 of Set 5 | dingle\n",
      "Processing Record 215 of Set 5 | atikokan\n",
      "Processing Record 216 of Set 5 | cumaribo\n",
      "City not found. Skipped...\n",
      "Processing Record 217 of Set 5 | ufimskiy\n",
      "Processing Record 218 of Set 5 | maneromango\n",
      "Processing Record 219 of Set 5 | filadelfia\n",
      "Processing Record 220 of Set 5 | bestobe\n",
      "Processing Record 221 of Set 5 | fushan\n",
      "Processing Record 222 of Set 5 | pangnirtung\n",
      "Processing Record 223 of Set 5 | amot\n",
      "Processing Record 224 of Set 5 | grand river south east\n",
      "City not found. Skipped...\n",
      "Processing Record 225 of Set 5 | kuusamo\n",
      "Processing Record 226 of Set 5 | pevek\n",
      "Processing Record 227 of Set 5 | azimur\n",
      "City not found. Skipped...\n",
      "Processing Record 228 of Set 5 | cherskiy\n",
      "Processing Record 229 of Set 5 | maykain\n",
      "City not found. Skipped...\n",
      "Processing Record 230 of Set 5 | celestun\n",
      "Processing Record 231 of Set 5 | ryazhsk\n",
      "Processing Record 232 of Set 5 | billings\n",
      "Processing Record 233 of Set 5 | coro\n",
      "Processing Record 234 of Set 5 | swift current\n",
      "Processing Record 235 of Set 5 | orotukan\n",
      "Processing Record 236 of Set 5 | oranjemund\n",
      "Processing Record 237 of Set 5 | vila franca do campo\n",
      "Processing Record 238 of Set 5 | hambantota\n",
      "Processing Record 239 of Set 5 | grindavik\n",
      "Processing Record 240 of Set 5 | rodino\n",
      "Processing Record 241 of Set 5 | ibra\n",
      "Processing Record 242 of Set 5 | bambous virieux\n",
      "Processing Record 243 of Set 5 | mitsamiouli\n",
      "Processing Record 244 of Set 5 | lucea\n",
      "Processing Record 245 of Set 5 | kologriv\n",
      "Processing Record 246 of Set 5 | beyneu\n",
      "Processing Record 247 of Set 5 | novouzensk\n",
      "Processing Record 248 of Set 5 | cairns\n",
      "Processing Record 249 of Set 5 | miajadas\n",
      "Processing Record 250 of Set 5 | tokur\n",
      "Processing Record 252 of Set 6 | ngukurr\n",
      "City not found. Skipped...\n",
      "Processing Record 253 of Set 6 | isangel\n",
      "Processing Record 254 of Set 6 | egvekinot\n",
      "Processing Record 255 of Set 6 | nome\n",
      "Processing Record 256 of Set 6 | bengkulu\n",
      "Processing Record 257 of Set 6 | seoul\n",
      "Processing Record 258 of Set 6 | villaviciosa\n",
      "Processing Record 259 of Set 6 | samarai\n",
      "Processing Record 260 of Set 6 | tabuk\n",
      "Processing Record 261 of Set 6 | te anau\n",
      "Processing Record 262 of Set 6 | solnechnyy\n",
      "Processing Record 263 of Set 6 | nelson bay\n",
      "Processing Record 264 of Set 6 | okandja\n",
      "City not found. Skipped...\n",
      "Processing Record 265 of Set 6 | belen\n",
      "Processing Record 266 of Set 6 | hwange\n",
      "Processing Record 267 of Set 6 | klaksvik\n",
      "Processing Record 268 of Set 6 | port lincoln\n",
      "Processing Record 269 of Set 6 | dauriya\n",
      "Processing Record 270 of Set 6 | saint george\n",
      "Processing Record 271 of Set 6 | ust-nera\n",
      "Processing Record 272 of Set 6 | padang\n",
      "Processing Record 273 of Set 6 | arman\n",
      "Processing Record 274 of Set 6 | leningradskiy\n",
      "Processing Record 275 of Set 6 | nishihara\n",
      "Processing Record 276 of Set 6 | mercedes\n",
      "Processing Record 277 of Set 6 | chebsara\n",
      "Processing Record 278 of Set 6 | barcelos\n",
      "Processing Record 279 of Set 6 | laylay\n",
      "Processing Record 280 of Set 6 | attawapiskat\n",
      "City not found. Skipped...\n",
      "Processing Record 281 of Set 6 | robertsport\n",
      "Processing Record 282 of Set 6 | oros\n",
      "Processing Record 283 of Set 6 | hasaki\n",
      "Processing Record 284 of Set 6 | pocone\n",
      "Processing Record 285 of Set 6 | feijo\n",
      "Processing Record 286 of Set 6 | makakilo city\n",
      "Processing Record 287 of Set 6 | san martin\n",
      "Processing Record 288 of Set 6 | kavieng\n",
      "Processing Record 289 of Set 6 | tombouctou\n",
      "Processing Record 290 of Set 6 | savannah bight\n",
      "Processing Record 291 of Set 6 | poco branco\n",
      "Processing Record 292 of Set 6 | tocopilla\n",
      "Processing Record 293 of Set 6 | east london\n",
      "Processing Record 294 of Set 6 | kamaishi\n",
      "Processing Record 295 of Set 6 | mehamn\n",
      "Processing Record 296 of Set 6 | lufilufi\n",
      "Processing Record 297 of Set 6 | miyako\n",
      "Processing Record 298 of Set 6 | walvis bay\n",
      "Processing Record 299 of Set 6 | tukrah\n",
      "Processing Record 300 of Set 6 | mount isa\n",
      "Processing Record 302 of Set 7 | yakeshi\n",
      "Processing Record 303 of Set 7 | tateyama\n",
      "Processing Record 304 of Set 7 | severobaykalsk\n",
      "Processing Record 305 of Set 7 | vostok\n",
      "Processing Record 306 of Set 7 | palabuhanratu\n",
      "City not found. Skipped...\n",
      "Processing Record 307 of Set 7 | anchorage\n",
      "Processing Record 308 of Set 7 | babylon\n",
      "Processing Record 309 of Set 7 | kadykchan\n",
      "City not found. Skipped...\n",
      "Processing Record 310 of Set 7 | xichang\n",
      "Processing Record 311 of Set 7 | santa rosa\n",
      "Processing Record 312 of Set 7 | gari\n",
      "Processing Record 313 of Set 7 | broken hill\n",
      "Processing Record 314 of Set 7 | pangai\n",
      "Processing Record 315 of Set 7 | cabadiangan\n",
      "Processing Record 316 of Set 7 | matara\n",
      "Processing Record 317 of Set 7 | kpandu\n",
      "Processing Record 318 of Set 7 | estacion coahuila\n",
      "Processing Record 319 of Set 7 | do gonbadan\n",
      "Processing Record 320 of Set 7 | guhagar\n",
      "Processing Record 321 of Set 7 | nemuro\n",
      "Processing Record 322 of Set 7 | montevideo\n",
      "Processing Record 323 of Set 7 | cap malheureux\n",
      "Processing Record 324 of Set 7 | lebu\n",
      "Processing Record 325 of Set 7 | aksarka\n",
      "Processing Record 326 of Set 7 | bengkalis\n",
      "City not found. Skipped...\n",
      "Processing Record 327 of Set 7 | dawlatabad\n",
      "Processing Record 328 of Set 7 | tuatapere\n",
      "Processing Record 329 of Set 7 | erenhot\n",
      "Processing Record 330 of Set 7 | el faiyum\n",
      "City not found. Skipped...\n",
      "Processing Record 331 of Set 7 | blagoyevo\n",
      "Processing Record 332 of Set 7 | northam\n",
      "Processing Record 333 of Set 7 | kamenka\n",
      "Processing Record 334 of Set 7 | tabiauea\n",
      "City not found. Skipped...\n",
      "Processing Record 335 of Set 7 | porbandar\n",
      "Processing Record 336 of Set 7 | louisbourg\n",
      "City not found. Skipped...\n",
      "Processing Record 337 of Set 7 | varkkallai\n",
      "Processing Record 338 of Set 7 | altamira\n",
      "Processing Record 339 of Set 7 | fairbanks\n",
      "Processing Record 340 of Set 7 | voi\n",
      "Processing Record 341 of Set 7 | tadine\n",
      "Processing Record 342 of Set 7 | kouroussa\n",
      "Processing Record 343 of Set 7 | whitehorse\n",
      "Processing Record 344 of Set 7 | tabarqah\n",
      "City not found. Skipped...\n",
      "Processing Record 345 of Set 7 | margate\n",
      "Processing Record 346 of Set 7 | alofi\n",
      "Processing Record 347 of Set 7 | tambovka\n",
      "Processing Record 348 of Set 7 | ruatoria\n",
      "City not found. Skipped...\n",
      "Processing Record 349 of Set 7 | colon\n",
      "Processing Record 350 of Set 7 | ardakan\n",
      "Processing Record 352 of Set 8 | kununurra\n",
      "Processing Record 353 of Set 8 | umzimvubu\n",
      "City not found. Skipped...\n",
      "Processing Record 354 of Set 8 | luocheng\n",
      "Processing Record 355 of Set 8 | cidreira\n",
      "Processing Record 356 of Set 8 | latung\n",
      "Processing Record 357 of Set 8 | saskylakh\n",
      "Processing Record 358 of Set 8 | la libertad\n",
      "Processing Record 359 of Set 8 | visby\n",
      "Processing Record 360 of Set 8 | alotau\n",
      "City not found. Skipped...\n",
      "Processing Record 361 of Set 8 | vadso\n",
      "Processing Record 362 of Set 8 | banda aceh\n",
      "Processing Record 363 of Set 8 | altay\n",
      "Processing Record 364 of Set 8 | viligili\n",
      "City not found. Skipped...\n",
      "Processing Record 365 of Set 8 | uk\n",
      "City not found. Skipped...\n",
      "Processing Record 366 of Set 8 | kupang\n",
      "Processing Record 367 of Set 8 | iisaku\n",
      "Processing Record 368 of Set 8 | nanfeng\n",
      "Processing Record 369 of Set 8 | hovd\n",
      "Processing Record 370 of Set 8 | obihiro\n",
      "Processing Record 371 of Set 8 | dicabisagan\n",
      "Processing Record 372 of Set 8 | namibe\n",
      "Processing Record 373 of Set 8 | arlit\n",
      "Processing Record 374 of Set 8 | manacor\n",
      "Processing Record 375 of Set 8 | port blair\n",
      "Processing Record 376 of Set 8 | tocache\n",
      "Processing Record 377 of Set 8 | usinsk\n",
      "Processing Record 378 of Set 8 | nizhneyansk\n",
      "City not found. Skipped...\n",
      "Processing Record 379 of Set 8 | mandera\n",
      "Processing Record 380 of Set 8 | saint-louis\n",
      "Processing Record 381 of Set 8 | norman wells\n",
      "Processing Record 382 of Set 8 | ulyanovo\n",
      "City not found. Skipped...\n",
      "Processing Record 383 of Set 8 | kenora\n",
      "Processing Record 384 of Set 8 | lata\n",
      "Processing Record 385 of Set 8 | cabedelo\n",
      "Processing Record 386 of Set 8 | resen\n",
      "Processing Record 387 of Set 8 | linqiong\n",
      "Processing Record 388 of Set 8 | faya\n",
      "Processing Record 389 of Set 8 | lagoa\n",
      "Processing Record 390 of Set 8 | formoso do araguaia\n",
      "City not found. Skipped...\n",
      "Processing Record 391 of Set 8 | rapid valley\n",
      "Processing Record 392 of Set 8 | honiara\n",
      "Processing Record 393 of Set 8 | luwuk\n",
      "Processing Record 394 of Set 8 | jimenez\n",
      "Processing Record 395 of Set 8 | bloomfield\n",
      "Processing Record 396 of Set 8 | broome\n",
      "Processing Record 397 of Set 8 | shu\n",
      "Processing Record 398 of Set 8 | srednekolymsk\n",
      "Processing Record 399 of Set 8 | muroto\n",
      "Processing Record 400 of Set 8 | henties bay\n",
      "Processing Record 402 of Set 9 | bar harbor\n",
      "Processing Record 403 of Set 9 | nuoro\n",
      "Processing Record 404 of Set 9 | luderitz\n",
      "Processing Record 405 of Set 9 | vila\n",
      "Processing Record 406 of Set 9 | tazovskiy\n",
      "Processing Record 407 of Set 9 | narsaq\n",
      "Processing Record 408 of Set 9 | sangar\n",
      "Processing Record 409 of Set 9 | mishan\n",
      "Processing Record 410 of Set 9 | jeronimo monteiro\n",
      "Processing Record 411 of Set 9 | lorengau\n",
      "Processing Record 412 of Set 9 | deputatskiy\n",
      "Processing Record 413 of Set 9 | machala\n",
      "Processing Record 414 of Set 9 | hilton head island\n",
      "Processing Record 415 of Set 9 | mount gambier\n",
      "Processing Record 416 of Set 9 | svetlyy\n",
      "Processing Record 417 of Set 9 | odweyne\n",
      "Processing Record 418 of Set 9 | chebarkul\n",
      "Processing Record 419 of Set 9 | mandalgovi\n",
      "Processing Record 420 of Set 9 | atambua\n",
      "Processing Record 421 of Set 9 | ahuimanu\n",
      "Processing Record 422 of Set 9 | hay river\n",
      "Processing Record 423 of Set 9 | bolshaya martynovka\n",
      "Processing Record 424 of Set 9 | molina\n",
      "Processing Record 425 of Set 9 | sento se\n",
      "City not found. Skipped...\n",
      "Processing Record 426 of Set 9 | eyl\n",
      "Processing Record 427 of Set 9 | ushibuka\n",
      "Processing Record 428 of Set 9 | praya\n",
      "Processing Record 429 of Set 9 | verkhoyansk\n",
      "Processing Record 430 of Set 9 | yulara\n",
      "Processing Record 431 of Set 9 | tilaran\n",
      "Processing Record 432 of Set 9 | taltal\n",
      "Processing Record 433 of Set 9 | moron\n",
      "Processing Record 434 of Set 9 | aksay\n",
      "Processing Record 435 of Set 9 | sao miguel do araguaia\n",
      "Processing Record 436 of Set 9 | ponta do sol\n",
      "Processing Record 437 of Set 9 | tezu\n",
      "Processing Record 438 of Set 9 | kota bahru\n",
      "Processing Record 439 of Set 9 | saint andrews\n",
      "Processing Record 440 of Set 9 | ancud\n",
      "Processing Record 441 of Set 9 | port hedland\n",
      "Processing Record 442 of Set 9 | haimen\n",
      "Processing Record 443 of Set 9 | santa cruz de la palma\n",
      "Processing Record 444 of Set 9 | port pirie\n",
      "Processing Record 445 of Set 9 | anadyr\n",
      "Processing Record 446 of Set 9 | san patricio\n",
      "Processing Record 447 of Set 9 | vanimo\n",
      "Processing Record 448 of Set 9 | sept-iles\n",
      "Processing Record 449 of Set 9 | mbandaka\n",
      "Processing Record 450 of Set 9 | vaitupu\n",
      "City not found. Skipped...\n",
      "Processing Record 452 of Set 10 | tawau\n",
      "Processing Record 453 of Set 10 | halalo\n",
      "City not found. Skipped...\n",
      "Processing Record 454 of Set 10 | bac\n",
      "Processing Record 455 of Set 10 | roald\n",
      "Processing Record 456 of Set 10 | quatre cocos\n",
      "Processing Record 457 of Set 10 | buala\n",
      "Processing Record 458 of Set 10 | grenaa\n",
      "Processing Record 459 of Set 10 | kudahuvadhoo\n",
      "Processing Record 460 of Set 10 | chepen\n",
      "Processing Record 461 of Set 10 | ballybofey\n",
      "Processing Record 462 of Set 10 | port moresby\n",
      "Processing Record 463 of Set 10 | sungairaya\n",
      "Processing Record 464 of Set 10 | los andes\n",
      "Processing Record 465 of Set 10 | chulman\n",
      "Processing Record 466 of Set 10 | jalu\n",
      "Processing Record 467 of Set 10 | meyungs\n",
      "City not found. Skipped...\n",
      "Processing Record 468 of Set 10 | saleaula\n",
      "City not found. Skipped...\n",
      "Processing Record 469 of Set 10 | kasangulu\n",
      "Processing Record 470 of Set 10 | alyangula\n",
      "Processing Record 471 of Set 10 | aleksandriyskaya\n",
      "Processing Record 472 of Set 10 | dalbandin\n",
      "Processing Record 473 of Set 10 | berlevag\n",
      "Processing Record 474 of Set 10 | halifax\n",
      "Processing Record 475 of Set 10 | zhaodong\n",
      "Processing Record 476 of Set 10 | kharp\n",
      "Processing Record 477 of Set 10 | tura\n",
      "Processing Record 478 of Set 10 | seymchan\n",
      "Processing Record 479 of Set 10 | gualaquiza\n",
      "Processing Record 480 of Set 10 | novikovo\n",
      "Processing Record 481 of Set 10 | ketchikan\n",
      "Processing Record 482 of Set 10 | mongo\n",
      "Processing Record 483 of Set 10 | valparaiso\n",
      "Processing Record 484 of Set 10 | eureka\n",
      "Processing Record 485 of Set 10 | phalaborwa\n",
      "Processing Record 486 of Set 10 | liberty\n",
      "Processing Record 487 of Set 10 | mujiayingzi\n",
      "Processing Record 488 of Set 10 | morondava\n",
      "Processing Record 489 of Set 10 | baykit\n",
      "Processing Record 490 of Set 10 | leh\n",
      "Processing Record 491 of Set 10 | san quintin\n",
      "Processing Record 492 of Set 10 | pustoshka\n",
      "Processing Record 493 of Set 10 | storsteinnes\n",
      "Processing Record 494 of Set 10 | chodavaram\n",
      "Processing Record 495 of Set 10 | awjilah\n",
      "Processing Record 496 of Set 10 | atar\n",
      "Processing Record 497 of Set 10 | rajgarh\n",
      "Processing Record 498 of Set 10 | chapais\n",
      "Processing Record 499 of Set 10 | antofagasta\n",
      "Processing Record 500 of Set 10 | camacha\n",
      "Processing Record 502 of Set 11 | oistins\n",
      "Processing Record 503 of Set 11 | karratha\n",
      "Processing Record 504 of Set 11 | iranshahr\n",
      "Processing Record 505 of Set 11 | ocos\n",
      "Processing Record 506 of Set 11 | belyy yar\n",
      "Processing Record 507 of Set 11 | kavaratti\n",
      "Processing Record 508 of Set 11 | newport\n",
      "Processing Record 509 of Set 11 | sabha\n",
      "Processing Record 510 of Set 11 | tome\n",
      "Processing Record 511 of Set 11 | puerto escondido\n",
      "Processing Record 512 of Set 11 | paradwip\n",
      "City not found. Skipped...\n",
      "Processing Record 513 of Set 11 | marawi\n",
      "Processing Record 514 of Set 11 | georgetown\n",
      "Processing Record 515 of Set 11 | claresholm\n",
      "Processing Record 516 of Set 11 | juegang\n",
      "Processing Record 517 of Set 11 | bowen\n",
      "Processing Record 518 of Set 11 | kloulklubed\n",
      "Processing Record 519 of Set 11 | buon me thuot\n",
      "City not found. Skipped...\n",
      "Processing Record 520 of Set 11 | gamba\n",
      "Processing Record 521 of Set 11 | palma gil\n",
      "Processing Record 522 of Set 11 | eirunepe\n",
      "Processing Record 523 of Set 11 | beloha\n",
      "Processing Record 524 of Set 11 | sorong\n",
      "Processing Record 525 of Set 11 | maningrida\n",
      "Processing Record 526 of Set 11 | ahmadabad\n",
      "Processing Record 527 of Set 11 | vlore\n",
      "Processing Record 528 of Set 11 | zilair\n",
      "Processing Record 529 of Set 11 | erzin\n",
      "Processing Record 530 of Set 11 | beringovskiy\n",
      "Processing Record 531 of Set 11 | burnie\n",
      "Processing Record 532 of Set 11 | hualmay\n",
      "Processing Record 533 of Set 11 | zhangjiakou\n",
      "Processing Record 534 of Set 11 | uribia\n",
      "Processing Record 535 of Set 11 | shimoda\n",
      "Processing Record 536 of Set 11 | umea\n",
      "Processing Record 537 of Set 11 | nawa\n",
      "Processing Record 538 of Set 11 | rodrigues alves\n",
      "Processing Record 539 of Set 11 | mildura\n",
      "Processing Record 540 of Set 11 | prainha\n",
      "Processing Record 541 of Set 11 | talara\n",
      "Processing Record 542 of Set 11 | ahvaz\n",
      "Processing Record 543 of Set 11 | santa ana\n",
      "Processing Record 544 of Set 11 | beypur\n",
      "City not found. Skipped...\n",
      "Processing Record 545 of Set 11 | dzhebariki-khaya\n",
      "Processing Record 546 of Set 11 | isiro\n",
      "Processing Record 547 of Set 11 | unai\n",
      "Processing Record 548 of Set 11 | kursavka\n",
      "Processing Record 549 of Set 11 | tecoanapa\n",
      "Processing Record 550 of Set 11 | batemans bay\n",
      "Processing Record 552 of Set 12 | el alto\n",
      "Processing Record 553 of Set 12 | kassala\n",
      "Processing Record 554 of Set 12 | acarau\n",
      "Processing Record 555 of Set 12 | cabangahan\n",
      "Processing Record 556 of Set 12 | ippy\n",
      "Processing Record 557 of Set 12 | isla mujeres\n",
      "Processing Record 558 of Set 12 | pelym\n",
      "Processing Record 559 of Set 12 | constantine\n",
      "Processing Record 560 of Set 12 | neftcala\n",
      "Processing Record 561 of Set 12 | gat\n",
      "Processing Record 562 of Set 12 | marsa matruh\n",
      "Processing Record 563 of Set 12 | nalut\n",
      "Processing Record 564 of Set 12 | talnakh\n",
      "Processing Record 565 of Set 12 | mosquera\n",
      "Processing Record 566 of Set 12 | tuburan\n",
      "Processing Record 567 of Set 12 | carauari\n",
      "Processing Record 568 of Set 12 | trelew\n",
      "Processing Record 569 of Set 12 | havoysund\n",
      "Processing Record 570 of Set 12 | marcona\n",
      "City not found. Skipped...\n",
      "Processing Record 571 of Set 12 | belmonte\n",
      "Processing Record 572 of Set 12 | vila velha\n",
      "Processing Record 573 of Set 12 | sambava\n",
      "Processing Record 574 of Set 12 | tongliao\n",
      "Processing Record 575 of Set 12 | lavrentiya\n",
      "Processing Record 576 of Set 12 | oranjestad\n",
      "Processing Record 577 of Set 12 | samagaltay\n",
      "Processing Record 578 of Set 12 | fare\n",
      "Processing Record 579 of Set 12 | ust-maya\n",
      "Processing Record 580 of Set 12 | chalmette\n",
      "Processing Record 581 of Set 12 | los llanos de aridane\n",
      "Processing Record 582 of Set 12 | kungurtug\n",
      "Processing Record 583 of Set 12 | hit\n",
      "Processing Record 584 of Set 12 | saint-felicien\n",
      "Processing Record 585 of Set 12 | bilibino\n",
      "Processing Record 586 of Set 12 | tripoli\n",
      "Processing Record 587 of Set 12 | rio claro\n",
      "Processing Record 588 of Set 12 | rorvik\n",
      "Processing Record 589 of Set 12 | jining\n",
      "Processing Record 590 of Set 12 | satun\n",
      "Processing Record 591 of Set 12 | staraya poltavka\n",
      "Processing Record 592 of Set 12 | iquitos\n",
      "Processing Record 593 of Set 12 | boa vista\n",
      "Processing Record 594 of Set 12 | tecpan\n",
      "Processing Record 595 of Set 12 | axim\n",
      "Processing Record 596 of Set 12 | asyut\n",
      "Processing Record 597 of Set 12 | awka\n",
      "Processing Record 598 of Set 12 | bubaque\n",
      "Processing Record 599 of Set 12 | baherden\n",
      "Processing Record 600 of Set 12 | la ronge\n",
      "City not found. Skipped...\n",
      "City not found. Skipped...\n",
      "City not found. Skipped...\n",
      "City not found. Skipped...\n"
     ]
    }
   ],
   "source": [
    "#Base URL to pull from:\n",
    "\n",
    "url = \"http://api.openweathermap.org/data/2.5/weather?units=Imperial&APPID=\" + weather_api_key\n",
    "\n",
    "cities_list = []\n",
    "\n",
    "\n",
    "for index, city in enumerate(cities):\n",
    "    try: \n",
    "            if (index <50):\n",
    "                print(f'Processing Record {index + 1} of Set {1}'\\\n",
    "                 f' | {city}')\n",
    "            if (index<100) & (index>50):\n",
    "                print(f'Processing Record {index + 1} of Set {2}'\\\n",
    "                f' | {city}')\n",
    "            if (index<150) & (index>100):\n",
    "                print(f'Processing Record {index + 1} of Set {3}'\\\n",
    "                f' | {city}')\n",
    "            if (index<200) & (index>150):\n",
    "                print(f'Processing Record {index + 1} of Set {4}'\\\n",
    "                 f' | {city}')\n",
    "            if (index<250) & (index>200):\n",
    "                print(f'Processing Record {index + 1} of Set {5}'\\\n",
    "                 f' | {city}')\n",
    "            if (index<300) & (index>250):\n",
    "                print(f'Processing Record {index + 1} of Set {6}'\\\n",
    "                 f' | {city}')\n",
    "            if (index<350) & (index>300):\n",
    "                print(f'Processing Record {index + 1} of Set {7}'\\\n",
    "                 f' | {city}')\n",
    "            if (index<400) & (index>350):\n",
    "                print(f'Processing Record {index + 1} of Set {8}'\\\n",
    "                 f' | {city}')\n",
    "            if (index<450) & (index>400):\n",
    "                print(f'Processing Record {index + 1} of Set {9}'\\\n",
    "                 f' | {city}')\n",
    "            if (index<500) & (index>450):\n",
    "                print(f'Processing Record {index + 1} of Set {10}'\\\n",
    "                 f' | {city}')\n",
    "            if (index<550) & (index>500):\n",
    "                print(f'Processing Record {index + 1} of Set {11}'\\\n",
    "                 f' | {city}')\n",
    "            if (index<600) & (index>550):\n",
    "                print(f'Processing Record {index + 1} of Set {12}'\\\n",
    "                 f' | {city}')\n",
    "    \n",
    "    #URL per city            \n",
    "            city_url = url + \"&q=\" + city \n",
    "    \n",
    "    \n",
    "    #Retrieve data\n",
    "            city_weather = requests.get(city_url).json()\n",
    "\n",
    "        # Parse out the max temp, humidity, and cloudiness\n",
    "            city_lat = city_weather[\"coord\"][\"lat\"]\n",
    "            city_lng = city_weather[\"coord\"][\"lon\"]\n",
    "            city_max_temp = city_weather[\"main\"][\"temp_max\"]\n",
    "            city_humidity = city_weather[\"main\"][\"humidity\"]\n",
    "            city_clouds = city_weather[\"clouds\"][\"all\"]\n",
    "            city_wind = city_weather[\"wind\"][\"speed\"]\n",
    "            city_country = city_weather[\"sys\"][\"country\"]\n",
    "            city_date = city_weather[\"dt\"]\n",
    "\n",
    "        # Append the City information into city_data list\n",
    "            cities_list.append({\"City\": city, \n",
    "                              \"Lat\": city_lat, \n",
    "                              \"Lng\": city_lng, \n",
    "                              \"Max Temp\": city_max_temp,\n",
    "                              \"Humidity\": city_humidity,\n",
    "                              \"Cloudiness\": city_clouds,\n",
    "                              \"Wind Speed\": city_wind,\n",
    "                              \"Country\": city_country,\n",
    "                              \"Date\": city_date}) \n",
    "    except:\n",
    "        print(\"City not found. Skipped...\")\n",
    "    pass\n"
   ]
  },
  {
   "cell_type": "markdown",
   "metadata": {},
   "source": [
    "### Convert Raw Data to DataFrame\n",
    "* Export the city data into a .csv.\n",
    "* Display the DataFrame"
   ]
  },
  {
   "cell_type": "code",
   "execution_count": 5,
   "metadata": {},
   "outputs": [
    {
     "name": "stdout",
     "output_type": "stream",
     "text": [
      "{'coord': {'lon': -120.6133, 'lat': 37.3894}, 'weather': [{'id': 800, 'main': 'Clear', 'description': 'clear sky', 'icon': '01n'}], 'base': 'stations', 'main': {'temp': 86.83, 'feels_like': 83.82, 'temp_min': 83.75, 'temp_max': 92.34, 'pressure': 1010, 'humidity': 24}, 'visibility': 10000, 'wind': {'speed': 12.66, 'deg': 300}, 'clouds': {'all': 1}, 'dt': 1623900640, 'sys': {'type': 1, 'id': 4865, 'country': 'US', 'sunrise': 1623847279, 'sunset': 1623900315}, 'timezone': -25200, 'id': 5410144, 'name': 'Winton', 'cod': 200}\n"
     ]
    }
   ],
   "source": [
    "print(city_weather)"
   ]
  },
  {
   "cell_type": "code",
   "execution_count": 6,
   "metadata": {},
   "outputs": [
    {
     "data": {
      "text/html": [
       "<div>\n",
       "<style scoped>\n",
       "    .dataframe tbody tr th:only-of-type {\n",
       "        vertical-align: middle;\n",
       "    }\n",
       "\n",
       "    .dataframe tbody tr th {\n",
       "        vertical-align: top;\n",
       "    }\n",
       "\n",
       "    .dataframe thead th {\n",
       "        text-align: right;\n",
       "    }\n",
       "</style>\n",
       "<table border=\"1\" class=\"dataframe\">\n",
       "  <thead>\n",
       "    <tr style=\"text-align: right;\">\n",
       "      <th></th>\n",
       "      <th>City</th>\n",
       "      <th>Lat</th>\n",
       "      <th>Lng</th>\n",
       "      <th>Max Temp</th>\n",
       "      <th>Humidity</th>\n",
       "      <th>Cloudiness</th>\n",
       "      <th>Wind Speed</th>\n",
       "      <th>Country</th>\n",
       "      <th>Date</th>\n",
       "    </tr>\n",
       "  </thead>\n",
       "  <tbody>\n",
       "    <tr>\n",
       "      <th>0</th>\n",
       "      <td>busselton</td>\n",
       "      <td>-33.6500</td>\n",
       "      <td>115.3333</td>\n",
       "      <td>59.04</td>\n",
       "      <td>64</td>\n",
       "      <td>0</td>\n",
       "      <td>6.96</td>\n",
       "      <td>AU</td>\n",
       "      <td>1623900407</td>\n",
       "    </tr>\n",
       "    <tr>\n",
       "      <th>1</th>\n",
       "      <td>punta arenas</td>\n",
       "      <td>-53.1500</td>\n",
       "      <td>-70.9167</td>\n",
       "      <td>28.51</td>\n",
       "      <td>93</td>\n",
       "      <td>0</td>\n",
       "      <td>6.91</td>\n",
       "      <td>CL</td>\n",
       "      <td>1623900272</td>\n",
       "    </tr>\n",
       "    <tr>\n",
       "      <th>2</th>\n",
       "      <td>carnarvon</td>\n",
       "      <td>-24.8667</td>\n",
       "      <td>113.6333</td>\n",
       "      <td>68.07</td>\n",
       "      <td>42</td>\n",
       "      <td>0</td>\n",
       "      <td>18.41</td>\n",
       "      <td>AU</td>\n",
       "      <td>1623900408</td>\n",
       "    </tr>\n",
       "    <tr>\n",
       "      <th>3</th>\n",
       "      <td>ribeira grande</td>\n",
       "      <td>38.5167</td>\n",
       "      <td>-28.7000</td>\n",
       "      <td>65.43</td>\n",
       "      <td>91</td>\n",
       "      <td>100</td>\n",
       "      <td>24.00</td>\n",
       "      <td>PT</td>\n",
       "      <td>1623900409</td>\n",
       "    </tr>\n",
       "    <tr>\n",
       "      <th>4</th>\n",
       "      <td>cape town</td>\n",
       "      <td>-33.9258</td>\n",
       "      <td>18.4232</td>\n",
       "      <td>59.41</td>\n",
       "      <td>89</td>\n",
       "      <td>75</td>\n",
       "      <td>1.01</td>\n",
       "      <td>ZA</td>\n",
       "      <td>1623900374</td>\n",
       "    </tr>\n",
       "  </tbody>\n",
       "</table>\n",
       "</div>"
      ],
      "text/plain": [
       "             City      Lat       Lng  Max Temp  Humidity  Cloudiness  \\\n",
       "0       busselton -33.6500  115.3333     59.04        64           0   \n",
       "1    punta arenas -53.1500  -70.9167     28.51        93           0   \n",
       "2       carnarvon -24.8667  113.6333     68.07        42           0   \n",
       "3  ribeira grande  38.5167  -28.7000     65.43        91         100   \n",
       "4       cape town -33.9258   18.4232     59.41        89          75   \n",
       "\n",
       "   Wind Speed Country        Date  \n",
       "0        6.96      AU  1623900407  \n",
       "1        6.91      CL  1623900272  \n",
       "2       18.41      AU  1623900408  \n",
       "3       24.00      PT  1623900409  \n",
       "4        1.01      ZA  1623900374  "
      ]
     },
     "execution_count": 6,
     "metadata": {},
     "output_type": "execute_result"
    }
   ],
   "source": [
    "city_df = pd.DataFrame(cities_list)\n",
    "city_df.head()"
   ]
  },
  {
   "cell_type": "code",
   "execution_count": 7,
   "metadata": {},
   "outputs": [
    {
     "data": {
      "text/plain": [
       "City          585\n",
       "Lat           585\n",
       "Lng           585\n",
       "Max Temp      585\n",
       "Humidity      585\n",
       "Cloudiness    585\n",
       "Wind Speed    585\n",
       "Country       585\n",
       "Date          585\n",
       "dtype: int64"
      ]
     },
     "execution_count": 7,
     "metadata": {},
     "output_type": "execute_result"
    }
   ],
   "source": [
    "city_df.count()"
   ]
  },
  {
   "cell_type": "code",
   "execution_count": 8,
   "metadata": {},
   "outputs": [],
   "source": [
    "city_df.to_csv(\"WeatherHW.csv\", index = False)"
   ]
  },
  {
   "cell_type": "code",
   "execution_count": 9,
   "metadata": {},
   "outputs": [
    {
     "data": {
      "text/html": [
       "<div>\n",
       "<style scoped>\n",
       "    .dataframe tbody tr th:only-of-type {\n",
       "        vertical-align: middle;\n",
       "    }\n",
       "\n",
       "    .dataframe tbody tr th {\n",
       "        vertical-align: top;\n",
       "    }\n",
       "\n",
       "    .dataframe thead th {\n",
       "        text-align: right;\n",
       "    }\n",
       "</style>\n",
       "<table border=\"1\" class=\"dataframe\">\n",
       "  <thead>\n",
       "    <tr style=\"text-align: right;\">\n",
       "      <th></th>\n",
       "      <th>City</th>\n",
       "      <th>Lat</th>\n",
       "      <th>Lng</th>\n",
       "      <th>Max Temp</th>\n",
       "      <th>Humidity</th>\n",
       "      <th>Cloudiness</th>\n",
       "      <th>Wind Speed</th>\n",
       "      <th>Country</th>\n",
       "      <th>Date</th>\n",
       "    </tr>\n",
       "  </thead>\n",
       "  <tbody>\n",
       "    <tr>\n",
       "      <th>0</th>\n",
       "      <td>busselton</td>\n",
       "      <td>-33.6500</td>\n",
       "      <td>115.3333</td>\n",
       "      <td>59.04</td>\n",
       "      <td>64</td>\n",
       "      <td>0</td>\n",
       "      <td>6.96</td>\n",
       "      <td>AU</td>\n",
       "      <td>1623900407</td>\n",
       "    </tr>\n",
       "    <tr>\n",
       "      <th>1</th>\n",
       "      <td>punta arenas</td>\n",
       "      <td>-53.1500</td>\n",
       "      <td>-70.9167</td>\n",
       "      <td>28.51</td>\n",
       "      <td>93</td>\n",
       "      <td>0</td>\n",
       "      <td>6.91</td>\n",
       "      <td>CL</td>\n",
       "      <td>1623900272</td>\n",
       "    </tr>\n",
       "    <tr>\n",
       "      <th>2</th>\n",
       "      <td>carnarvon</td>\n",
       "      <td>-24.8667</td>\n",
       "      <td>113.6333</td>\n",
       "      <td>68.07</td>\n",
       "      <td>42</td>\n",
       "      <td>0</td>\n",
       "      <td>18.41</td>\n",
       "      <td>AU</td>\n",
       "      <td>1623900408</td>\n",
       "    </tr>\n",
       "    <tr>\n",
       "      <th>3</th>\n",
       "      <td>ribeira grande</td>\n",
       "      <td>38.5167</td>\n",
       "      <td>-28.7000</td>\n",
       "      <td>65.43</td>\n",
       "      <td>91</td>\n",
       "      <td>100</td>\n",
       "      <td>24.00</td>\n",
       "      <td>PT</td>\n",
       "      <td>1623900409</td>\n",
       "    </tr>\n",
       "    <tr>\n",
       "      <th>4</th>\n",
       "      <td>cape town</td>\n",
       "      <td>-33.9258</td>\n",
       "      <td>18.4232</td>\n",
       "      <td>59.41</td>\n",
       "      <td>89</td>\n",
       "      <td>75</td>\n",
       "      <td>1.01</td>\n",
       "      <td>ZA</td>\n",
       "      <td>1623900374</td>\n",
       "    </tr>\n",
       "    <tr>\n",
       "      <th>...</th>\n",
       "      <td>...</td>\n",
       "      <td>...</td>\n",
       "      <td>...</td>\n",
       "      <td>...</td>\n",
       "      <td>...</td>\n",
       "      <td>...</td>\n",
       "      <td>...</td>\n",
       "      <td>...</td>\n",
       "      <td>...</td>\n",
       "    </tr>\n",
       "    <tr>\n",
       "      <th>580</th>\n",
       "      <td>longkou</td>\n",
       "      <td>37.6508</td>\n",
       "      <td>120.3286</td>\n",
       "      <td>65.93</td>\n",
       "      <td>94</td>\n",
       "      <td>100</td>\n",
       "      <td>6.78</td>\n",
       "      <td>CN</td>\n",
       "      <td>1623900639</td>\n",
       "    </tr>\n",
       "    <tr>\n",
       "      <th>581</th>\n",
       "      <td>derzhavinsk</td>\n",
       "      <td>51.1000</td>\n",
       "      <td>66.3167</td>\n",
       "      <td>88.02</td>\n",
       "      <td>21</td>\n",
       "      <td>60</td>\n",
       "      <td>8.30</td>\n",
       "      <td>KZ</td>\n",
       "      <td>1623900639</td>\n",
       "    </tr>\n",
       "    <tr>\n",
       "      <th>582</th>\n",
       "      <td>verkhniye sergi</td>\n",
       "      <td>56.6469</td>\n",
       "      <td>59.5556</td>\n",
       "      <td>68.18</td>\n",
       "      <td>70</td>\n",
       "      <td>83</td>\n",
       "      <td>10.71</td>\n",
       "      <td>RU</td>\n",
       "      <td>1623900640</td>\n",
       "    </tr>\n",
       "    <tr>\n",
       "      <th>583</th>\n",
       "      <td>nuuk</td>\n",
       "      <td>64.1835</td>\n",
       "      <td>-51.7216</td>\n",
       "      <td>38.01</td>\n",
       "      <td>93</td>\n",
       "      <td>20</td>\n",
       "      <td>5.75</td>\n",
       "      <td>GL</td>\n",
       "      <td>1623900640</td>\n",
       "    </tr>\n",
       "    <tr>\n",
       "      <th>584</th>\n",
       "      <td>winton</td>\n",
       "      <td>37.3894</td>\n",
       "      <td>-120.6133</td>\n",
       "      <td>92.34</td>\n",
       "      <td>24</td>\n",
       "      <td>1</td>\n",
       "      <td>12.66</td>\n",
       "      <td>US</td>\n",
       "      <td>1623900640</td>\n",
       "    </tr>\n",
       "  </tbody>\n",
       "</table>\n",
       "<p>585 rows × 9 columns</p>\n",
       "</div>"
      ],
      "text/plain": [
       "                City      Lat       Lng  Max Temp  Humidity  Cloudiness  \\\n",
       "0          busselton -33.6500  115.3333     59.04        64           0   \n",
       "1       punta arenas -53.1500  -70.9167     28.51        93           0   \n",
       "2          carnarvon -24.8667  113.6333     68.07        42           0   \n",
       "3     ribeira grande  38.5167  -28.7000     65.43        91         100   \n",
       "4          cape town -33.9258   18.4232     59.41        89          75   \n",
       "..               ...      ...       ...       ...       ...         ...   \n",
       "580          longkou  37.6508  120.3286     65.93        94         100   \n",
       "581      derzhavinsk  51.1000   66.3167     88.02        21          60   \n",
       "582  verkhniye sergi  56.6469   59.5556     68.18        70          83   \n",
       "583             nuuk  64.1835  -51.7216     38.01        93          20   \n",
       "584           winton  37.3894 -120.6133     92.34        24           1   \n",
       "\n",
       "     Wind Speed Country        Date  \n",
       "0          6.96      AU  1623900407  \n",
       "1          6.91      CL  1623900272  \n",
       "2         18.41      AU  1623900408  \n",
       "3         24.00      PT  1623900409  \n",
       "4          1.01      ZA  1623900374  \n",
       "..          ...     ...         ...  \n",
       "580        6.78      CN  1623900639  \n",
       "581        8.30      KZ  1623900639  \n",
       "582       10.71      RU  1623900640  \n",
       "583        5.75      GL  1623900640  \n",
       "584       12.66      US  1623900640  \n",
       "\n",
       "[585 rows x 9 columns]"
      ]
     },
     "execution_count": 9,
     "metadata": {},
     "output_type": "execute_result"
    }
   ],
   "source": [
    "city_df"
   ]
  },
  {
   "cell_type": "markdown",
   "metadata": {},
   "source": [
    "## Inspect the data and remove the cities where the humidity > 100%.\n",
    "----\n",
    "Skip this step if there are no cities that have humidity > 100%. "
   ]
  },
  {
   "cell_type": "code",
   "execution_count": 10,
   "metadata": {},
   "outputs": [
    {
     "data": {
      "text/html": [
       "<div>\n",
       "<style scoped>\n",
       "    .dataframe tbody tr th:only-of-type {\n",
       "        vertical-align: middle;\n",
       "    }\n",
       "\n",
       "    .dataframe tbody tr th {\n",
       "        vertical-align: top;\n",
       "    }\n",
       "\n",
       "    .dataframe thead th {\n",
       "        text-align: right;\n",
       "    }\n",
       "</style>\n",
       "<table border=\"1\" class=\"dataframe\">\n",
       "  <thead>\n",
       "    <tr style=\"text-align: right;\">\n",
       "      <th></th>\n",
       "      <th>Lat</th>\n",
       "      <th>Lng</th>\n",
       "      <th>Max Temp</th>\n",
       "      <th>Humidity</th>\n",
       "      <th>Cloudiness</th>\n",
       "      <th>Wind Speed</th>\n",
       "      <th>Date</th>\n",
       "    </tr>\n",
       "  </thead>\n",
       "  <tbody>\n",
       "    <tr>\n",
       "      <th>count</th>\n",
       "      <td>585.000000</td>\n",
       "      <td>585.000000</td>\n",
       "      <td>585.000000</td>\n",
       "      <td>585.000000</td>\n",
       "      <td>585.000000</td>\n",
       "      <td>585.000000</td>\n",
       "      <td>5.850000e+02</td>\n",
       "    </tr>\n",
       "    <tr>\n",
       "      <th>mean</th>\n",
       "      <td>20.978004</td>\n",
       "      <td>19.427973</td>\n",
       "      <td>67.407436</td>\n",
       "      <td>70.205128</td>\n",
       "      <td>53.121368</td>\n",
       "      <td>7.980479</td>\n",
       "      <td>1.623901e+09</td>\n",
       "    </tr>\n",
       "    <tr>\n",
       "      <th>std</th>\n",
       "      <td>33.323761</td>\n",
       "      <td>92.655006</td>\n",
       "      <td>14.600610</td>\n",
       "      <td>21.179006</td>\n",
       "      <td>39.018050</td>\n",
       "      <td>5.570166</td>\n",
       "      <td>8.779074e+01</td>\n",
       "    </tr>\n",
       "    <tr>\n",
       "      <th>min</th>\n",
       "      <td>-54.800000</td>\n",
       "      <td>-179.166700</td>\n",
       "      <td>22.950000</td>\n",
       "      <td>1.000000</td>\n",
       "      <td>0.000000</td>\n",
       "      <td>0.000000</td>\n",
       "      <td>1.623900e+09</td>\n",
       "    </tr>\n",
       "    <tr>\n",
       "      <th>25%</th>\n",
       "      <td>-6.134900</td>\n",
       "      <td>-65.712500</td>\n",
       "      <td>57.520000</td>\n",
       "      <td>61.000000</td>\n",
       "      <td>8.000000</td>\n",
       "      <td>3.710000</td>\n",
       "      <td>1.623900e+09</td>\n",
       "    </tr>\n",
       "    <tr>\n",
       "      <th>50%</th>\n",
       "      <td>26.466700</td>\n",
       "      <td>24.662200</td>\n",
       "      <td>68.630000</td>\n",
       "      <td>75.000000</td>\n",
       "      <td>60.000000</td>\n",
       "      <td>6.910000</td>\n",
       "      <td>1.623901e+09</td>\n",
       "    </tr>\n",
       "    <tr>\n",
       "      <th>75%</th>\n",
       "      <td>50.033300</td>\n",
       "      <td>102.500000</td>\n",
       "      <td>78.530000</td>\n",
       "      <td>86.000000</td>\n",
       "      <td>93.000000</td>\n",
       "      <td>11.010000</td>\n",
       "      <td>1.623901e+09</td>\n",
       "    </tr>\n",
       "    <tr>\n",
       "      <th>max</th>\n",
       "      <td>78.218600</td>\n",
       "      <td>179.316700</td>\n",
       "      <td>106.270000</td>\n",
       "      <td>100.000000</td>\n",
       "      <td>100.000000</td>\n",
       "      <td>30.240000</td>\n",
       "      <td>1.623901e+09</td>\n",
       "    </tr>\n",
       "  </tbody>\n",
       "</table>\n",
       "</div>"
      ],
      "text/plain": [
       "              Lat         Lng    Max Temp    Humidity  Cloudiness  Wind Speed  \\\n",
       "count  585.000000  585.000000  585.000000  585.000000  585.000000  585.000000   \n",
       "mean    20.978004   19.427973   67.407436   70.205128   53.121368    7.980479   \n",
       "std     33.323761   92.655006   14.600610   21.179006   39.018050    5.570166   \n",
       "min    -54.800000 -179.166700   22.950000    1.000000    0.000000    0.000000   \n",
       "25%     -6.134900  -65.712500   57.520000   61.000000    8.000000    3.710000   \n",
       "50%     26.466700   24.662200   68.630000   75.000000   60.000000    6.910000   \n",
       "75%     50.033300  102.500000   78.530000   86.000000   93.000000   11.010000   \n",
       "max     78.218600  179.316700  106.270000  100.000000  100.000000   30.240000   \n",
       "\n",
       "               Date  \n",
       "count  5.850000e+02  \n",
       "mean   1.623901e+09  \n",
       "std    8.779074e+01  \n",
       "min    1.623900e+09  \n",
       "25%    1.623900e+09  \n",
       "50%    1.623901e+09  \n",
       "75%    1.623901e+09  \n",
       "max    1.623901e+09  "
      ]
     },
     "execution_count": 10,
     "metadata": {},
     "output_type": "execute_result"
    }
   ],
   "source": [
    "city_df.describe()"
   ]
  },
  {
   "cell_type": "code",
   "execution_count": 11,
   "metadata": {},
   "outputs": [],
   "source": [
    "#NO City with humidity above 100%"
   ]
  },
  {
   "cell_type": "markdown",
   "metadata": {},
   "source": [
    "## Plotting the Data\n",
    "* Use proper labeling of the plots using plot titles (including date of analysis) and axes labels.\n",
    "* Save the plotted figures as .pngs."
   ]
  },
  {
   "cell_type": "markdown",
   "metadata": {},
   "source": [
    "## Latitude vs. Temperature Plot"
   ]
  },
  {
   "cell_type": "code",
   "execution_count": 35,
   "metadata": {
    "scrolled": true
   },
   "outputs": [
    {
     "name": "stderr",
     "output_type": "stream",
     "text": [
      "<ipython-input-35-5eb876ec5480>:4: MatplotlibDeprecationWarning: savefig() got unexpected keyword argument \"replace\" which is no longer supported as of 3.3 and will become an error two minor releases later\n",
      "  plt.savefig(\"../output_data/Fig1.png\", replace = True)\n"
     ]
    },
    {
     "data": {
      "text/plain": [
       "<function matplotlib.pyplot.show(close=None, block=None)>"
      ]
     },
     "execution_count": 35,
     "metadata": {},
     "output_type": "execute_result"
    },
    {
     "data": {
      "image/png": "[encoded data removed]",
      "text/plain": [
       "<Figure size 432x288 with 1 Axes>"
      ]
     },
     "metadata": {
      "needs_background": "light"
     },
     "output_type": "display_data"
    }
   ],
   "source": [
    "latitude = city_df[\"Lat\"]\n",
    "temperature = city_df[\"Max Temp\"]\n",
    "#Plot the lat vs max temp\n",
    "\n",
    "plt.xlabel(\"Latitude\")\n",
    "plt.ylabel(\"Max Temperature (F)\")\n",
    "plt.title(\"Latitude vs. Temperature\")\n",
    "plt.scatter(latitude, temperature, color = \"red\", edgecolors = \"black\")\n",
    "plt.savefig(\"../output_data/Fig1.png\")\n",
    "plt.show"
   ]
  },
  {
   "cell_type": "markdown",
   "metadata": {
    "tags": []
   },
   "source": [
    "In the plot above we see the correlation between the latitude of a city and their respective highest recorded temperature. We can clearly see that the highest temperatures are recorded nearest the latitude value of zero in an upside down parabola. We can understand this correlation in a higher level by understanding that the latitude value of zero represents the Equator while the outter extremities are the North and South Poles."
   ]
  },
  {
   "cell_type": "markdown",
   "metadata": {},
   "source": [
    "## Latitude vs. Humidity Plot"
   ]
  },
  {
   "cell_type": "code",
   "execution_count": 13,
   "metadata": {},
   "outputs": [
    {
     "data": {
      "text/plain": [
       "<function matplotlib.pyplot.show(close=None, block=None)>"
      ]
     },
     "execution_count": 13,
     "metadata": {},
     "output_type": "execute_result"
    },
    {
     "data": {
      "image/png": "[encoded data removed]",
      "text/plain": [
       "<Figure size 432x288 with 1 Axes>"
      ]
     },
     "metadata": {
      "needs_background": "light"
     },
     "output_type": "display_data"
    }
   ],
   "source": [
    "humidity = city_df[\"Humidity\"]\n",
    "\n",
    "plt.xlabel(\"Latitude\"),\n",
    "plt.ylabel(\"Humidity %\"),\n",
    "plt.title(\"Latitude vs. Humidity\"),\n",
    "plt.scatter(latitude, humidity, edgecolors= \"black\"),\n",
    "plt.savefig(\"../output_data/Fig2.png\")\n",
    "plt.show\n"
   ]
  },
  {
   "cell_type": "markdown",
   "metadata": {},
   "source": [
    "There seems to be more humidity in cities with a negative Latitude value with all values plotted having more than 25 percent humidity. The cities with a positive latitude tend to have a much more spread out range of humidity percentages but many of them do fall under the 25% value. In essence, there is usually more rain in the Southern Hemisphere or at least more humidity."
   ]
  },
  {
   "cell_type": "markdown",
   "metadata": {},
   "source": [
    "## Latitude vs. Cloudiness Plot"
   ]
  },
  {
   "cell_type": "code",
   "execution_count": 28,
   "metadata": {},
   "outputs": [
    {
     "data": {
      "text/plain": [
       "<function matplotlib.pyplot.show(close=None, block=None)>"
      ]
     },
     "execution_count": 28,
     "metadata": {},
     "output_type": "execute_result"
    },
    {
     "data": {
      "image/png": "[encoded data removed]",
      "text/plain": [
       "<Figure size 432x288 with 1 Axes>"
      ]
     },
     "metadata": {
      "needs_background": "light"
     },
     "output_type": "display_data"
    }
   ],
   "source": [
    "cloudiness = city_df[\"Cloudiness\"]\n",
    "\n",
    "plt.xlabel(\"Latitude\"),\n",
    "plt.ylabel(\"Cloudiness %\"),\n",
    "plt.title(\"Latitude vs. Cloudiness\"),\n",
    "plt.scatter(latitude, cloudiness, color = \"gray\", edgecolors = \"black\"),\n",
    "plt.savefig(\"../output_data/Fig3.png\")\n",
    "plt.show"
   ]
  },
  {
   "cell_type": "markdown",
   "metadata": {},
   "source": [
    "No apparent correlation can be determined between latitude and cloudiness!"
   ]
  },
  {
   "cell_type": "markdown",
   "metadata": {},
   "source": [
    "## Latitude vs. Wind Speed Plot"
   ]
  },
  {
   "cell_type": "code",
   "execution_count": 15,
   "metadata": {},
   "outputs": [
    {
     "data": {
      "text/plain": [
       "<function matplotlib.pyplot.show(close=None, block=None)>"
      ]
     },
     "execution_count": 15,
     "metadata": {},
     "output_type": "execute_result"
    },
    {
     "data": {
      "image/png": "[encoded data removed]",
      "text/plain": [
       "<Figure size 432x288 with 1 Axes>"
      ]
     },
     "metadata": {
      "needs_background": "light"
     },
     "output_type": "display_data"
    }
   ],
   "source": [
    "wind_speed = city_df[\"Wind Speed\"]\n",
    "\n",
    "plt.xlabel(\"Latitude\"),\n",
    "plt.ylabel(\"Wind Speed\"),\n",
    "plt.title(\"Latitude vs. Wind Speed\"),\n",
    "plt.scatter(latitude, wind_speed, color = \"white\", edgecolors = \"gray\"),\n",
    "plt.grid(),\n",
    "plt.savefig(\"../output_data/Fig4.png\")\n",
    "plt.show"
   ]
  },
  {
   "cell_type": "markdown",
   "metadata": {},
   "source": [
    "Most cities do not experience high wind speeds and typically fall under a value of 12. There is a good amount of cities with higher wind speed values but they are not as prevalent. Ultimately, there is no correlation between latitude and wind speed."
   ]
  },
  {
   "cell_type": "markdown",
   "metadata": {},
   "source": [
    "## Linear Regression"
   ]
  },
  {
   "cell_type": "code",
   "execution_count": 16,
   "metadata": {},
   "outputs": [],
   "source": [
    "#Separate Northern and Southern hemispheres\n",
    "\n",
    "north_df = city_df.loc[(city_df[\"Lat\"] > 0)].dropna()\n",
    "south_df = city_df.loc[(city_df[\"Lat\"] < 0)].dropna()"
   ]
  },
  {
   "cell_type": "markdown",
   "metadata": {},
   "source": [
    "####  Northern Hemisphere - Max Temp vs. Latitude Linear Regression"
   ]
  },
  {
   "cell_type": "code",
   "execution_count": 17,
   "metadata": {},
   "outputs": [
    {
     "name": "stdout",
     "output_type": "stream",
     "text": [
      "The r value is:  -0.7400445431414086\n",
      "Temperature has a negative Linear Regression correlation with latitude. As you travel higher North the temperature decreases!\n"
     ]
    },
    {
     "data": {
      "image/png": "[encoded data removed]",
      "text/plain": [
       "<Figure size 432x288 with 1 Axes>"
      ]
     },
     "metadata": {
      "needs_background": "light"
     },
     "output_type": "display_data"
    }
   ],
   "source": [
    "northlat = north_df[\"Lat\"]\n",
    "northtemp = north_df[\"Max Temp\"]\n",
    "\n",
    "\n",
    "(slope, intercept, rvalue, pvalue, stderr) = linregress(northlat, northtemp)\n",
    "print(\"The r value is: \", rvalue)\n",
    "line_eq = northlat * slope + intercept\n",
    "plt.xlabel(\"Latitude\")\n",
    "plt.ylabel(\"Max Temperature (F)\")\n",
    "plt.title(\"Latitude vs. Temperature\")\n",
    "plt.scatter(northlat, northtemp, color = \"red\", edgecolors = \"black\")\n",
    "plt.plot(northlat, line_eq, color = \"green\")\n",
    "plt.show\n",
    "\n",
    "print(\"Temperature has a negative Linear Regression correlation with latitude. As you travel higher North the temperature decreases!\" )"
   ]
  },
  {
   "cell_type": "markdown",
   "metadata": {},
   "source": [
    "####  Southern Hemisphere - Max Temp vs. Latitude Linear Regression"
   ]
  },
  {
   "cell_type": "code",
   "execution_count": 18,
   "metadata": {},
   "outputs": [
    {
     "name": "stdout",
     "output_type": "stream",
     "text": [
      "The r value is:  0.7743502075276005\n",
      "Temperature has a positive Linear Regression correlation with latitude. As you travel towards the Equator the temperature increases!\n"
     ]
    },
    {
     "data": {
      "image/png": "[encoded data removed]",
      "text/plain": [
       "<Figure size 432x288 with 1 Axes>"
      ]
     },
     "metadata": {
      "needs_background": "light"
     },
     "output_type": "display_data"
    }
   ],
   "source": [
    "southlat = south_df[\"Lat\"]\n",
    "southtemp = south_df[\"Max Temp\"]\n",
    "\n",
    "\n",
    "(slope, intercept, rvalue, pvalue, stderr) = linregress(southlat, southtemp)\n",
    "print(\"The r value is: \", rvalue)\n",
    "line_eq2 = southlat * slope + intercept\n",
    "plt.xlabel(\"Latitude\")\n",
    "plt.ylabel(\"Max Temperature (F)\")\n",
    "plt.title(\"Latitude vs. Temperature\")\n",
    "plt.scatter(southlat, southtemp, color = \"red\", edgecolors = \"black\")\n",
    "plt.plot(southlat, line_eq2, color = \"green\")\n",
    "plt.show\n",
    "\n",
    "print(\"Temperature has a positive Linear Regression correlation with latitude. As you travel towards the Equator the temperature increases!\" )"
   ]
  },
  {
   "cell_type": "markdown",
   "metadata": {},
   "source": [
    "####  Northern Hemisphere - Humidity (%) vs. Latitude Linear Regression"
   ]
  },
  {
   "cell_type": "code",
   "execution_count": 19,
   "metadata": {},
   "outputs": [
    {
     "name": "stdout",
     "output_type": "stream",
     "text": [
      "The r value is:  -0.03526095832176361\n",
      "Humidity has a slightly negative Linear Regression correlation with latitude. As you travel higher North the humidity decreases!\n"
     ]
    },
    {
     "data": {
      "image/png": "[encoded data removed]",
      "text/plain": [
       "<Figure size 432x288 with 1 Axes>"
      ]
     },
     "metadata": {
      "needs_background": "light"
     },
     "output_type": "display_data"
    }
   ],
   "source": [
    "northhum = north_df[\"Humidity\"]\n",
    "\n",
    "\n",
    "(slope, intercept, rvalue, pvalue, stderr) = linregress(northlat, northhum)\n",
    "print(\"The r value is: \", rvalue)\n",
    "line_eq3 = northlat * slope + intercept\n",
    "plt.xlabel(\"Latitude\")\n",
    "plt.ylabel(\"Humidity %\")\n",
    "plt.title(\"Latitude vs. Humidity\")\n",
    "plt.scatter(northlat, northhum, color = \"blue\", edgecolors = \"black\")\n",
    "plt.plot(northlat, line_eq3, color = \"red\")\n",
    "plt.show\n",
    "\n",
    "print(\"Humidity has a slightly negative Linear Regression correlation with latitude. As you travel higher North the humidity decreases!\" )"
   ]
  },
  {
   "cell_type": "markdown",
   "metadata": {},
   "source": [
    "####  Southern Hemisphere - Humidity (%) vs. Latitude Linear Regression"
   ]
  },
  {
   "cell_type": "code",
   "execution_count": 20,
   "metadata": {},
   "outputs": [
    {
     "name": "stdout",
     "output_type": "stream",
     "text": [
      "The r value is:  0.13511528294218714\n",
      "Humidity has no correlation with latitude!\n"
     ]
    },
    {
     "data": {
      "image/png": "[encoded data removed]",
      "text/plain": [
       "<Figure size 432x288 with 1 Axes>"
      ]
     },
     "metadata": {
      "needs_background": "light"
     },
     "output_type": "display_data"
    }
   ],
   "source": [
    "southhum = south_df[\"Humidity\"]\n",
    "\n",
    "\n",
    "(slope, intercept, rvalue, pvalue, stderr) = linregress(southlat, southhum)\n",
    "print(\"The r value is: \", rvalue)\n",
    "line_eq = southlat * slope + intercept\n",
    "plt.xlabel(\"Latitude\")\n",
    "plt.ylabel(\"Humidity %\")\n",
    "plt.title(\"Latitude vs. Humidity\")\n",
    "plt.scatter(southlat, southhum, color = \"blue\", edgecolors = \"black\")\n",
    "plt.plot(southlat, line_eq, color = \"red\")\n",
    "plt.show\n",
    "\n",
    "print(\"Humidity has no correlation with latitude!\" )"
   ]
  },
  {
   "cell_type": "markdown",
   "metadata": {},
   "source": [
    "####  Northern Hemisphere - Cloudiness (%) vs. Latitude Linear Regression"
   ]
  },
  {
   "cell_type": "code",
   "execution_count": 21,
   "metadata": {},
   "outputs": [
    {
     "name": "stdout",
     "output_type": "stream",
     "text": [
      "The r value is:  0.0010407564833052356\n",
      "Humidity has a slightly negative Linear Regression correlation with latitude. As you travel higher North the cloudiness decreases!\n"
     ]
    },
    {
     "data": {
      "image/png": "[encoded data removed]",
      "text/plain": [
       "<Figure size 432x288 with 1 Axes>"
      ]
     },
     "metadata": {
      "needs_background": "light"
     },
     "output_type": "display_data"
    }
   ],
   "source": [
    "northclo = north_df[\"Cloudiness\"]\n",
    "\n",
    "\n",
    "(slope, intercept, rvalue, pvalue, stderr) = linregress(northlat, northclo)\n",
    "print(\"The r value is: \", rvalue)\n",
    "line_eq = northlat * slope + intercept\n",
    "plt.xlabel(\"Latitude\")\n",
    "plt.ylabel(\"Cloudiness\")\n",
    "plt.title(\"Latitude vs. Cloudiness\")\n",
    "plt.scatter(northlat, northclo, color = \"gray\", edgecolors = \"black\")\n",
    "plt.plot(northlat, line_eq, color = \"red\")\n",
    "plt.show\n",
    "\n",
    "print(\"Humidity has a slightly negative Linear Regression correlation with latitude. As you travel higher North the cloudiness decreases!\" )"
   ]
  },
  {
   "cell_type": "markdown",
   "metadata": {},
   "source": [
    "####  Southern Hemisphere - Cloudiness (%) vs. Latitude Linear Regression"
   ]
  },
  {
   "cell_type": "code",
   "execution_count": 22,
   "metadata": {},
   "outputs": [
    {
     "name": "stdout",
     "output_type": "stream",
     "text": [
      "The r value is:  0.11344303001949987\n",
      "Humidity has a slightly positive Linear Regression correlation with latitude. As you travel North to the Equator the cloudiness increases!\n"
     ]
    },
    {
     "data": {
      "image/png": "[encoded data removed]",
      "text/plain": [
       "<Figure size 432x288 with 1 Axes>"
      ]
     },
     "metadata": {
      "needs_background": "light"
     },
     "output_type": "display_data"
    }
   ],
   "source": [
    "southclo = south_df[\"Cloudiness\"]\n",
    "\n",
    "\n",
    "(slope, intercept, rvalue, pvalue, stderr) = linregress(southlat, southclo)\n",
    "print(\"The r value is: \", rvalue)\n",
    "line_eq = southlat * slope + intercept\n",
    "plt.xlabel(\"Latitude\")\n",
    "plt.ylabel(\"Cloudiness\")\n",
    "plt.title(\"Latitude vs. Cloudiness\")\n",
    "plt.scatter(southlat, southclo, color = \"gray\", edgecolors = \"black\")\n",
    "plt.plot(southlat, line_eq, color = \"red\")\n",
    "plt.show\n",
    "\n",
    "print(\"Humidity has a slightly positive Linear Regression correlation with latitude. As you travel North to the Equator the cloudiness increases!\" )"
   ]
  },
  {
   "cell_type": "markdown",
   "metadata": {},
   "source": [
    "####  Northern Hemisphere - Wind Speed (mph) vs. Latitude Linear Regression"
   ]
  },
  {
   "cell_type": "code",
   "execution_count": 23,
   "metadata": {},
   "outputs": [
    {
     "name": "stdout",
     "output_type": "stream",
     "text": [
      "The r value is:  0.12057976308360635\n",
      "Humidity has a slightly positive Linear Regression correlation with latitude. As you travel higher North the wind speed in cities increases!\n"
     ]
    },
    {
     "data": {
      "image/png": "[encoded data removed]",
      "text/plain": [
       "<Figure size 432x288 with 1 Axes>"
      ]
     },
     "metadata": {
      "needs_background": "light"
     },
     "output_type": "display_data"
    }
   ],
   "source": [
    "northWS = north_df[\"Wind Speed\"]\n",
    "\n",
    "\n",
    "(slope, intercept, rvalue, pvalue, stderr) = linregress(northlat, northWS)\n",
    "print(\"The r value is: \", rvalue)\n",
    "line_eq = northlat * slope + intercept\n",
    "plt.xlabel(\"Latitude\")\n",
    "plt.ylabel(\"Wind Speed\")\n",
    "plt.title(\"Latitude vs. Wind Speed\")\n",
    "plt.scatter(northlat, northWS, color = \"white\", edgecolors = \"gray\")\n",
    "plt.plot(northlat, line_eq, color = \"blue\")\n",
    "plt.show\n",
    "\n",
    "print(\"Humidity has a slightly positive Linear Regression correlation with latitude. As you travel higher North the wind speed in cities increases!\" )"
   ]
  },
  {
   "cell_type": "markdown",
   "metadata": {},
   "source": [
    "####  Southern Hemisphere - Wind Speed (mph) vs. Latitude Linear Regression"
   ]
  },
  {
   "cell_type": "code",
   "execution_count": 24,
   "metadata": {},
   "outputs": [
    {
     "name": "stdout",
     "output_type": "stream",
     "text": [
      "The r value is:  -0.027611700316142383\n",
      "Humidity has a negative Linear Regression correlation with latitude. As you travel North toward the Equator the wind speed in cities decreases!\n"
     ]
    },
    {
     "data": {
      "image/png": "[encoded data removed]",
      "text/plain": [
       "<Figure size 432x288 with 1 Axes>"
      ]
     },
     "metadata": {
      "needs_background": "light"
     },
     "output_type": "display_data"
    }
   ],
   "source": [
    "southWS = south_df[\"Wind Speed\"]\n",
    "\n",
    "\n",
    "(slope, intercept, rvalue, pvalue, stderr) = linregress(southlat, southWS)\n",
    "print(\"The r value is: \", rvalue)\n",
    "line_eq = southlat * slope + intercept\n",
    "plt.xlabel(\"Latitude\")\n",
    "plt.ylabel(\"Wind Speed\")\n",
    "plt.title(\"Latitude vs. Wind Speed\")\n",
    "plt.scatter(southlat, southWS, color = \"white\", edgecolors = \"gray\")\n",
    "plt.plot(southlat, line_eq, color = \"blue\")\n",
    "plt.show\n",
    "\n",
    "print(\"Humidity has a negative Linear Regression correlation with latitude. As you travel North toward the Equator the wind speed in cities decreases!\" )"
   ]
  },
  {
   "cell_type": "code",
   "execution_count": null,
   "metadata": {},
   "outputs": [],
   "source": []
  }
 ],
 "metadata": {
  "anaconda-cloud": {},
  "kernel_info": {
   "name": "python3"
  },
  "kernelspec": {
   "display_name": "Python 3",
   "language": "python",
   "name": "python3"
  },
  "language_info": {
   "codemirror_mode": {
    "name": "ipython",
    "version": 3
   },
   "file_extension": ".py",
   "mimetype": "text/x-python",
   "name": "python",
   "nbconvert_exporter": "python",
   "pygments_lexer": "ipython3",
   "version": "3.8.8"
  },
  "latex_envs": {
   "LaTeX_envs_menu_present": true,
   "autoclose": false,
   "autocomplete": true,
   "bibliofile": "biblio.bib",
   "cite_by": "apalike",
   "current_citInitial": 1,
   "eqLabelWithNumbers": true,
   "eqNumInitial": 1,
   "hotkeys": {
    "equation": "Ctrl-E",
    "itemize": "Ctrl-I"
   },
   "labels_anchors": false,
   "latex_user_defs": false,
   "report_style_numbering": false,
   "user_envs_cfg": false
  },
  "nteract": {
   "version": "0.12.3"
  }
 },
 "nbformat": 4,
 "nbformat_minor": 4
}
